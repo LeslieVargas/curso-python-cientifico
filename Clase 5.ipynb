{
 "metadata": {
  "name": "",
  "signature": "sha256:3d587ab4a595c3d11b01bef7d35bbe4b92280a68e874510ddc37e75adb2c0fc1"
 },
 "nbformat": 3,
 "nbformat_minor": 0,
 "worksheets": [
  {
   "cells": [
    {
     "cell_type": "markdown",
     "metadata": {},
     "source": [
      "# Introducci\u00f3n a Python para ciencias e ingenier\u00edas (notebook 3)\n",
      "\n",
      "\n",
      "Ing. Mart\u00edn Gait\u00e1n (Phasety)\n",
      "\n",
      "\n",
      "![](img/logo_small.png)\n",
      "\n",
      "--------"
     ]
    },
    {
     "cell_type": "heading",
     "level": 1,
     "metadata": {},
     "source": [
      "\u00a1Bienvenidos a SymPy!"
     ]
    },
    {
     "cell_type": "markdown",
     "metadata": {},
     "source": [
      "SymPy es una biblioteca Python para matem\u00e1tica simb\u00f3lica, similar a software como Mathematica o Mathcad. La documentaci\u00f3n se encuentra en http://sympy.org/ . \n",
      "\n",
      "En Anaconda ya viene instalado. En linux se puede instalar la \u00faltima versi\u00f3n via `pip`\n",
      "\n",
      "        sudo pip install sympy "
     ]
    },
    {
     "cell_type": "markdown",
     "metadata": {},
     "source": [
      "## Arranquemos \n",
      "\n",
      "Pero antes, hagamos que se vea bonito. En SymPy uno escribe matem\u00e1tica, entonces es bueno que **se vea** como tal. "
     ]
    },
    {
     "cell_type": "code",
     "collapsed": false,
     "input": [
      "from sympy import *         # Importamos todo!\n",
      "from sympy.interactive import printing\n",
      "printing.init_printing()"
     ],
     "language": "python",
     "metadata": {},
     "outputs": [],
     "prompt_number": 1
    },
    {
     "cell_type": "markdown",
     "metadata": {},
     "source": [
      "Esa funci\u00f3n inicializa el output en le mejor modo disponible en el entorno. Como los notebooks saben mostrar LaTex, lo har\u00e1 as\u00ed, mostrando *outputs* muy bonitos."
     ]
    },
    {
     "cell_type": "heading",
     "level": 2,
     "metadata": {},
     "source": [
      "Los primeros pasos: usar SymPy como una calculadora"
     ]
    },
    {
     "cell_type": "markdown",
     "metadata": {},
     "source": [
      "SymPy tiene tres tipos de datos predefinidos: el real (Real), el racional (Rational) y el entero (Integer).\n",
      "El tipo Rational representa a un n\u00famero racional como un par de n\u00fameros enteros: el numerador y el denominador.\n",
      "Por ejemplo: Rational(1, 2) representa la fracci\u00f3n 1/2, Rational(5, 2) a 5/2, etc."
     ]
    },
    {
     "cell_type": "code",
     "collapsed": false,
     "input": [
      "a= Rational(1, 2)\n",
      "a"
     ],
     "language": "python",
     "metadata": {},
     "outputs": [
      {
       "latex": [
        "$$\\frac{1}{2}$$"
       ],
       "metadata": {},
       "output_type": "pyout",
       "png": "[encoded data removed]",
       "prompt_number": 2,
       "text": [
        "1/2"
       ]
      }
     ],
     "prompt_number": 2
    },
    {
     "cell_type": "code",
     "collapsed": false,
     "input": [
      "a*2"
     ],
     "language": "python",
     "metadata": {},
     "outputs": [
      {
       "latex": [
        "$$1$$"
       ],
       "metadata": {},
       "output_type": "pyout",
       "png": "[encoded data removed]",
       "prompt_number": 14,
       "text": [
        "1"
       ]
      }
     ],
     "prompt_number": 14
    },
    {
     "cell_type": "markdown",
     "metadata": {},
     "source": [
      "SymPy utiliza como background la biblioteca [mpmath](http://code.google.com/p/mpmath/) que le permite realizar c\u00e1lculos con aritm\u00e9tica de **precisi\u00f3n arbitraria**, de forma tal que ciertas constantes especiales, como pi, el n\u00famero e, oo (infinito), son tratadas como s\u00edmbolos y pueden ser evaluadas con aritm\u00e9tica de alta precisi\u00f3n:"
     ]
    },
    {
     "cell_type": "code",
     "collapsed": false,
     "input": [
      "pi**2"
     ],
     "language": "python",
     "metadata": {},
     "outputs": [
      {
       "latex": [
        "$$\\pi^{2}$$"
       ],
       "metadata": {},
       "output_type": "pyout",
       "png": "[encoded data removed]",
       "prompt_number": 15,
       "text": [
        " 2\n",
        "\u03c0 "
       ]
      }
     ],
     "prompt_number": 15
    },
    {
     "cell_type": "code",
     "collapsed": false,
     "input": [
      "pi.evalf()"
     ],
     "language": "python",
     "metadata": {},
     "outputs": [
      {
       "latex": [
        "$$3.14159265358979$$"
       ],
       "metadata": {},
       "output_type": "pyout",
       "png": "[encoded data removed]",
       "prompt_number": 21,
       "text": [
        "3.14159265358979"
       ]
      }
     ],
     "prompt_number": 21
    },
    {
     "cell_type": "code",
     "collapsed": false,
     "input": [
      "(pi+exp(1)).evalf()"
     ],
     "language": "python",
     "metadata": {},
     "outputs": [
      {
       "latex": [
        "$$5.85987448204884$$"
       ],
       "metadata": {},
       "output_type": "pyout",
       "png": "[encoded data removed]",
       "prompt_number": 23,
       "text": [
        "5.85987448204884"
       ]
      }
     ],
     "prompt_number": 23
    },
    {
     "cell_type": "markdown",
     "metadata": {},
     "source": [
      "Con .evalf() podemos acceder al valor num\u00e9rico que contiene cualquier variable simb\u00f3lica."
     ]
    },
    {
     "cell_type": "markdown",
     "metadata": {},
     "source": [
      "Tambi\u00e9n existe una clase para representar al infinito matem\u00e1tico, llamada oo:"
     ]
    },
    {
     "cell_type": "code",
     "collapsed": false,
     "input": [
      "oo > 99999"
     ],
     "language": "python",
     "metadata": {},
     "outputs": [
      {
       "metadata": {},
       "output_type": "pyout",
       "prompt_number": 28,
       "text": [
        "True"
       ]
      }
     ],
     "prompt_number": 28
    },
    {
     "cell_type": "code",
     "collapsed": false,
     "input": [
      "oo + 1"
     ],
     "language": "python",
     "metadata": {},
     "outputs": [
      {
       "latex": [
        "$$\\infty$$"
       ],
       "metadata": {},
       "output_type": "pyout",
       "png": "[encoded data removed]",
       "prompt_number": 8,
       "text": [
        "\u221e"
       ]
      }
     ],
     "prompt_number": 8
    },
    {
     "cell_type": "code",
     "collapsed": false,
     "input": [
      "r= sqrt(2)\n",
      "r ** 2"
     ],
     "language": "python",
     "metadata": {},
     "outputs": [
      {
       "latex": [
        "$$2$$"
       ],
       "metadata": {},
       "output_type": "pyout",
       "png": "[encoded data removed]",
       "prompt_number": 42,
       "text": [
        "2"
       ]
      }
     ],
     "prompt_number": 42
    },
    {
     "cell_type": "code",
     "collapsed": false,
     "input": [
      "(2**.5)**2"
     ],
     "language": "python",
     "metadata": {},
     "outputs": [
      {
       "latex": [
        "$$2.0000000000000004$$"
       ],
       "metadata": {},
       "output_type": "pyout",
       "png": "[encoded data removed]",
       "prompt_number": 43,
       "text": [
        "2.0000000000000004"
       ]
      }
     ],
     "prompt_number": 43
    },
    {
     "cell_type": "markdown",
     "metadata": {},
     "source": [
      "Por defecto la evaluaci\u00f3n num\u00e9rica se lleva a cabo con un precisi\u00f3n de 15 decimales.\n",
      "Pero puede ajustarse la precisi\u00f3n al n\u00famero de decimales que uno desee, enviando el n\u00famero de decimales como argumento a evalf() o a N():"
     ]
    },
    {
     "cell_type": "code",
     "collapsed": false,
     "input": [
      "r.evalf(100)"
     ],
     "language": "python",
     "metadata": {},
     "outputs": [
      {
       "latex": [
        "$$1.414213562373095048801688724209698078569671875376948073176679737990732478462107038850387534327641573$$"
       ],
       "metadata": {},
       "output_type": "pyout",
       "png": "[encoded data removed]",
       "prompt_number": 49,
       "text": [
        "1.4142135623730950488016887242096980785696718753769480731766797379907324784621\n",
        "07038850387534327641573"
       ]
      }
     ],
     "prompt_number": 49
    },
    {
     "cell_type": "code",
     "collapsed": false,
     "input": [
      "N(sqrt(2), 100)"
     ],
     "language": "python",
     "metadata": {},
     "outputs": [
      {
       "latex": [
        "$$1.414213562373095048801688724209698078569671875376948073176679737990732478462107038850387534327641573$$"
       ],
       "metadata": {},
       "output_type": "pyout",
       "png": "[encoded data removed]",
       "prompt_number": 50,
       "text": [
        "1.4142135623730950488016887242096980785696718753769480731766797379907324784621\n",
        "07038850387534327641573"
       ]
      }
     ],
     "prompt_number": 50
    },
    {
     "cell_type": "heading",
     "level": 2,
     "metadata": {},
     "source": [
      "Ejercicios:"
     ]
    },
    {
     "cell_type": "markdown",
     "metadata": {},
     "source": [
      "1. Calcular 1/2 + 1/3 con aritm\u00e9tica racional.\n",
      "2. Calcular $2^e$ con 200 decimales"
     ]
    },
    {
     "cell_type": "code",
     "collapsed": false,
     "input": [
      "Rational(1, 2) + Rational(1, 3)"
     ],
     "language": "python",
     "metadata": {},
     "outputs": [
      {
       "latex": [
        "$$\\frac{5}{6}$$"
       ],
       "metadata": {},
       "output_type": "pyout",
       "png": "[encoded data removed]",
       "prompt_number": 51,
       "text": [
        "5/6"
       ]
      }
     ],
     "prompt_number": 51
    },
    {
     "cell_type": "heading",
     "level": 2,
     "metadata": {},
     "source": [
      "S\u00edmbolos"
     ]
    },
    {
     "cell_type": "markdown",
     "metadata": {},
     "source": [
      "En SymPy las variables simb\u00f3licas deben ser declaradas expl\u00edcitamente:"
     ]
    },
    {
     "cell_type": "code",
     "collapsed": false,
     "input": [
      "x = Symbol('x')\n",
      "y = Symbol('y')"
     ],
     "language": "python",
     "metadata": {},
     "outputs": [],
     "prompt_number": 52
    },
    {
     "cell_type": "markdown",
     "metadata": {},
     "source": [
      "Luego, pueden ser manipuladas:"
     ]
    },
    {
     "cell_type": "code",
     "collapsed": false,
     "input": [
      "x + y + x - y"
     ],
     "language": "python",
     "metadata": {},
     "outputs": [
      {
       "latex": [
        "$$2 x$$"
       ],
       "metadata": {},
       "output_type": "pyout",
       "png": "[encoded data removed]",
       "prompt_number": 16,
       "text": [
        "2\u22c5x"
       ]
      }
     ],
     "prompt_number": 16
    },
    {
     "cell_type": "code",
     "collapsed": false,
     "input": [
      "(x + y)**2"
     ],
     "language": "python",
     "metadata": {},
     "outputs": [
      {
       "latex": [
        "$$\\left(x + y\\right)^{2}$$"
       ],
       "metadata": {},
       "output_type": "pyout",
       "png": "[encoded data removed]",
       "prompt_number": 56,
       "text": [
        "       2\n",
        "(x + y) "
       ]
      }
     ],
     "prompt_number": 56
    },
    {
     "cell_type": "heading",
     "level": 2,
     "metadata": {},
     "source": [
      "Manipulaci\u00f3n Algebr\u00e1ica"
     ]
    },
    {
     "cell_type": "markdown",
     "metadata": {},
     "source": [
      "SymPy tiene una gran potencia para realizar c\u00e1lculos en forma algebr\u00e1ica."
     ]
    },
    {
     "cell_type": "heading",
     "level": 3,
     "metadata": {},
     "source": [
      "Expansi\u00f3n"
     ]
    },
    {
     "cell_type": "code",
     "collapsed": false,
     "input": [
      "expand((x+y)**3)"
     ],
     "language": "python",
     "metadata": {},
     "outputs": [
      {
       "latex": [
        "$$x^{3} + 3 x^{2} y + 3 x y^{2} + y^{3}$$"
       ],
       "metadata": {},
       "output_type": "pyout",
       "png": "[encoded data removed]",
       "prompt_number": 58,
       "text": [
        " 3      2          2    3\n",
        "x  + 3\u22c5x \u22c5y + 3\u22c5x\u22c5y  + y "
       ]
      }
     ],
     "prompt_number": 58
    },
    {
     "cell_type": "markdown",
     "metadata": {},
     "source": [
      "tambi\u00e9n se pueden hacer especificaciones adicionales:"
     ]
    },
    {
     "cell_type": "code",
     "collapsed": false,
     "input": [
      "expand(x + y, complex= True)"
     ],
     "language": "python",
     "metadata": {},
     "outputs": [
      {
       "latex": [
        "$$\\Re{x} + \\Re{y} + i \\Im{x} + i \\Im{y}$$"
       ],
       "metadata": {},
       "output_type": "pyout",
       "png": "[encoded data removed]",
       "prompt_number": 59,
       "text": [
        "re(x) + re(y) + \u2148\u22c5im(x) + \u2148\u22c5im(y)"
       ]
      }
     ],
     "prompt_number": 59
    },
    {
     "cell_type": "code",
     "collapsed": false,
     "input": [
      "expand(cos(x + y), trig= True)"
     ],
     "language": "python",
     "metadata": {},
     "outputs": [
      {
       "latex": [
        "$$- \\sin{\\left (x \\right )} \\sin{\\left (y \\right )} + \\cos{\\left (x \\right )} \\cos{\\left (y \\right )}$$"
       ],
       "metadata": {},
       "output_type": "pyout",
       "png": "[encoded data removed]",
       "prompt_number": 61,
       "text": [
        "-sin(x)\u22c5sin(y) + cos(x)\u22c5cos(y)"
       ]
      }
     ],
     "prompt_number": 61
    },
    {
     "cell_type": "heading",
     "level": 3,
     "metadata": {},
     "source": [
      "Simplificaci\u00f3n"
     ]
    },
    {
     "cell_type": "code",
     "collapsed": false,
     "input": [
      "simplify((x + x * y)/x)"
     ],
     "language": "python",
     "metadata": {},
     "outputs": [
      {
       "latex": [
        "$$y + 1$$"
       ],
       "metadata": {},
       "output_type": "pyout",
       "png": "[encoded data removed]",
       "prompt_number": 62,
       "text": [
        "y + 1"
       ]
      }
     ],
     "prompt_number": 62
    },
    {
     "cell_type": "markdown",
     "metadata": {},
     "source": [
      "La simplificaci\u00f3n se realiza \"de la mejor manera\" que SymPy encuentra y a veces la respuesta puede no ser lo que uno espera (demasiado trivial o no en la forma que se necesita).\n",
      "Pero se le pueden dar detalles sobre la estrategia de simplificaci\u00f3n que debe utilizar:\n",
      "    \n",
      "    * powsimp ----> simplifica exponentes.\n",
      "    * trigsimp ---> simplifica expresiones trigonom\u00e9tricas\n",
      "    * logcombine\n",
      "    * randsimp\n",
      "    * together"
     ]
    },
    {
     "cell_type": "heading",
     "level": 2,
     "metadata": {},
     "source": [
      "Ejercicios:"
     ]
    },
    {
     "cell_type": "markdown",
     "metadata": {},
     "source": [
      "1. Calcular la forma expandida de $(x+y)^6.$\n",
      "2. Simplificar la expresi\u00f3n trigonom\u00e9trica $\\frac{sen(x)}{cos(x)}$"
     ]
    },
    {
     "cell_type": "heading",
     "level": 2,
     "metadata": {},
     "source": [
      "L\u00edmites"
     ]
    },
    {
     "cell_type": "markdown",
     "metadata": {},
     "source": [
      "Los l\u00edmites se pueden calcular con mucha facilidad usando SymPy.\n",
      "La sintaxis es: `limit(funci\u00f3n, variable, punto)`\n",
      "Entonces para calcular el l\u00edmite de `f(x)` cuando `x` tiende a 0, debemos escribir:\n",
      "    \n",
      "    limit(f(x), x, 0)"
     ]
    },
    {
     "cell_type": "code",
     "collapsed": false,
     "input": [
      "limit(sin(x)/x, x, 0)"
     ],
     "language": "python",
     "metadata": {},
     "outputs": [
      {
       "latex": [
        "$$1$$"
       ],
       "metadata": {},
       "output_type": "pyout",
       "png": "[encoded data removed]",
       "prompt_number": 66,
       "text": [
        "1"
       ]
      }
     ],
     "prompt_number": 66
    },
    {
     "cell_type": "markdown",
     "metadata": {},
     "source": [
      "Tambi\u00e9n se pueden calcular los l\u00edmites cuando x tiende infinito:"
     ]
    },
    {
     "cell_type": "code",
     "collapsed": false,
     "input": [
      "limit(x, x, oo)"
     ],
     "language": "python",
     "metadata": {},
     "outputs": [
      {
       "latex": [
        "$$\\infty$$"
       ],
       "metadata": {},
       "output_type": "pyout",
       "png": "[encoded data removed]",
       "prompt_number": 68,
       "text": [
        "\u221e"
       ]
      }
     ],
     "prompt_number": 68
    },
    {
     "cell_type": "code",
     "collapsed": false,
     "input": [
      "limit(1/x, x, oo)"
     ],
     "language": "python",
     "metadata": {},
     "outputs": [
      {
       "latex": [
        "$$0$$"
       ],
       "metadata": {},
       "output_type": "pyout",
       "png": "[encoded data removed]",
       "prompt_number": 69,
       "text": [
        "0"
       ]
      }
     ],
     "prompt_number": 69
    },
    {
     "cell_type": "code",
     "collapsed": false,
     "input": [
      "limit(x**x, x, 0)"
     ],
     "language": "python",
     "metadata": {},
     "outputs": [
      {
       "latex": [
        "$$1$$"
       ],
       "metadata": {},
       "output_type": "pyout",
       "png": "[encoded data removed]",
       "prompt_number": 72,
       "text": [
        "1"
       ]
      }
     ],
     "prompt_number": 72
    },
    {
     "cell_type": "markdown",
     "metadata": {},
     "source": [
      "### Ejercicio\n",
      "\n",
      "Calcular el l\u00edmite $\\lim_{x \\to +\\infty}(1+\\frac{1}{x})^x$"
     ]
    },
    {
     "cell_type": "heading",
     "level": 2,
     "metadata": {},
     "source": [
      "Diferenciaci\u00f3n"
     ]
    },
    {
     "cell_type": "markdown",
     "metadata": {},
     "source": [
      "Se puede derivar cualquier expresi\u00f3n de Sympy utilizando:\n",
      "`diff(funci\u00f3n, variable)`\n",
      "\n",
      "\n",
      "Por ejemplo:"
     ]
    },
    {
     "cell_type": "code",
     "collapsed": false,
     "input": [
      "diff(sin(x), x)"
     ],
     "language": "python",
     "metadata": {},
     "outputs": [
      {
       "latex": [
        "$$\\cos{\\left (x \\right )}$$"
       ],
       "metadata": {},
       "output_type": "pyout",
       "png": "[encoded data removed]",
       "prompt_number": 73,
       "text": [
        "cos(x)"
       ]
      }
     ],
     "prompt_number": 73
    },
    {
     "cell_type": "code",
     "collapsed": false,
     "input": [
      "diff(sin(2*x), x)"
     ],
     "language": "python",
     "metadata": {},
     "outputs": [
      {
       "latex": [
        "$$2 \\cos{\\left (2 x \\right )}$$"
       ],
       "metadata": {},
       "output_type": "pyout",
       "png": "[encoded data removed]",
       "prompt_number": 74,
       "text": [
        "2\u22c5cos(2\u22c5x)"
       ]
      }
     ],
     "prompt_number": 74
    },
    {
     "cell_type": "code",
     "collapsed": false,
     "input": [
      "diff(tan(x), x)"
     ],
     "language": "python",
     "metadata": {},
     "outputs": [
      {
       "latex": [
        "$$\\tan^{2}{\\left (x \\right )} + 1$$"
       ],
       "metadata": {},
       "output_type": "pyout",
       "png": "[encoded data removed]",
       "prompt_number": 75,
       "text": [
        "   2       \n",
        "tan (x) + 1"
       ]
      }
     ],
     "prompt_number": 75
    },
    {
     "cell_type": "code",
     "collapsed": false,
     "input": [
      "diff(exp(sin(x**3)**x), x)"
     ],
     "language": "python",
     "metadata": {},
     "outputs": [
      {
       "latex": [
        "$$\\left(\\frac{3 x^{3} \\cos{\\left (x^{3} \\right )}}{\\sin{\\left (x^{3} \\right )}} + \\log{\\left (\\sin{\\left (x^{3} \\right )} \\right )}\\right) e^{\\sin^{x}{\\left (x^{3} \\right )}} \\sin^{x}{\\left (x^{3} \\right )}$$"
       ],
       "metadata": {},
       "output_type": "pyout",
       "png": "[encoded data removed]",
       "prompt_number": 76,
       "text": [
        "\u239b   3    \u239b 3\u239e               \u239e     x\u239b 3\u239e         \n",
        "\u239c3\u22c5x \u22c5cos\u239dx \u23a0      \u239b   \u239b 3\u239e\u239e\u239f  sin \u239dx \u23a0    x\u239b 3\u239e\n",
        "\u239c\u2500\u2500\u2500\u2500\u2500\u2500\u2500\u2500\u2500\u2500\u2500\u2500 + log\u239dsin\u239dx \u23a0\u23a0\u239f\u22c5\u212f        \u22c5sin \u239dx \u23a0\n",
        "\u239c     \u239b 3\u239e                  \u239f                   \n",
        "\u239d  sin\u239dx \u23a0                  \u23a0                   "
       ]
      }
     ],
     "prompt_number": 76
    },
    {
     "cell_type": "markdown",
     "metadata": {},
     "source": [
      "Se pueden calcular derivadas de orden superior especificando el orden de derivaci\u00f3n como tercer argumento de diff: "
     ]
    },
    {
     "cell_type": "code",
     "collapsed": false,
     "input": [
      "diff(sin(2*x), x, 1)"
     ],
     "language": "python",
     "metadata": {},
     "outputs": [
      {
       "latex": [
        "$$2 \\cos{\\left (2 x \\right )}$$"
       ],
       "metadata": {},
       "output_type": "pyout",
       "png": "[encoded data removed]",
       "prompt_number": 30,
       "text": [
        "2\u22c5cos(2\u22c5x)"
       ]
      }
     ],
     "prompt_number": 30
    },
    {
     "cell_type": "code",
     "collapsed": false,
     "input": [
      "diff(sin(2*x), x, 2)"
     ],
     "language": "python",
     "metadata": {},
     "outputs": [
      {
       "latex": [
        "$$- 4 \\sin{\\left (2 x \\right )}$$"
       ],
       "metadata": {},
       "output_type": "pyout",
       "png": "[encoded data removed]",
       "prompt_number": 31,
       "text": [
        "-4\u22c5sin(2\u22c5x)"
       ]
      }
     ],
     "prompt_number": 31
    },
    {
     "cell_type": "code",
     "collapsed": false,
     "input": [
      "diff(sin(2*x), x, 3)"
     ],
     "language": "python",
     "metadata": {},
     "outputs": [
      {
       "latex": [
        "$$- 8 \\cos{\\left (2 x \\right )}$$"
       ],
       "metadata": {},
       "output_type": "pyout",
       "png": "[encoded data removed]",
       "prompt_number": 32,
       "text": [
        "-8\u22c5cos(2\u22c5x)"
       ]
      }
     ],
     "prompt_number": 32
    },
    {
     "cell_type": "heading",
     "level": 2,
     "metadata": {},
     "source": [
      "Expansi\u00f3n en serie de Taylor"
     ]
    },
    {
     "cell_type": "markdown",
     "metadata": {},
     "source": [
      "SymPy puede expandir funciones en serie de Taylor mediante la funci\u00f3n:"
     ]
    },
    {
     "cell_type": "code",
     "collapsed": false,
     "input": [
      "series(cos(x), x)"
     ],
     "language": "python",
     "metadata": {},
     "outputs": [
      {
       "latex": [
        "$$1 - \\frac{x^{2}}{2} + \\frac{x^{4}}{24} + \\mathcal{O}\\left(x^{6}\\right)$$"
       ],
       "metadata": {},
       "output_type": "pyout",
       "png": "[encoded data removed]",
       "prompt_number": 33,
       "text": [
        "     2    4        \n",
        "    x    x     \u239b 6\u239e\n",
        "1 - \u2500\u2500 + \u2500\u2500 + O\u239dx \u23a0\n",
        "    2    24        "
       ]
      }
     ],
     "prompt_number": 33
    },
    {
     "cell_type": "code",
     "collapsed": false,
     "input": [
      "series(1/cos(x), x)"
     ],
     "language": "python",
     "metadata": {},
     "outputs": [
      {
       "latex": [
        "$$1 + \\frac{x^{2}}{2} + \\frac{5 x^{4}}{24} + \\mathcal{O}\\left(x^{6}\\right)$$"
       ],
       "metadata": {},
       "output_type": "pyout",
       "png": "[encoded data removed]",
       "prompt_number": 34,
       "text": [
        "     2      4        \n",
        "    x    5\u22c5x     \u239b 6\u239e\n",
        "1 + \u2500\u2500 + \u2500\u2500\u2500\u2500 + O\u239dx \u23a0\n",
        "    2     24         "
       ]
      }
     ],
     "prompt_number": 34
    },
    {
     "cell_type": "heading",
     "level": 2,
     "metadata": {},
     "source": [
      "Ejercicios:"
     ]
    },
    {
     "cell_type": "markdown",
     "metadata": {},
     "source": [
      "1. Calcular el l\u00edmite de $$\\lim_{x \\to 0} sen(x)\\frac{exp(cos(x)^x)}{x}$$"
     ]
    },
    {
     "cell_type": "code",
     "collapsed": false,
     "input": [
      "limit(sin(x)*exp(cos(x)**x)/x, x, 0)"
     ],
     "language": "python",
     "metadata": {},
     "outputs": [
      {
       "latex": [
        "$$e$$"
       ],
       "metadata": {},
       "output_type": "pyout",
       "png": "[encoded data removed]",
       "prompt_number": 35,
       "text": [
        "\u212f"
       ]
      }
     ],
     "prompt_number": 35
    },
    {
     "cell_type": "markdown",
     "metadata": {},
     "source": [
      "II. Calcular las tres primeras derivadas de log(x**2-tan(x))"
     ]
    },
    {
     "cell_type": "code",
     "collapsed": false,
     "input": [
      "diff(log(x**2-tan(x)), x, 1)"
     ],
     "language": "python",
     "metadata": {},
     "outputs": [
      {
       "latex": [
        "$$\\frac{2 x - \\tan^{2}{\\left (x \\right )} - 1}{x^{2} - \\tan{\\left (x \\right )}}$$"
       ],
       "metadata": {},
       "output_type": "pyout",
       "png": "[encoded data removed]",
       "prompt_number": 36,
       "text": [
        "         2       \n",
        "2\u22c5x - tan (x) - 1\n",
        "\u2500\u2500\u2500\u2500\u2500\u2500\u2500\u2500\u2500\u2500\u2500\u2500\u2500\u2500\u2500\u2500\u2500\n",
        "    2            \n",
        "   x  - tan(x)   "
       ]
      }
     ],
     "prompt_number": 36
    },
    {
     "cell_type": "code",
     "collapsed": false,
     "input": [
      "diff(log(x**2-tan(x)), x, 2)"
     ],
     "language": "python",
     "metadata": {},
     "outputs": [
      {
       "latex": [
        "$$- \\frac{1}{x^{2} - \\tan{\\left (x \\right )}} \\left(2 \\left(\\tan^{2}{\\left (x \\right )} + 1\\right) \\tan{\\left (x \\right )} - 2 + \\frac{\\left(- 2 x + \\tan^{2}{\\left (x \\right )} + 1\\right)^{2}}{x^{2} - \\tan{\\left (x \\right )}}\\right)$$"
       ],
       "metadata": {},
       "output_type": "pyout",
       "png": "[encoded data removed]",
       "prompt_number": 37,
       "text": [
        " \u239b                                                 2\u239e \n",
        " \u239c                             \u239b          2       \u239e \u239f \n",
        " \u239c  \u239b   2       \u239e              \u239d-2\u22c5x + tan (x) + 1\u23a0 \u239f \n",
        "-\u239c2\u22c5\u239dtan (x) + 1\u23a0\u22c5tan(x) - 2 + \u2500\u2500\u2500\u2500\u2500\u2500\u2500\u2500\u2500\u2500\u2500\u2500\u2500\u2500\u2500\u2500\u2500\u2500\u2500\u2500\u2500\u239f \n",
        " \u239c                                   2              \u239f \n",
        " \u239d                                  x  - tan(x)     \u23a0 \n",
        "\u2500\u2500\u2500\u2500\u2500\u2500\u2500\u2500\u2500\u2500\u2500\u2500\u2500\u2500\u2500\u2500\u2500\u2500\u2500\u2500\u2500\u2500\u2500\u2500\u2500\u2500\u2500\u2500\u2500\u2500\u2500\u2500\u2500\u2500\u2500\u2500\u2500\u2500\u2500\u2500\u2500\u2500\u2500\u2500\u2500\u2500\u2500\u2500\u2500\u2500\u2500\u2500\u2500\u2500\n",
        "                      2                               \n",
        "                     x  - tan(x)                      "
       ]
      }
     ],
     "prompt_number": 37
    },
    {
     "cell_type": "code",
     "collapsed": false,
     "input": [
      "diff(log(x**2-tan(x)), x, 3)"
     ],
     "language": "python",
     "metadata": {},
     "outputs": [
      {
       "latex": [
        "$$- \\frac{1}{x^{2} - \\tan{\\left (x \\right )}} \\left(2 \\left(\\tan^{2}{\\left (x \\right )} + 1\\right) \\left(3 \\tan^{2}{\\left (x \\right )} + 1\\right) + \\frac{6}{x^{2} - \\tan{\\left (x \\right )}} \\left(\\left(\\tan^{2}{\\left (x \\right )} + 1\\right) \\tan{\\left (x \\right )} - 1\\right) \\left(- 2 x + \\tan^{2}{\\left (x \\right )} + 1\\right) + \\frac{2 \\left(- 2 x + \\tan^{2}{\\left (x \\right )} + 1\\right)^{3}}{\\left(x^{2} - \\tan{\\left (x \\right )}\\right)^{2}}\\right)$$"
       ],
       "metadata": {},
       "output_type": "pyout",
       "png": "[encoded data removed]",
       "prompt_number": 38,
       "text": [
        "   \u239b                                                                          \n",
        "   \u239c                                  \u239b\u239b   2       \u239e           \u239e \u239b          2 \n",
        "   \u239c\u239b   2       \u239e \u239b     2       \u239e   3\u22c5\u239d\u239dtan (x) + 1\u23a0\u22c5tan(x) - 1\u23a0\u22c5\u239d-2\u22c5x + tan (\n",
        "-2\u22c5\u239c\u239dtan (x) + 1\u23a0\u22c5\u239d3\u22c5tan (x) + 1\u23a0 + \u2500\u2500\u2500\u2500\u2500\u2500\u2500\u2500\u2500\u2500\u2500\u2500\u2500\u2500\u2500\u2500\u2500\u2500\u2500\u2500\u2500\u2500\u2500\u2500\u2500\u2500\u2500\u2500\u2500\u2500\u2500\u2500\u2500\u2500\u2500\u2500\u2500\u2500\u2500\u2500\u2500\u2500\n",
        "   \u239c                                                    2                     \n",
        "   \u239c                                                   x  - tan(x)            \n",
        "   \u239d                                                                          \n",
        "\u2500\u2500\u2500\u2500\u2500\u2500\u2500\u2500\u2500\u2500\u2500\u2500\u2500\u2500\u2500\u2500\u2500\u2500\u2500\u2500\u2500\u2500\u2500\u2500\u2500\u2500\u2500\u2500\u2500\u2500\u2500\u2500\u2500\u2500\u2500\u2500\u2500\u2500\u2500\u2500\u2500\u2500\u2500\u2500\u2500\u2500\u2500\u2500\u2500\u2500\u2500\u2500\u2500\u2500\u2500\u2500\u2500\u2500\u2500\u2500\u2500\u2500\u2500\u2500\u2500\u2500\u2500\u2500\u2500\u2500\u2500\u2500\u2500\u2500\u2500\u2500\u2500\u2500\n",
        "                                                   2                          \n",
        "                                                  x  - tan(x)                 \n",
        "\n",
        "                              3\u239e \n",
        "      \u239e   \u239b          2       \u239e \u239f \n",
        "x) + 1\u23a0   \u239d-2\u22c5x + tan (x) + 1\u23a0 \u239f \n",
        "\u2500\u2500\u2500\u2500\u2500\u2500\u2500 + \u2500\u2500\u2500\u2500\u2500\u2500\u2500\u2500\u2500\u2500\u2500\u2500\u2500\u2500\u2500\u2500\u2500\u2500\u2500\u2500\u2500\u239f \n",
        "                           2   \u239f \n",
        "              \u239b 2         \u239e    \u239f \n",
        "              \u239dx  - tan(x)\u23a0    \u23a0 \n",
        "\u2500\u2500\u2500\u2500\u2500\u2500\u2500\u2500\u2500\u2500\u2500\u2500\u2500\u2500\u2500\u2500\u2500\u2500\u2500\u2500\u2500\u2500\u2500\u2500\u2500\u2500\u2500\u2500\u2500\u2500\u2500\u2500\u2500\n",
        "                                 \n",
        "                                 "
       ]
      }
     ],
     "prompt_number": 38
    },
    {
     "cell_type": "heading",
     "level": 2,
     "metadata": {},
     "source": [
      "Integraci\u00f3n"
     ]
    },
    {
     "cell_type": "markdown",
     "metadata": {},
     "source": [
      "SymPy es capaz de calcular integrales definidas e indefinidas para funciones elementales, trascendentes y especiales, mediante la herramienta integrate()."
     ]
    },
    {
     "cell_type": "markdown",
     "metadata": {},
     "source": [
      "Integraci\u00f3n de funciones elementales:"
     ]
    },
    {
     "cell_type": "code",
     "collapsed": false,
     "input": [
      "integrate(6*x**5, x)"
     ],
     "language": "python",
     "metadata": {},
     "outputs": [
      {
       "latex": [
        "$$x^{6}$$"
       ],
       "metadata": {},
       "output_type": "pyout",
       "png": "[encoded data removed]",
       "prompt_number": 39,
       "text": [
        " 6\n",
        "x "
       ]
      }
     ],
     "prompt_number": 39
    },
    {
     "cell_type": "code",
     "collapsed": false,
     "input": [
      "integrate(sin(x), x)"
     ],
     "language": "python",
     "metadata": {},
     "outputs": [
      {
       "latex": [
        "$$- \\cos{\\left (x \\right )}$$"
       ],
       "metadata": {},
       "output_type": "pyout",
       "png": "[encoded data removed]",
       "prompt_number": 40,
       "text": [
        "-cos(x)"
       ]
      }
     ],
     "prompt_number": 40
    },
    {
     "cell_type": "code",
     "collapsed": false,
     "input": [
      "integrate(log(x), x)"
     ],
     "language": "python",
     "metadata": {},
     "outputs": [
      {
       "latex": [
        "$$x \\log{\\left (x \\right )} - x$$"
       ],
       "metadata": {},
       "output_type": "pyout",
       "png": "[encoded data removed]",
       "prompt_number": 41,
       "text": [
        "x\u22c5log(x) - x"
       ]
      }
     ],
     "prompt_number": 41
    },
    {
     "cell_type": "code",
     "collapsed": false,
     "input": [
      "integrate(2*x + sinh(x), x)"
     ],
     "language": "python",
     "metadata": {},
     "outputs": [
      {
       "latex": [
        "$$x^{2} + \\cosh{\\left (x \\right )}$$"
       ],
       "metadata": {},
       "output_type": "pyout",
       "png": "[encoded data removed]",
       "prompt_number": 42,
       "text": [
        " 2          \n",
        "x  + cosh(x)"
       ]
      }
     ],
     "prompt_number": 42
    },
    {
     "cell_type": "markdown",
     "metadata": {},
     "source": [
      "Integraci\u00f3n de funciones especiales:"
     ]
    },
    {
     "cell_type": "code",
     "collapsed": false,
     "input": [
      "integrate(exp(-x**2)*erf(x), x)"
     ],
     "language": "python",
     "metadata": {},
     "outputs": [
      {
       "latex": [
        "$$\\frac{\\sqrt{\\pi}}{4} \\operatorname{erf}^{2}{\\left (x \\right )}$$"
       ],
       "metadata": {},
       "output_type": "pyout",
       "png": "[encoded data removed]",
       "prompt_number": 43,
       "text": [
        "  ___    2   \n",
        "\u2572\u2571 \u03c0 \u22c5erf (x)\n",
        "\u2500\u2500\u2500\u2500\u2500\u2500\u2500\u2500\u2500\u2500\u2500\u2500\u2500\n",
        "      4      "
       ]
      }
     ],
     "prompt_number": 43
    },
    {
     "cell_type": "markdown",
     "metadata": {},
     "source": [
      "Tambi\u00e9n es posible calcular integrales definidas. La funci\u00f3n es la misma: integrate(funci\u00f3n, (varialble, l\u00edmite inferior, l\u00edmite superior)), s\u00f3lo que como segundo argumento se utiliza una tupla cuyo primer elemento es la variable de integraci\u00f3n, su segundo elemento es el l\u00edmtie inferior de integraci\u00f3n y el \u00faltimo es el l\u00edmite superior."
     ]
    },
    {
     "cell_type": "heading",
     "level": 3,
     "metadata": {},
     "source": [
      "Ejemplos:"
     ]
    },
    {
     "cell_type": "code",
     "collapsed": false,
     "input": [
      "integrate(x**3, (x, -1, 1))"
     ],
     "language": "python",
     "metadata": {},
     "outputs": [
      {
       "latex": [
        "$$0$$"
       ],
       "metadata": {},
       "output_type": "pyout",
       "png": "[encoded data removed]",
       "prompt_number": 44,
       "text": [
        "0"
       ]
      }
     ],
     "prompt_number": 44
    },
    {
     "cell_type": "code",
     "collapsed": false,
     "input": [
      "integrate(sin(x), (x, 0, pi/2))\n"
     ],
     "language": "python",
     "metadata": {},
     "outputs": [
      {
       "latex": [
        "$$1$$"
       ],
       "metadata": {},
       "output_type": "pyout",
       "png": "[encoded data removed]",
       "prompt_number": 45,
       "text": [
        "1"
       ]
      }
     ],
     "prompt_number": 45
    },
    {
     "cell_type": "code",
     "collapsed": false,
     "input": [
      "integrate(cos(x), (x, -pi/2, pi/2))"
     ],
     "language": "python",
     "metadata": {},
     "outputs": [
      {
       "latex": [
        "$$2$$"
       ],
       "metadata": {},
       "output_type": "pyout",
       "png": "[encoded data removed]",
       "prompt_number": 46,
       "text": [
        "2"
       ]
      }
     ],
     "prompt_number": 46
    },
    {
     "cell_type": "markdown",
     "metadata": {},
     "source": [
      "\u00a1Incluso se puden calcular integrales impropias!"
     ]
    },
    {
     "cell_type": "code",
     "collapsed": false,
     "input": [
      "integrate(exp(-x), (x, 0, oo))"
     ],
     "language": "python",
     "metadata": {},
     "outputs": [
      {
       "latex": [
        "$$1$$"
       ],
       "metadata": {},
       "output_type": "pyout",
       "png": "[encoded data removed]",
       "prompt_number": 47,
       "text": [
        "1"
       ]
      }
     ],
     "prompt_number": 47
    },
    {
     "cell_type": "code",
     "collapsed": false,
     "input": [
      "integrate(exp(-x**2), (x, -oo, oo))"
     ],
     "language": "python",
     "metadata": {},
     "outputs": [
      {
       "latex": [
        "$$\\sqrt{\\pi}$$"
       ],
       "metadata": {},
       "output_type": "pyout",
       "png": "[encoded data removed]",
       "prompt_number": 48,
       "text": [
        "  ___\n",
        "\u2572\u2571 \u03c0 "
       ]
      }
     ],
     "prompt_number": 48
    },
    {
     "cell_type": "heading",
     "level": 2,
     "metadata": {},
     "source": [
      "Resoluci\u00f3n de ecuaciones"
     ]
    },
    {
     "cell_type": "markdown",
     "metadata": {},
     "source": [
      "SymPy es capaz de resolver ecuaciones algebr\u00e1icas de una y de varias variables"
     ]
    },
    {
     "cell_type": "markdown",
     "metadata": {},
     "source": [
      "Para eso existe la funci\u00f3n `solve(ecuaci\u00f3n, variable)`, donde ecuaci\u00f3n es una expresi\u00f3n que es igual a cero."
     ]
    },
    {
     "cell_type": "markdown",
     "metadata": {},
     "source": [
      "Por ejemplo, para resolver la ecuaci\u00f3n $x^4 - 1 = 0$"
     ]
    },
    {
     "cell_type": "code",
     "collapsed": false,
     "input": [
      "solve(x**4 - 1, x)"
     ],
     "language": "python",
     "metadata": {},
     "outputs": [
      {
       "latex": [
        "$$\\begin{bmatrix}-1, & 1, & - i, & i\\end{bmatrix}$$"
       ],
       "metadata": {},
       "output_type": "pyout",
       "png": "[encoded data removed]",
       "prompt_number": 49,
       "text": [
        "[-1, 1, -\u2148, \u2148]"
       ]
      }
     ],
     "prompt_number": 49
    },
    {
     "cell_type": "markdown",
     "metadata": {},
     "source": [
      "Tambi\u00e9n se pueden resolver sistemas de ecuaciones en varias variables. Ahora el primer argumento de solve es una lista cuyos elementos son las ecuaciones a resolver, y el segundo argumento es otra lista formada por las variables o inc\u00f3gnitas del sistema. Por ejemplo:"
     ]
    },
    {
     "cell_type": "code",
     "collapsed": false,
     "input": [
      "solve([x + 5*y - 2, -3*x + 6*y - 15], [x, y])"
     ],
     "language": "python",
     "metadata": {},
     "outputs": [
      {
       "latex": [
        "$$\\begin{Bmatrix}x : -3, & y : 1\\end{Bmatrix}$$"
       ],
       "metadata": {},
       "output_type": "pyout",
       "png": "[encoded data removed]",
       "prompt_number": 79,
       "text": [
        "{x: -3, y: 1}"
       ]
      }
     ],
     "prompt_number": 79
    },
    {
     "cell_type": "markdown",
     "metadata": {},
     "source": [
      "Puede resolver ecuaciones en las que intervengan funciones trascendentes, pero su capacidad es limitada y, a veces, no encuentra la soluci\u00f3n."
     ]
    },
    {
     "cell_type": "code",
     "collapsed": false,
     "input": [
      "solve(exp(x) + 1, x)"
     ],
     "language": "python",
     "metadata": {},
     "outputs": [
      {
       "latex": [
        "$$\\begin{bmatrix}i \\pi\\end{bmatrix}$$"
       ],
       "metadata": {},
       "output_type": "pyout",
       "png": "[encoded data removed]",
       "prompt_number": 51,
       "text": [
        "[\u2148\u22c5\u03c0]"
       ]
      }
     ],
     "prompt_number": 51
    },
    {
     "cell_type": "markdown",
     "metadata": {},
     "source": [
      "Es posible factorizar polinomios en t\u00e9rminos de factores irreducibles con la funci\u00f3n `factor(funci\u00f3n)`:"
     ]
    },
    {
     "cell_type": "code",
     "collapsed": false,
     "input": [
      "f = x**4 - 3*x**2 + 1\n",
      "factor(f)"
     ],
     "language": "python",
     "metadata": {},
     "outputs": [
      {
       "latex": [
        "$$\\left(x^{2} - x - 1\\right) \\left(x^{2} + x - 1\\right)$$"
       ],
       "metadata": {},
       "output_type": "pyout",
       "png": "[encoded data removed]",
       "prompt_number": 52,
       "text": [
        "\u239b 2        \u239e \u239b 2        \u239e\n",
        "\u239dx  - x - 1\u23a0\u22c5\u239dx  + x - 1\u23a0"
       ]
      }
     ],
     "prompt_number": 52
    },
    {
     "cell_type": "code",
     "collapsed": false,
     "input": [
      "factor(f, modulus= 5)"
     ],
     "language": "python",
     "metadata": {},
     "outputs": [
      {
       "latex": [
        "$$\\left(x - 2\\right)^{2} \\left(x + 2\\right)^{2}$$"
       ],
       "metadata": {},
       "output_type": "pyout",
       "png": "[encoded data removed]",
       "prompt_number": 53,
       "text": [
        "       2        2\n",
        "(x - 2) \u22c5(x + 2) "
       ]
      }
     ],
     "prompt_number": 53
    },
    {
     "cell_type": "heading",
     "level": 2,
     "metadata": {},
     "source": [
      "\u00c1lgebra Lineal"
     ]
    },
    {
     "cell_type": "heading",
     "level": 2,
     "metadata": {},
     "source": [
      "Matrices"
     ]
    },
    {
     "cell_type": "markdown",
     "metadata": {},
     "source": [
      "Las matrices se crean como instancias de la clase Matrix:"
     ]
    },
    {
     "cell_type": "code",
     "collapsed": false,
     "input": [
      "from sympy import Matrix\n",
      "Matrix([[1,0], [0,1]])\n"
     ],
     "language": "python",
     "metadata": {},
     "outputs": [
      {
       "latex": [
        "$$\\left[\\begin{matrix}1 & 0\\\\0 & 1\\end{matrix}\\right]$$"
       ],
       "metadata": {},
       "output_type": "pyout",
       "png": "[encoded data removed]",
       "prompt_number": 54,
       "text": [
        "\u23a11  0\u23a4\n",
        "\u23a2    \u23a5\n",
        "\u23a30  1\u23a6"
       ]
      }
     ],
     "prompt_number": 54
    },
    {
     "cell_type": "markdown",
     "metadata": {},
     "source": [
      "A diferencia de los arreglos de NumPy, los de SymPy pueden contener s\u00edmbolos:"
     ]
    },
    {
     "cell_type": "code",
     "collapsed": false,
     "input": [
      "x= Symbol('x')\n",
      "y= Symbol('y')\n",
      "A = Matrix([[1,x], [y,1]])\n",
      "A"
     ],
     "language": "python",
     "metadata": {},
     "outputs": [
      {
       "latex": [
        "$$\\left[\\begin{matrix}1 & x\\\\y & 1\\end{matrix}\\right]$$"
       ],
       "metadata": {},
       "output_type": "pyout",
       "png": "[encoded data removed]",
       "prompt_number": 55,
       "text": [
        "\u23a11  x\u23a4\n",
        "\u23a2    \u23a5\n",
        "\u23a3y  1\u23a6"
       ]
      }
     ],
     "prompt_number": 55
    },
    {
     "cell_type": "code",
     "collapsed": false,
     "input": [
      "A**2"
     ],
     "language": "python",
     "metadata": {},
     "outputs": [
      {
       "latex": [
        "$$\\left[\\begin{matrix}x y + 1 & 2 x\\\\2 y & x y + 1\\end{matrix}\\right]$$"
       ],
       "metadata": {},
       "output_type": "pyout",
       "png": "[encoded data removed]",
       "prompt_number": 56,
       "text": [
        "\u23a1x\u22c5y + 1    2\u22c5x  \u23a4\n",
        "\u23a2                \u23a5\n",
        "\u23a3  2\u22c5y    x\u22c5y + 1\u23a6"
       ]
      }
     ],
     "prompt_number": 56
    },
    {
     "cell_type": "heading",
     "level": 2,
     "metadata": {},
     "source": [
      "Ecuaciones diferenciales"
     ]
    },
    {
     "cell_type": "code",
     "collapsed": false,
     "input": [
      "g= Symbol('g')\n",
      "g(x).diff(x, x) + g(x)"
     ],
     "language": "python",
     "metadata": {},
     "outputs": [
      {
       "latex": [
        "$$g{\\left (x \\right )} + \\frac{d^{2}}{d x^{2}}  g{\\left (x \\right )}$$"
       ],
       "metadata": {},
       "output_type": "pyout",
       "png": "[encoded data removed]",
       "prompt_number": 58,
       "text": [
        "         2      \n",
        "        d       \n",
        "g(x) + \u2500\u2500\u2500(g(x))\n",
        "         2      \n",
        "       dx       "
       ]
      }
     ],
     "prompt_number": 58
    },
    {
     "cell_type": "code",
     "collapsed": false,
     "input": [
      "dsolve(g(x).diff(x, x) + g(x), g(x))"
     ],
     "language": "python",
     "metadata": {},
     "outputs": [
      {
       "latex": [
        "$$g{\\left (x \\right )} = C_{1} \\sin{\\left (x \\right )} + C_{2} \\cos{\\left (x \\right )}$$"
       ],
       "metadata": {},
       "output_type": "pyout",
       "png": "[encoded data removed]",
       "prompt_number": 63,
       "text": [
        "g(x) = C\u2081\u22c5sin(x) + C\u2082\u22c5cos(x)"
       ]
      }
     ],
     "prompt_number": 63
    },
    {
     "cell_type": "markdown",
     "metadata": {},
     "source": [
      "Si uno quiere la ecuaci\u00f3n diferencial sea resuelta de un modo en particular, puede incluir \"pistas\" como segundo argumento de dsolve para guiarlo en la resoluci\u00f3n:"
     ]
    },
    {
     "cell_type": "code",
     "collapsed": false,
     "input": [
      "sin(x)*cos(g(x)) + cos(x)*sin(g(x))*g(x).diff(x)"
     ],
     "language": "python",
     "metadata": {},
     "outputs": [
      {
       "latex": [
        "$$\\sin{\\left (x \\right )} \\cos{\\left (g{\\left (x \\right )} \\right )} + \\sin{\\left (g{\\left (x \\right )} \\right )} \\cos{\\left (x \\right )} \\frac{d}{d x} g{\\left (x \\right )}$$"
       ],
       "metadata": {},
       "output_type": "pyout",
       "png": "[encoded data removed]",
       "prompt_number": 64,
       "text": [
        "                                    d       \n",
        "sin(x)\u22c5cos(g(x)) + sin(g(x))\u22c5cos(x)\u22c5\u2500\u2500(g(x))\n",
        "                                    dx      "
       ]
      }
     ],
     "prompt_number": 64
    },
    {
     "cell_type": "code",
     "collapsed": false,
     "input": [
      "dsolve(sin(x)*cos(g(x)) + cos(x)*sin(g(x))*g(x).diff(x), g(x), hint='separable')"
     ],
     "language": "python",
     "metadata": {},
     "outputs": [
      {
       "latex": [
        "$$\\begin{bmatrix}g{\\left (x \\right )} = - \\operatorname{asin}{\\left (\\sqrt{\\frac{C_{1}}{\\cos^{2}{\\left (x \\right )}} + 1} \\right )} + \\pi, & g{\\left (x \\right )} = \\operatorname{asin}{\\left (\\sqrt{\\frac{C_{1}}{\\cos^{2}{\\left (x \\right )}} + 1} \\right )} + \\pi, & g{\\left (x \\right )} = - \\operatorname{asin}{\\left (\\sqrt{\\frac{C_{1}}{\\cos^{2}{\\left (x \\right )}} + 1} \\right )}, & g{\\left (x \\right )} = \\operatorname{asin}{\\left (\\sqrt{\\frac{C_{1}}{\\cos^{2}{\\left (x \\right )}} + 1} \\right )}\\end{bmatrix}$$"
       ],
       "metadata": {},
       "output_type": "pyout",
       "png": "[encoded data removed]",
       "prompt_number": 65,
       "text": [
        "\u23a1             \u239b     _____________\u239e                 \u239b     _____________\u239e       \n",
        "\u23a2             \u239c    \u2571    C\u2081       \u239f                 \u239c    \u2571    C\u2081       \u239f       \n",
        "\u23a2g(x) = - asin\u239c   \u2571  \u2500\u2500\u2500\u2500\u2500\u2500\u2500 + 1 \u239f + \u03c0, g(x) = asin\u239c   \u2571  \u2500\u2500\u2500\u2500\u2500\u2500\u2500 + 1 \u239f + \u03c0, g\n",
        "\u23a2             \u239c  \u2571      2        \u239f                 \u239c  \u2571      2        \u239f       \n",
        "\u23a3             \u239d\u2572\u2571    cos (x)     \u23a0                 \u239d\u2572\u2571    cos (x)     \u23a0       \n",
        "\n",
        "           \u239b     _____________\u239e             \u239b     _____________\u239e\u23a4\n",
        "           \u239c    \u2571    C\u2081       \u239f             \u239c    \u2571    C\u2081       \u239f\u23a5\n",
        "(x) = -asin\u239c   \u2571  \u2500\u2500\u2500\u2500\u2500\u2500\u2500 + 1 \u239f, g(x) = asin\u239c   \u2571  \u2500\u2500\u2500\u2500\u2500\u2500\u2500 + 1 \u239f\u23a5\n",
        "           \u239c  \u2571      2        \u239f             \u239c  \u2571      2        \u239f\u23a5\n",
        "           \u239d\u2572\u2571    cos (x)     \u23a0             \u239d\u2572\u2571    cos (x)     \u23a0\u23a6"
       ]
      }
     ],
     "prompt_number": 65
    },
    {
     "cell_type": "markdown",
     "metadata": {},
     "source": [
      "**\u00a1Muchas Gracias!**"
     ]
    },
    {
     "cell_type": "markdown",
     "metadata": {},
     "source": [
      "# Numpy: la yapa\n"
     ]
    },
    {
     "cell_type": "code",
     "collapsed": false,
     "input": [
      "import numpy as np"
     ],
     "language": "python",
     "metadata": {},
     "outputs": [],
     "prompt_number": 67
    },
    {
     "cell_type": "code",
     "collapsed": false,
     "input": [
      "x = np.array([1, 2., 3.])\n",
      "y = np.array([.3, -5, 10])"
     ],
     "language": "python",
     "metadata": {},
     "outputs": [],
     "prompt_number": 88
    },
    {
     "cell_type": "markdown",
     "metadata": {},
     "source": [
      "Ya archisabemos que las operaciones se difunden"
     ]
    },
    {
     "cell_type": "code",
     "collapsed": false,
     "input": [
      "bool(x >= 2)"
     ],
     "language": "python",
     "metadata": {},
     "outputs": [
      {
       "ename": "ValueError",
       "evalue": "The truth value of an array with more than one element is ambiguous. Use a.any() or a.all()",
       "output_type": "pyerr",
       "traceback": [
        "\u001b[1;31m---------------------------------------------------------------------------\u001b[0m\n\u001b[1;31mValueError\u001b[0m                                Traceback (most recent call last)",
        "\u001b[1;32m<ipython-input-101-e301f242580e>\u001b[0m in \u001b[0;36m<module>\u001b[1;34m()\u001b[0m\n\u001b[1;32m----> 1\u001b[1;33m \u001b[0mbool\u001b[0m\u001b[1;33m(\u001b[0m\u001b[0mx\u001b[0m \u001b[1;33m>=\u001b[0m \u001b[1;36m2\u001b[0m\u001b[1;33m)\u001b[0m\u001b[1;33m\u001b[0m\u001b[0m\n\u001b[0m",
        "\u001b[1;31mValueError\u001b[0m: The truth value of an array with more than one element is ambiguous. Use a.any() or a.all()"
       ]
      }
     ],
     "prompt_number": 101
    },
    {
     "cell_type": "code",
     "collapsed": false,
     "input": [
      "np.all(y > x)"
     ],
     "language": "python",
     "metadata": {},
     "outputs": [
      {
       "metadata": {},
       "output_type": "pyout",
       "prompt_number": 94,
       "text": [
        "False"
       ]
      }
     ],
     "prompt_number": 94
    },
    {
     "cell_type": "markdown",
     "metadata": {},
     "source": [
      "**Cada elemento** de `x` es booleano, pero todo `x` no es ni verdadero ni falso. "
     ]
    },
    {
     "cell_type": "code",
     "collapsed": false,
     "input": [
      "bool(a >= 2)"
     ],
     "language": "python",
     "metadata": {},
     "outputs": [
      {
       "metadata": {},
       "output_type": "pyout",
       "prompt_number": 92,
       "text": [
        "False"
       ]
      }
     ],
     "prompt_number": 92
    },
    {
     "cell_type": "markdown",
     "metadata": {},
     "source": [
      "Ahora supongamos que tenemos esta funci\u00f3n"
     ]
    },
    {
     "cell_type": "code",
     "collapsed": false,
     "input": [
      "def myfunc(a, b):\n",
      "     \"\"\"Return a-b if a>b, otherwise return a+b\"\"\"\n",
      "     if a > b:\n",
      "         return a - b\n",
      "     else:\n",
      "        return a + b"
     ],
     "language": "python",
     "metadata": {},
     "outputs": [],
     "prompt_number": 95
    },
    {
     "cell_type": "code",
     "collapsed": false,
     "input": [
      "myfunc(3, 2)"
     ],
     "language": "python",
     "metadata": {},
     "outputs": [
      {
       "latex": [
        "$$1$$"
       ],
       "metadata": {},
       "output_type": "pyout",
       "png": "[encoded data removed]",
       "prompt_number": 96,
       "text": [
        "1"
       ]
      }
     ],
     "prompt_number": 96
    },
    {
     "cell_type": "markdown",
     "metadata": {},
     "source": [
      "Obvio. Pero si un argumento es un array, estaremos en el caso de arriba"
     ]
    },
    {
     "cell_type": "code",
     "collapsed": false,
     "input": [
      "myfunc(x, 2)"
     ],
     "language": "python",
     "metadata": {},
     "outputs": [
      {
       "ename": "ValueError",
       "evalue": "The truth value of an array with more than one element is ambiguous. Use a.any() or a.all()",
       "output_type": "pyerr",
       "traceback": [
        "\u001b[1;31m---------------------------------------------------------------------------\u001b[0m\n\u001b[1;31mValueError\u001b[0m                                Traceback (most recent call last)",
        "\u001b[1;32m<ipython-input-102-9ea642dcf86c>\u001b[0m in \u001b[0;36m<module>\u001b[1;34m()\u001b[0m\n\u001b[1;32m----> 1\u001b[1;33m \u001b[0mmyfunc\u001b[0m\u001b[1;33m(\u001b[0m\u001b[0mx\u001b[0m\u001b[1;33m,\u001b[0m \u001b[1;36m2\u001b[0m\u001b[1;33m)\u001b[0m\u001b[1;33m\u001b[0m\u001b[0m\n\u001b[0m",
        "\u001b[1;32m<ipython-input-97-8d9c3d8e55eb>\u001b[0m in \u001b[0;36mmyfunc\u001b[1;34m(a, b)\u001b[0m\n\u001b[0;32m      1\u001b[0m \u001b[1;32mdef\u001b[0m \u001b[0mmyfunc\u001b[0m\u001b[1;33m(\u001b[0m\u001b[0ma\u001b[0m\u001b[1;33m,\u001b[0m \u001b[0mb\u001b[0m\u001b[1;33m)\u001b[0m\u001b[1;33m:\u001b[0m\u001b[1;33m\u001b[0m\u001b[0m\n\u001b[0;32m      2\u001b[0m      \u001b[1;34m\"\"\"Return a-b if a>b, otherwise return a+b\"\"\"\u001b[0m\u001b[1;33m\u001b[0m\u001b[0m\n\u001b[1;32m----> 3\u001b[1;33m      \u001b[1;32mif\u001b[0m \u001b[0ma\u001b[0m \u001b[1;33m>\u001b[0m \u001b[0mb\u001b[0m\u001b[1;33m:\u001b[0m\u001b[1;33m\u001b[0m\u001b[0m\n\u001b[0m\u001b[0;32m      4\u001b[0m          \u001b[1;32mreturn\u001b[0m \u001b[0ma\u001b[0m \u001b[1;33m-\u001b[0m \u001b[0mb\u001b[0m\u001b[1;33m\u001b[0m\u001b[0m\n\u001b[0;32m      5\u001b[0m      \u001b[1;32melse\u001b[0m\u001b[1;33m:\u001b[0m\u001b[1;33m\u001b[0m\u001b[0m\n",
        "\u001b[1;31mValueError\u001b[0m: The truth value of an array with more than one element is ambiguous. Use a.any() or a.all()"
       ]
      }
     ],
     "prompt_number": 102
    },
    {
     "cell_type": "markdown",
     "metadata": {},
     "source": [
      "Lo que necesitamos es **vectorizar la funci\u00f3n**. `vectorize` transforma una funci\u00f3n cualquiera a la magia de numpy: esto es, cuando un parametro es un array, automaticamente se realiza una iteraci\u00f3n implicita, elemento a elemento. "
     ]
    },
    {
     "cell_type": "code",
     "collapsed": false,
     "input": [
      "vmyfunc = np.vectorize(myfunc)\n",
      "vmyfunc(x,2)    # para cada elemento de x, aplica myfunc"
     ],
     "language": "python",
     "metadata": {},
     "outputs": [
      {
       "metadata": {},
       "output_type": "pyout",
       "prompt_number": 103,
       "text": [
        "array([ 3.,  4.,  1.])"
       ]
      }
     ],
     "prompt_number": 103
    },
    {
     "cell_type": "markdown",
     "metadata": {},
     "source": [
      "Y sigue funcionando para escalares"
     ]
    },
    {
     "cell_type": "code",
     "collapsed": false,
     "input": [
      "vmyfunc(x,y)"
     ],
     "language": "python",
     "metadata": {},
     "outputs": [
      {
       "metadata": {},
       "output_type": "pyout",
       "prompt_number": 106,
       "text": [
        "array([  0.7,   7. ,  13. ])"
       ]
      }
     ],
     "prompt_number": 106
    },
    {
     "cell_type": "code",
     "collapsed": false,
     "input": [
      "vmyfunc??"
     ],
     "language": "python",
     "metadata": {},
     "outputs": [],
     "prompt_number": 107
    },
    {
     "cell_type": "code",
     "collapsed": false,
     "input": [],
     "language": "python",
     "metadata": {},
     "outputs": []
    }
   ],
   "metadata": {}
  }
 ]
}