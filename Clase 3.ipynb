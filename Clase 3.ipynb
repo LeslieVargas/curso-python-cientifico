{
 "metadata": {
  "name": "",
  "signature": "sha256:2a33f2275eb9b22a451729c94b5cd5c10d461068580acbc1feaedf028ce19c41"
 },
 "nbformat": 3,
 "nbformat_minor": 0,
 "worksheets": [
  {
   "cells": [
    {
     "cell_type": "markdown",
     "metadata": {},
     "source": [
      "# Introducci\u00f3n a Python para ciencias e ingenier\u00edas (notebook 3)\n",
      "\n",
      "\n",
      "Ing. Mart\u00edn Gait\u00e1n (Phasety)\n",
      "\n",
      "\n",
      "![](img/logo_small.png)\n",
      "\n",
      "--------\n",
      "\n",
      "\n"
     ]
    },
    {
     "cell_type": "markdown",
     "metadata": {},
     "source": [
      "\n",
      "## M\u00f3dulos y paquetes\n",
      "\n",
      "\n",
      "Buen\u00edsimo estos *notebooks* pero \u00bfqu\u00e9 pasa si quiero reusar c\u00f3digo? \n",
      "\n",
      "Hay que crear **m\u00f3dulos**. \n",
      "\n",
      "Por ejemplo, abramos el editor y guardemos esta funci\u00f3n:\n",
      "\n",
      "        \n",
      "    def raices(a, b, c, margen=1e-5):\n",
      "        \"\"\"Dados los coeficientes a, b y c encuentra los valores de X\n",
      "           que hacen aX^2 + bX + c == 0\"\"\"\n",
      "        \n",
      "        discriminante = b*b - 4*a*c\n",
      "        a,b,c,d = complex(a), complex(b), complex(c), complex(discriminante)\n",
      "        raiz1 = (-b + d**0.5)/2./a\n",
      "        raiz2 = (-b - d**0.5)/2./a\n",
      "        if abs(discriminante) < margen:\n",
      "            # reales e iguales\n",
      "            return abs(raiz1), abs(raiz1)\n",
      "        if discriminante > 0:\n",
      "            # reales\n",
      "            return raiz1.real, raiz2.real\n",
      "        # complejas\n",
      "        return raiz1, raiz2\n"
     ]
    },
    {
     "cell_type": "code",
     "collapsed": true,
     "input": [
      "!gedit cuadratica.py    # truquito para ejecutar programas desde ipython"
     ],
     "language": "python",
     "metadata": {},
     "outputs": []
    },
    {
     "cell_type": "markdown",
     "metadata": {},
     "source": [
      "Lo hemos guardado en un archivo `cuadratica.py` en el directorio donde estamos corriendo esta consola (notebook), entonces directamente podemos **importar** ese modulo. "
     ]
    },
    {
     "cell_type": "code",
     "collapsed": false,
     "input": [
      "import cuadratica"
     ],
     "language": "python",
     "metadata": {},
     "outputs": []
    },
    {
     "cell_type": "markdown",
     "metadata": {},
     "source": [
      "Esto nos crea un *\"espacio de nombres\"* llamado `cuadratica`, dentro del cual est\u00e1 la funci\u00f3n que definimos "
     ]
    },
    {
     "cell_type": "code",
     "collapsed": false,
     "input": [
      "cuadratica.raices?"
     ],
     "language": "python",
     "metadata": {},
     "outputs": []
    },
    {
     "cell_type": "code",
     "collapsed": false,
     "input": [
      "cuadratica.raices(3, 2, -1)"
     ],
     "language": "python",
     "metadata": {},
     "outputs": []
    },
    {
     "cell_type": "code",
     "collapsed": false,
     "input": [
      "cuadratica.raices(3, 2, 1)"
     ],
     "language": "python",
     "metadata": {},
     "outputs": []
    },
    {
     "cell_type": "markdown",
     "metadata": {},
     "source": [
      "Importar un modulo y usarlo como prefijo **es una buena pr\u00e1ctica** para saber d\u00f3nde est\u00e1 realmente definido un c\u00f3digo. No obstante hay otras maneras. A veces es util usar un alias as\u00ed\n"
     ]
    },
    {
     "cell_type": "code",
     "collapsed": false,
     "input": [
      "import cuadratica as cuad   # igual que la primera forma pero poniendole un alias (mas breve). \n",
      "\n",
      "cuad.raices?"
     ],
     "language": "python",
     "metadata": {},
     "outputs": []
    },
    {
     "cell_type": "markdown",
     "metadata": {},
     "source": [
      "Si s\u00f3lo queremos alguna unidad de c\u00f3digo y no todo el m\u00f3dulo, entonces podemos hacer una importaci\u00f3n selectiva"
     ]
    },
    {
     "cell_type": "code",
     "collapsed": false,
     "input": [
      "from cuadratica import raices  # s\u00f3lo importa el \"objeto\" que indequemos y lo deja \n",
      "                               # en el espacio de nombres actual"
     ],
     "language": "python",
     "metadata": {},
     "outputs": []
    },
    {
     "cell_type": "markdown",
     "metadata": {},
     "source": [
      "Si, como sucede en general, el m\u00f3dulo definiera m\u00e1s de una unidad de c\u00f3digo (una funci\u00f3n, clase, constantes, etc.) podemos usar una tupla para importar varias cosas cosas al espacio de nombres actual. Por ejemplo:\n",
      "\n",
      "      from cuadratica import raices, integral, diferencial \n",
      " \n",
      "Por \u00faltimo, si queremos importar todo pero no usar el prefijo, podemos usar el `*`. **Esto no es recomendado**\n",
      "    \n",
      "    from cuadratica import *"
     ]
    },
    {
     "cell_type": "markdown",
     "metadata": {},
     "source": [
      "Cuando tenemos muchos m\u00f3dulos que est\u00e1n relacionados es bueno armar un **paquete**. Un paquete de modulos es un simple directorio con un m\u00f3dulo llamado `__init__.py` (que puede estar vacio) y tantos modulos y subpaquetes como queramos. Los paquetes se usan igual que un m\u00f3dulo. Por ejemplo, supongamos que tenemos una estructura\n",
      "\n",
      "    paquete/\n",
      "       __init__.py\n",
      "       modulo.py\n",
      "\n",
      "Puedo importar la `funcion_loca` definida en `modulo.py` as\u00ed \n",
      "\n",
      "    from paquete.modulo import funcion_loca \n"
     ]
    },
    {
     "cell_type": "markdown",
     "metadata": {},
     "source": [
      "## M\u00f3dulos y paquetes inclu\u00eddos: las bater\u00edas puestas de Python\n",
      "\n",
      "Hasta ahora vimos algunas funciones y estructuras de datos que Python ofrece sin tener que importar nada, pero sin tener que instalar ninguna biblioteca extra, cualquier versi\u00f3n de python trae muchos m\u00f3dulos y paquetes listos para usar. Es lo que se conoce como la [librer\u00eda est\u00e1ndar de python](http://docs.python.org/2/library/) y es muy abarcativa y potente. \n",
      "\n",
      "Por ejemplo funciones matem\u00e1ticas, manejo de algunos formatos de archivos m\u00e1s espec\u00edficos que el \"texto plano\", protocolos de internet, otras *clases* de n\u00fameros y estructuras de datos,  etc. \n",
      "\n",
      "### Funciones y constantes matem\u00e1ticas"
     ]
    },
    {
     "cell_type": "code",
     "collapsed": false,
     "input": [
      "import math"
     ],
     "language": "python",
     "metadata": {},
     "outputs": []
    },
    {
     "cell_type": "code",
     "collapsed": false,
     "input": [
      "math.cos(math.pi)"
     ],
     "language": "python",
     "metadata": {},
     "outputs": []
    },
    {
     "cell_type": "code",
     "collapsed": false,
     "input": [
      "math.sqrt(2)"
     ],
     "language": "python",
     "metadata": {},
     "outputs": []
    },
    {
     "cell_type": "markdown",
     "metadata": {},
     "source": [
      "### CSV\n",
      "\n",
      "Los CSV (comma separated values) son una forma b\u00e1sica pero muy extendida de intercambiar informaci\u00f3n estructurada entre distintos programas. Por ejemplo, desde Excel o Libreoffice Calc se pueden guardar (y abrir) archivos CSV. y python tambi\u00e9n sabe. \n"
     ]
    },
    {
     "cell_type": "code",
     "collapsed": false,
     "input": [
      "%less data/near_critical_oil.csv   # cuando algo empieza con % es \"magia\" de ipython (no funcionan en python puro)\n",
      "                                   # ver %magic para m\u00e1s datos"
     ],
     "language": "python",
     "metadata": {},
     "outputs": []
    },
    {
     "cell_type": "code",
     "collapsed": false,
     "input": [
      "import csv\n",
      "reader = csv.reader(open('data/near_critical_oil.csv'))\n",
      "critical_oil = [line for line in reader]\n",
      "critical_oil"
     ],
     "language": "python",
     "metadata": {},
     "outputs": []
    },
    {
     "cell_type": "markdown",
     "metadata": {},
     "source": [
      "### Otros m\u00f3dulos interesantes para ver\n",
      "\n",
      "- json: serializaci\u00f3n de objetos en formato JSON (muy comun en \"servicios web\")\n",
      "- random: aleatoridad (numeros, funciones)\n",
      "- os: acceso al sistema operativo (directorios, archivos, etc)\n",
      "- y mucho \u00a1mucho! m\u00e1s http://docs.python.org/2/library/\n"
     ]
    },
    {
     "cell_type": "markdown",
     "metadata": {},
     "source": [
      "## Matplotlib, un gr\u00e1fico vale m\u00e1s que mil palabras\n",
      "\n",
      "Python es un lenguaje muy completo pero aunque es muy grande, su librer\u00eda est\u00e1ndar no es infinita. Por suerte hay miles y miles de bibliotecas extra para complementar casi cualquier aspecto en el que queramos aplicar Python. En algunos \u00e1mbitos, con soluciones muy destacadas. \n",
      "\n",
      "Para hacer gr\u00e1ficos existe Matplotlib http://matplotlib.org/ . Ya viene instalado con la versi\u00f3n completa de Anaconda. \n"
     ]
    },
    {
     "cell_type": "code",
     "collapsed": false,
     "input": [
      "%matplotlib inline"
     ],
     "language": "python",
     "metadata": {},
     "outputs": []
    },
    {
     "cell_type": "code",
     "collapsed": false,
     "input": [
      "from matplotlib import pyplot"
     ],
     "language": "python",
     "metadata": {},
     "outputs": []
    },
    {
     "cell_type": "code",
     "collapsed": false,
     "input": [
      "x = [0.1*i for i in range(-50, 51)]\n",
      "y = [x_i**2 for x_i in x]"
     ],
     "language": "python",
     "metadata": {},
     "outputs": []
    },
    {
     "cell_type": "code",
     "collapsed": false,
     "input": [
      "pyplot.plot(x,y)"
     ],
     "language": "python",
     "metadata": {},
     "outputs": []
    },
    {
     "cell_type": "markdown",
     "metadata": {},
     "source": [
      "Los gr\u00e1ficos emergentes son buenos porque tiene la barra de herramientas y podemos guardarlos en excelente calidad (incluso vectorial, ideal para un poster A0). Pero en los notebooks podemos poner los gr\u00e1ficos directamente incrustados"
     ]
    },
    {
     "cell_type": "code",
     "collapsed": false,
     "input": [
      "pyplot.plot(x,y)\n",
      "pyplot.title('Par\u00e1 bola!')\n",
      "pyplot.grid()"
     ],
     "language": "python",
     "metadata": {},
     "outputs": []
    },
    {
     "cell_type": "markdown",
     "metadata": {},
     "source": [
      "Matplotlib sabe hacer much\u00edsimos tipos de gr\u00e1ficos!"
     ]
    },
    {
     "cell_type": "code",
     "collapsed": false,
     "input": [
      "components = [c for (c, f) in critical_oil[1:]]\n",
      "fraction = [float(f) for (c, f) in critical_oil[1:]]\n",
      "# el ; evita el output\n",
      "pyplot.pie(fraction, labels=components, shadow=True);"
     ],
     "language": "python",
     "metadata": {},
     "outputs": []
    },
    {
     "cell_type": "code",
     "collapsed": false,
     "input": [
      "import random\n",
      "campana = [random.gauss(0, 0.5) for i in range(1000)]"
     ],
     "language": "python",
     "metadata": {},
     "outputs": []
    },
    {
     "cell_type": "code",
     "collapsed": false,
     "input": [
      "pyplot.hist(campana, bins=15);"
     ],
     "language": "python",
     "metadata": {},
     "outputs": []
    },
    {
     "cell_type": "markdown",
     "metadata": {},
     "source": [
      "Pero antes de seguir con Matplotlib debemos aprender el coraz\u00f3n del Python Cientifico: Numpy"
     ]
    },
    {
     "cell_type": "markdown",
     "metadata": {},
     "source": [
      "## Numpy, todo es un array\n",
      "\n",
      "El paquete **numpy** es usado en casi todos los c\u00e1lculos num\u00e9ricos usando Python. Es un paquete que provee a Python de estructuras de datos vectoriales, matriciales y de rango mayor, de alto rendimiento. Est\u00e1 implementado en C y Fortran, de modo que cuando los c\u00e1lculos son vectorizados (formulados con vectores y matrices), el rendimiento es muy bueno."
     ]
    },
    {
     "cell_type": "code",
     "collapsed": false,
     "input": [
      "import numpy as np"
     ],
     "language": "python",
     "metadata": {},
     "outputs": []
    },
    {
     "cell_type": "markdown",
     "metadata": {},
     "source": [
      "El pilar de numpy (y toda la computaci\u00f3n cient\u00edfica basada en Python) es el tipo de datos `ndarray`, o sea arreglos de datos multidimensionales. \n",
      "\n",
      "\u00bfOtra secuencia m\u00e1s? \u00bfpero que tenina de malo las listas?\n",
      "\n",
      "Las listas son geniales pero guardar **cualquier tipo de objeto** y su flexibilidad las vuelve ineficientes"
     ]
    },
    {
     "cell_type": "code",
     "collapsed": false,
     "input": [
      "%timeit [0.1*i for i in range(10000)]    # %timeit es otra magia de ipython"
     ],
     "language": "python",
     "metadata": {},
     "outputs": []
    },
    {
     "cell_type": "code",
     "collapsed": false,
     "input": [
      "%timeit np.arange(0, 1000, .1)    # arange es igual a range, pero soporta paso de tipo flotante"
     ],
     "language": "python",
     "metadata": {},
     "outputs": []
    },
    {
     "cell_type": "markdown",
     "metadata": {},
     "source": [
      "Existen varias formas para inicializar nuevos arreglos de numpy, por ejemplo desde\n",
      "\n",
      "- Listas o tuplas\n",
      "- Usando funciones dedicadas a generar arreglos numpy, como `arange`, `linspace`,`ones`, `zeros` etc.\n",
      "- Leyendo datos desde archivos"
     ]
    },
    {
     "cell_type": "code",
     "collapsed": false,
     "input": [
      "v = np.array([1,2,3,4])\n",
      "v"
     ],
     "language": "python",
     "metadata": {},
     "outputs": []
    },
    {
     "cell_type": "code",
     "collapsed": false,
     "input": [
      "# una matriz: el argumento de la funci\u00f3n array function es una lista anidada de Python\n",
      "M = np.array([[1, 2], \n",
      "              [3, 4]])\n",
      "M"
     ],
     "language": "python",
     "metadata": {},
     "outputs": []
    },
    {
     "cell_type": "code",
     "collapsed": false,
     "input": [
      "type(v), type(M)"
     ],
     "language": "python",
     "metadata": {},
     "outputs": []
    },
    {
     "cell_type": "markdown",
     "metadata": {},
     "source": [
      "Los ndarrays tienen distintos atributos. Por ejemplo"
     ]
    },
    {
     "cell_type": "code",
     "collapsed": false,
     "input": [
      "v.ndim, M.ndim    # cantidad de dimensiones"
     ],
     "language": "python",
     "metadata": {},
     "outputs": []
    },
    {
     "cell_type": "code",
     "collapsed": false,
     "input": [
      "v.shape, M.shape  # tupla de \"forma\". len(v.shape) == v.ndim"
     ],
     "language": "python",
     "metadata": {},
     "outputs": []
    },
    {
     "cell_type": "code",
     "collapsed": false,
     "input": [
      "v.size, M.size   # cantidad de elementos. "
     ],
     "language": "python",
     "metadata": {},
     "outputs": []
    },
    {
     "cell_type": "code",
     "collapsed": false,
     "input": [
      "M.T   # transpuesta!"
     ],
     "language": "python",
     "metadata": {},
     "outputs": []
    },
    {
     "cell_type": "markdown",
     "metadata": {},
     "source": [
      "A diferencia de las listas, los *arrays* tambien **tienen un tipo homog\u00e9neo** "
     ]
    },
    {
     "cell_type": "code",
     "collapsed": false,
     "input": [
      "v.dtype     # "
     ],
     "language": "python",
     "metadata": {},
     "outputs": []
    },
    {
     "cell_type": "markdown",
     "metadata": {},
     "source": [
      "Se puede definir explicitamente el tipo de datos del array"
     ]
    },
    {
     "cell_type": "code",
     "collapsed": false,
     "input": [
      "np.array([[1, 2], [3, 4]], dtype=complex)"
     ],
     "language": "python",
     "metadata": {},
     "outputs": []
    },
    {
     "cell_type": "markdown",
     "metadata": {},
     "source": [
      "Una gran ventaja del atributo `shape` es que podemos cambiarlo. Es decir, reacomodar la distruci\u00f3n de los elementos (por supuesto, sin perderlos en el camino)"
     ]
    },
    {
     "cell_type": "code",
     "collapsed": false,
     "input": [
      "A = np.arange(0, 12)\n",
      "print(A)"
     ],
     "language": "python",
     "metadata": {},
     "outputs": []
    },
    {
     "cell_type": "code",
     "collapsed": false,
     "input": [
      "A.shape = 3, 4\n",
      "print(A)"
     ],
     "language": "python",
     "metadata": {},
     "outputs": []
    },
    {
     "cell_type": "markdown",
     "metadata": {},
     "source": [
      "Esto es porque numpy en general no mueve los elementos de la memoria y en cambio usa **vistas** para mostrar los elementos de distinta forma. Es importante entender esto porque incluso los slicings son vistas. "
     ]
    },
    {
     "cell_type": "code",
     "collapsed": false,
     "input": [
      "a = np.arange(10)\n",
      "b = a[::2]  # todo de 2 en 2\n",
      "b"
     ],
     "language": "python",
     "metadata": {},
     "outputs": []
    },
    {
     "cell_type": "code",
     "collapsed": false,
     "input": [
      "b[0] = 12\n",
      "a  # chan!!!"
     ],
     "language": "python",
     "metadata": {},
     "outputs": []
    },
    {
     "cell_type": "markdown",
     "metadata": {},
     "source": [
      "En cambio"
     ]
    },
    {
     "cell_type": "code",
     "collapsed": false,
     "input": [
      "a = np.arange(10)\n",
      "b = a[::2].copy()\n",
      "b[0] = 12\n",
      "a"
     ],
     "language": "python",
     "metadata": {},
     "outputs": []
    },
    {
     "cell_type": "markdown",
     "metadata": {},
     "source": [
      "Adem\u00e1s de `arange` hay otras funciones que devuelven arrays. Por ejemplo `linspace`, que a diferencia de `arange` no se da el tama\u00f1o del paso, sino la cantidad de puntos que queremos en el rango"
     ]
    },
    {
     "cell_type": "code",
     "collapsed": false,
     "input": [
      "np.linspace(0, 2 * np.pi, 100)      # por defecto, incluye el limite. "
     ],
     "language": "python",
     "metadata": {},
     "outputs": []
    },
    {
     "cell_type": "code",
     "collapsed": false,
     "input": [
      "_.size   # en cualquier consola, python guarda el ultimo output en la variable _ "
     ],
     "language": "python",
     "metadata": {},
     "outputs": []
    },
    {
     "cell_type": "code",
     "collapsed": false,
     "input": [
      "matriz_de_ceros = np.zeros((4,6))\n",
      "matriz_de_ceros"
     ],
     "language": "python",
     "metadata": {},
     "outputs": []
    },
    {
     "cell_type": "code",
     "collapsed": false,
     "input": [
      "np.ones((2, 4))"
     ],
     "language": "python",
     "metadata": {},
     "outputs": []
    },
    {
     "cell_type": "markdown",
     "metadata": {},
     "source": [
      "Pero numpy no s\u00f3lo nos brinda los arrays. Los conceptos claves que aporta son *vectorizaci\u00f3n* y *broadcasting*\n",
      "\n",
      "La **vectorizaci\u00f3n** describe la **ausencia de iteraciones expl\u00edcitas e indizaci\u00f3n**\n",
      "(que toman lugar, por supuesto, \"detr\u00e1s de escena\", en un optimizado y precompilado\n",
      "c\u00f3digo C). La vectorizaci\u00f3n tiene muchas ventajas:\n",
      "\n",
      "* El c\u00f3digo vectorizado es m\u00e1s conciso y f\u00e1cil de leer.\n",
      "* Menos l\u00edneas de c\u00f3digo habitualmente implican menos errores.\n",
      "* El c\u00f3digo se parece m\u00e1s a la notaci\u00f3n matem\u00e1tica est\u00e1ndar (por lo que es m\u00e1s f\u00e1cil,\n",
      "por lo general, corregir c\u00f3digo asociado a construcciones matem\u00e1ticas\n",
      "* La vectorizaci\u00f3n redunda en un c\u00f3digo m\u00e1s \"pyth\u00f3nico\""
     ]
    },
    {
     "cell_type": "code",
     "collapsed": false,
     "input": [
      "a = np.array([3, 4.3, 1])\n",
      "b = np.array([-1, 0, 3.4])\n",
      "c = a * b\n",
      "c"
     ],
     "language": "python",
     "metadata": {},
     "outputs": []
    },
    {
     "cell_type": "markdown",
     "metadata": {},
     "source": [
      "\u00a1Basta de bucles `for` for todos lados! "
     ]
    },
    {
     "cell_type": "markdown",
     "metadata": {},
     "source": [
      "El **broadcasting** (*difusi\u00f3n*) es el t\u00e9rmino que describe el comportamiento\n",
      "**elemento por elemento** de las operaciones. En general, en Numpy todas\n",
      "las operaciones adoptan por defecto un comportamiento de este tipo (no s\u00f3lo las operaciones\n",
      "aritm\u00e9ticas sino las l\u00f3gicas, las funcionales y las de nivel de bits). "
     ]
    },
    {
     "cell_type": "code",
     "collapsed": false,
     "input": [
      "x = np.linspace(-12, 12, 1000)\n",
      "y = x ** 2 - 1\n",
      "pyplot.plot(x, y)"
     ],
     "language": "python",
     "metadata": {},
     "outputs": []
    },
    {
     "cell_type": "markdown",
     "metadata": {},
     "source": [
      "Matplotlib se lleva muy bien con numpy (de hecho lo usa internamente)"
     ]
    },
    {
     "cell_type": "markdown",
     "metadata": {},
     "source": [
      "### Slicing extendido\n",
      "\n",
      "El funcionamiento b\u00e1sico del indexado y el slicing funciona igual con `ndarrays` que con cualquier secuencia.  \n"
     ]
    },
    {
     "cell_type": "code",
     "collapsed": false,
     "input": [
      "ruido = np.random.random(1000)   # 1000 numeros aleatorios entre [0, 1)\n"
     ],
     "language": "python",
     "metadata": {},
     "outputs": []
    },
    {
     "cell_type": "code",
     "collapsed": false,
     "input": [
      "ruido[0] == ruido[-1000]"
     ],
     "language": "python",
     "metadata": {},
     "outputs": []
    },
    {
     "cell_type": "code",
     "collapsed": false,
     "input": [
      "ruido[999] == ruido[-1]"
     ],
     "language": "python",
     "metadata": {},
     "outputs": []
    },
    {
     "cell_type": "code",
     "collapsed": false,
     "input": [
      "ruido[1:5]"
     ],
     "language": "python",
     "metadata": {},
     "outputs": []
    },
    {
     "cell_type": "code",
     "collapsed": false,
     "input": [
      "ruido[0:10] = np.zeros((10,))  # claro que los arrays son mutables!"
     ],
     "language": "python",
     "metadata": {},
     "outputs": []
    },
    {
     "cell_type": "markdown",
     "metadata": {},
     "source": [
      "Pero veamos algo m\u00e1s. Supongamos que tenemos una matriz de 3x3"
     ]
    },
    {
     "cell_type": "code",
     "collapsed": false,
     "input": [
      "m = np.arange(0, 9)  \n",
      "m.shape = 3, 3\n",
      "m"
     ],
     "language": "python",
     "metadata": {},
     "outputs": []
    },
    {
     "cell_type": "code",
     "collapsed": false,
     "input": [
      "m[0]       # primer indice: filas"
     ],
     "language": "python",
     "metadata": {},
     "outputs": []
    },
    {
     "cell_type": "code",
     "collapsed": false,
     "input": [
      "m[0:2]"
     ],
     "language": "python",
     "metadata": {},
     "outputs": []
    },
    {
     "cell_type": "markdown",
     "metadata": {},
     "source": [
      "Pero la sintaxis se extiende de una manera eficiente y compacta.\n",
      "\n"
     ]
    },
    {
     "cell_type": "code",
     "collapsed": false,
     "input": [
      "%timeit m[1][1]      # buuuuh!!!"
     ],
     "language": "python",
     "metadata": {},
     "outputs": []
    },
    {
     "cell_type": "code",
     "collapsed": false,
     "input": [
      "%timeit m[1,1]    # yeaaaa!!!"
     ],
     "language": "python",
     "metadata": {},
     "outputs": []
    },
    {
     "cell_type": "code",
     "collapsed": false,
     "input": [
      "m[:,0]      # quiero la primer columna"
     ],
     "language": "python",
     "metadata": {},
     "outputs": []
    },
    {
     "cell_type": "code",
     "collapsed": false,
     "input": [
      "m[0:2, 0:2]   # la submatriz superior izquierda de 2x2 "
     ],
     "language": "python",
     "metadata": {},
     "outputs": []
    },
    {
     "cell_type": "markdown",
     "metadata": {},
     "source": [
      "Se acuerdan que en el slicing com\u00fan hab\u00eda un tercer parametro opcional que era el paso? Funciona ac\u00e1 tambi\u00e9n"
     ]
    },
    {
     "cell_type": "code",
     "collapsed": false,
     "input": [
      "m[::2, ::2]    # esquinas"
     ],
     "language": "python",
     "metadata": {},
     "outputs": []
    },
    {
     "cell_type": "markdown",
     "metadata": {},
     "source": [
      "Como resumen\n",
      "\n",
      "![](http://www.tp.umu.se/~nylen/pylect/_images/numpy_indexing.png)\n"
     ]
    },
    {
     "cell_type": "markdown",
     "metadata": {},
     "source": [
      "### Ejercicios\n",
      "\n",
      "- Crear un array de 1000 n\u00fameros aleatorios y encontrar su media (tip: ver el m\u00e9todo `mean()`)\n",
      "- Crear una array (matriz) de 10x10 donde cada fila va del 0 al 0 (tip: \u00bfqu\u00e9 pasa al sumar un array 2d con otro 1d?)\n",
      "- Crear una matriz de esta forma\n",
      "\n",
      "        array([[0, 0, 0, 0, 5],\n",
      "               [0, 0, 0, 4, 0],\n",
      "               [0, 0, 3, 0, 0],\n",
      "               [0, 2, 0, 0, 0],\n",
      "               [1, 0, 0, 0, 0]])\n",
      "  (tip: investigar la funci\u00f3n `diag()` y `rot90()`\n"
     ]
    },
    {
     "cell_type": "markdown",
     "metadata": {},
     "source": [
      "### Algunas funciones inclu\u00eddas en numpy\n",
      "\n",
      "Encontrar raices de un polinomio"
     ]
    },
    {
     "cell_type": "code",
     "collapsed": false,
     "input": [
      "np.roots([2, 0, -2])"
     ],
     "language": "python",
     "metadata": {},
     "outputs": []
    },
    {
     "cell_type": "code",
     "collapsed": false,
     "input": [
      "np.roots([1j, -4+0.4j, 18, -np.pi, 0])  # polinomio de grado 5!"
     ],
     "language": "python",
     "metadata": {},
     "outputs": []
    },
    {
     "cell_type": "markdown",
     "metadata": {},
     "source": [
      "Resolver un sistema de ecuaciones lineales  `Ax = b`"
     ]
    },
    {
     "cell_type": "code",
     "collapsed": false,
     "input": [
      "A = np.array([[1, 2], [0.5, -2]])\n",
      "b = np.array([4, 5.2])"
     ],
     "language": "python",
     "metadata": {},
     "outputs": []
    },
    {
     "cell_type": "code",
     "collapsed": false,
     "input": [
      "x = np.linalg.solve(A, b)\n",
      "x"
     ],
     "language": "python",
     "metadata": {},
     "outputs": []
    },
    {
     "cell_type": "markdown",
     "metadata": {},
     "source": [
      "Encontrar la inversa de una matriz"
     ]
    },
    {
     "cell_type": "code",
     "collapsed": false,
     "input": [
      "A = np.array([[1,2],[3,4]])\n",
      "invA = np.linalg.inv(A)\n",
      "invA"
     ],
     "language": "python",
     "metadata": {},
     "outputs": []
    },
    {
     "cell_type": "code",
     "collapsed": false,
     "input": [
      "np.dot(A,invA)   # producto punto"
     ],
     "language": "python",
     "metadata": {},
     "outputs": []
    },
    {
     "cell_type": "markdown",
     "metadata": {},
     "source": [
      "### Ejercicios\n",
      "\n",
      "- Encontrar las raices para el polinomio $$f(x) = \\frac{1}{4}(x^3 + 3x^2 \u2212 6x \u2212 8)$$ y grafique con x entre [-3, 3]\n",
      "- Resuelva el siguiente sistema de ecuaciones \n",
      "\n",
      "  $$\\begin{array} - -x + z = -2\\\\ 2x - y + z = 1 \\\\ -3x + 2y -2z = -1 \\\\ x - 2y + 3z = -2 \\end{array}$$\n",
      "\n"
     ]
    },
    {
     "cell_type": "code",
     "collapsed": false,
     "input": [],
     "language": "python",
     "metadata": {},
     "outputs": []
    }
   ],
   "metadata": {}
  }
 ]
}