{
 "cells": [
  {
   "cell_type": "markdown",
   "metadata": {},
   "source": [
    "# Introducción a Python para ciencias e ingenierías (notebook 3)\n",
    "\n",
    "\n",
    "Ing. Martín Gaitán \n",
    "\n",
    "\n",
    "Twitter: `@tin_nqn_`\n",
    "\n",
    "\n",
    "** Registrá tu asistencia a esta clase **\n",
    "\n",
    "### http://goo.gl/forms/olbkNwX700\n",
    "\n",
    "\n",
    "**Links útiles**\n",
    "\n",
    "Repositorio del curso:\n",
    "\n",
    "### http://bit.ly/cursopy\n",
    "\n",
    "Python \"temporal\" online: \n",
    "\n",
    "### http://try.jupyter.org\n",
    "\n",
    "- Descarga de [Python \"Anaconda\"](http://continuum.io/downloads#py34)\n",
    "- Resumen de [sintaxis markdown](https://github.com/jupyter/strata-sv-2015-tutorial/blob/master/resources/Working%20With%20Markdown%20Cells.ipynb)\n",
    "\n",
    "\n",
    "--------\n",
    "\n",
    "\n"
   ]
  },
  {
   "cell_type": "markdown",
   "metadata": {},
   "source": [
    "\n",
    "## Módulos y paquetes\n",
    "\n",
    "\n",
    "Buenísimo estos *notebooks* pero ¿qué pasa si quiero reusar código? \n",
    "\n",
    "Hay que crear **módulos**. \n",
    "\n",
    "Por ejemplo, creemos un un módulo para guardar la función que encuentra raices de segundo grado.\n",
    "\n",
    "Podemos abrir cualquier editor (incluído el que trae el propio jupyter), o alternativamente podemos preceder la celda con la \"función magic\" (que aporta Jupyter y se denotan por empezar con `%` o `%%`), en este caso `%%writefile`\n",
    "\n",
    "El resultado es dejar el un archivo llamado `cuadratica.py` con el código de nuestra función en el mismo directorio donde tenemos el notebook (el archivo .ipynb)"
   ]
  },
  {
   "cell_type": "code",
   "execution_count": null,
   "metadata": {
    "collapsed": false
   },
   "outputs": [],
   "source": [
    "%%writefile cuadratica.py     \n",
    "\n",
    "def raices(a, b=0, c=0):\n",
    "    \"\"\"dados los coeficientes, encuentra los valores de x tal que ax^2 + bx + c = 0\"\"\"\n",
    "\n",
    "    discriminante = (b**2 - 4*a*c)**0.5\n",
    "    x1 = (-b + discriminante)/(2*a)\n",
    "    x2 = (-b - discriminante)/(2*a)\n",
    "    return (x1, x2)\n",
    "    \n",
    "       "
   ]
  },
  {
   "cell_type": "markdown",
   "metadata": {},
   "source": [
    "Lo hemos guardado en un archivo `cuadratica.py` en el directorio donde estamos corriendo esta consola (notebook), entonces directamente podemos **importar** ese modulo. "
   ]
  },
  {
   "cell_type": "code",
   "execution_count": null,
   "metadata": {
    "collapsed": false
   },
   "outputs": [],
   "source": [
    "import cuadratica"
   ]
  },
  {
   "cell_type": "markdown",
   "metadata": {},
   "source": [
    "Esto nos crea un *\"espacio de nombres\"* llamado `cuadratica`, dentro del cual está la función que definimos "
   ]
  },
  {
   "cell_type": "code",
   "execution_count": null,
   "metadata": {
    "collapsed": false
   },
   "outputs": [],
   "source": [
    "cuadratica.raices?"
   ]
  },
  {
   "cell_type": "code",
   "execution_count": null,
   "metadata": {
    "collapsed": false
   },
   "outputs": [],
   "source": [
    "cuadratica.raices(3, 2, -1)"
   ]
  },
  {
   "cell_type": "code",
   "execution_count": null,
   "metadata": {
    "collapsed": false
   },
   "outputs": [],
   "source": [
    "cuadratica.raices(3, 2, 1)"
   ]
  },
  {
   "cell_type": "markdown",
   "metadata": {},
   "source": [
    "Importar un modulo es importar un \"espacio de nombres\", donde todo lo que el modulo contenga (funciones, clases, constantes, etc.) se accederá como un atributo del modulo de la forma  `modulo.<objeto>`\n",
    "\n",
    "Cuando el nombre del espacio de nombres es muy largo, podemos ponerle un alias\n"
   ]
  },
  {
   "cell_type": "code",
   "execution_count": null,
   "metadata": {
    "collapsed": false
   },
   "outputs": [],
   "source": [
    "import cuadratica as cuad   # igual que la primera forma pero poniendole un alias (mas breve). \n",
    "\n",
    "cuad.raices?"
   ]
  },
  {
   "cell_type": "markdown",
   "metadata": {},
   "source": [
    "Si **sólo queremos alguna unidad de código y no todo el módulo**, entonces podemos hacer una importación selectiva"
   ]
  },
  {
   "cell_type": "code",
   "execution_count": null,
   "metadata": {
    "collapsed": false
   },
   "outputs": [],
   "source": [
    "from cuadratica import raices  # sólo importa el \"objeto\" que indequemos y lo deja \n",
    "                               # en el espacio de nombres desde el que estamos importando"
   ]
  },
  {
   "cell_type": "code",
   "execution_count": null,
   "metadata": {
    "collapsed": true
   },
   "outputs": [],
   "source": [
    "raices?"
   ]
  },
  {
   "cell_type": "markdown",
   "metadata": {},
   "source": [
    "Si, como sucede en general, el módulo definiera más de una unidad de código (una función, clase, constantes, etc.) podemos usar una tupla para importar varias cosas cosas al espacio de nombres actual. Por ejemplo:\n",
    "\n",
    "      from cuadratica import raices, integral, diferencial \n",
    " \n",
    "Por último, si queremos importar todo pero no usar el prefijo, podemos usar el `*`. **Esto no es recomendado**\n",
    "    \n",
    "    from cuadratica import *"
   ]
  },
  {
   "cell_type": "markdown",
   "metadata": {},
   "source": [
    "### Ejercicios\n",
    "\n",
    "1. Cree un módulo `circunferencia.py` que defina una constante `PI` y una función `area(r)` que calcula el área para una circunferencia de radio `r`. \n",
    "\n",
    "2. Desde una celda de la sesión intereactiva, importe todo el módulo como un alias `circle` y verifique `circle.PI` y `circle.area()`. Luego importe utilizando la forma `from circunferencia import ...` que importe también la función y la constante\n",
    "\n",
    "3. verifique que circle.area y area son el mismo objeto"
   ]
  },
  {
   "cell_type": "markdown",
   "metadata": {},
   "source": [
    "#### Paquetes: módulos de módulos\n",
    "\n",
    "Cuando tenemos muchos módulos que están relacionados es bueno armar un **paquete**. Un paquete de modulos es un simple directorio con un módulo especial llamado `__init__.py` (que puede estar vacio) y tantos modulos y subpaquetes como queramos. \n",
    "\n",
    "\n",
    "Los paquetes se usan igual que un módulo. Por ejemplo, supongamos que tenemos una estructura\n",
    "\n",
    "    paquete/\n",
    "       __init__.py\n",
    "       modulo.py\n",
    "\n",
    "Puedo importar la `funcion_loca` definida en `modulo.py` así \n",
    "\n",
    "    from paquete.modulo import funcion_loca \n"
   ]
  },
  {
   "cell_type": "code",
   "execution_count": null,
   "metadata": {
    "collapsed": false
   },
   "outputs": [],
   "source": [
    "%mkdir paquete             # creamos un directorio  \"paquete\""
   ]
  },
  {
   "cell_type": "code",
   "execution_count": null,
   "metadata": {
    "collapsed": false
   },
   "outputs": [],
   "source": [
    "%%writefile paquete/__init__.py          # el archivo __init__.py  vacio\n",
    " "
   ]
  },
  {
   "cell_type": "code",
   "execution_count": null,
   "metadata": {
    "collapsed": false
   },
   "outputs": [],
   "source": [
    "%%writefile paquete/modulo.py\n",
    "\n",
    "def funcion_loca(w=300,h=200):\n",
    "    _                                      =   (\n",
    "                                        255,\n",
    "                                      lambda\n",
    "                               V       ,B,c\n",
    "                             :c   and Y(V*V+B,B,  c\n",
    "                               -1)if(abs(V)<6)else\n",
    "               (              2+c-4*abs(V)**-.4)/i\n",
    "                 )  ;v,      x=w,h; C = range(-1,v*x \n",
    "                  +1);import  struct; P = struct.pack;M, \\\n",
    "            j  =b'<QIIHHHH',open('M.bmp','wb').write; k= v,x,1,24\n",
    "    for X in C or'Mandelbrot maker. Adapted to PY3 by @tin_nqn_':\n",
    "        j(b'BM' + P(M, v*x*3+26, 26, 12,*k)) if X==-1 else 0; i,\\\n",
    "            Y=_;j(P(b'BBB',*(lambda T: map(int, (T*80+T**9\n",
    "                  *i-950*T  **99,T*70-880*T**18 + 701*\n",
    "                 T  **9     ,T*i**(1-T**45*2))))(sum(\n",
    "               [              Y(0,(A%3/3.+X%v+(X/v+\n",
    "                               A/3/3.-x/2)/1j)*2.5\n",
    "                             /x   -2.7,i)**2 for  \\\n",
    "                               A       in C\n",
    "                                      [:9]])\n",
    "                                        /9)\n",
    "                                       )   )"
   ]
  },
  {
   "cell_type": "code",
   "execution_count": null,
   "metadata": {
    "collapsed": false
   },
   "outputs": [],
   "source": [
    "from paquete.modulo import funcion_loca\n",
    "funcion_loca()\n",
    "\n",
    "# podes ver el resultado creando una celda tipo Markdown con el contenido:\n",
    "#\n",
    "# ![](files/M.bmp)"
   ]
  },
  {
   "cell_type": "markdown",
   "metadata": {},
   "source": [
    "#### Ejercicio:\n",
    "\n",
    "1. Cree un paquete `geometria` que contenga el modulo `circunferencia` creado anterioriomente y otro análogo que se llame `rectangulo` que contenga tambien una función `area`, con el cálculo correspondiente. \n",
    "\n",
    "2. Verifique \n",
    "\n",
    "    * `import geometria`, \n",
    "    * `from geometria import rectangulo`, \n",
    "    * `from geometria.circunferencia import pi, area`\n",
    "    * `from geometria.rectangulo import area as area_rect`\n"
   ]
  },
  {
   "cell_type": "markdown",
   "metadata": {},
   "source": [
    "## Biblioteca estándar: las baterías puestas de Python\n",
    "\n",
    "Sin entrar en detalles, ya utilizamos algunos módulos que trae python, por ejemplo cuando importamos el módulo `math` para usar las funciones matemáticas y constantes que define\n",
    "    \n",
    "    import math\n",
    "\n",
    "\n",
    "Hay muchísimas más funcionalidades que vienen incorporadas al lenguaje y están estandarizadas para que funcionen (salvo casos específicos) de la misma manera en cualquier implementación de Python y sistema operativo. Es lo que se conoce como la [biblioteca estándar de python](http://docs.python.org/3/library/) y es muy abarcativa y potente. \n",
    "\n",
    "Además de funciones matemáticas, manejo de algunos formatos de archivos más específicos que el \"texto plano\", protocolos de internet, otras *clases* de números y estructuras de datos,  etc. \n"
   ]
  },
  {
   "cell_type": "markdown",
   "metadata": {},
   "source": [
    "### CSV\n",
    "\n",
    "[CSV](https://es.wikipedia.org/wiki/CSV) (Comma Separated Values) es un formato de archivo abierto (un archivo de texto) para datos compartir datos estructurados tipo tabla. \n",
    "\n",
    "Es muy simple y básica pero muy usado para intercambiar información estructurada entre distintos programas. Por ejemplo, desde Excel o Libreoffice Calc se pueden guardar (y abrir) archivos CSV. y python también sabe. \n",
    "\n",
    "Ver [documentación](https://docs.python.org/3/library/csv.html)\n"
   ]
  },
  {
   "cell_type": "code",
   "execution_count": null,
   "metadata": {
    "collapsed": false
   },
   "outputs": [],
   "source": [
    "%cat data/near_critical_oil.csv"
   ]
  },
  {
   "cell_type": "code",
   "execution_count": null,
   "metadata": {
    "collapsed": false
   },
   "outputs": [],
   "source": [
    "import csv\n",
    "\n",
    "with open('data/near_critical_oil.csv') as csv_file:\n",
    "    reader = csv.reader(csv_file)\n",
    "    \n",
    "    critical_oil = [line for line in reader]   #o list(reader)\n",
    "critical_oil"
   ]
  },
  {
   "cell_type": "markdown",
   "metadata": {},
   "source": [
    "Para escribir creamos un objeto writer y usa"
   ]
  },
  {
   "cell_type": "code",
   "execution_count": null,
   "metadata": {
    "collapsed": true
   },
   "outputs": [],
   "source": [
    "datos = [('Nombre', 'Peso'), ('Juan', 92), ('La \"Mole\" Moli', 121), ('Martín', '5 kilos de más')]\n",
    "\n",
    "with open('pesos.csv', 'w') as pesos_csv:\n",
    "    writer = csv.writer(pesos_csv)\n",
    "    writer.writerows(datos)"
   ]
  },
  {
   "cell_type": "code",
   "execution_count": null,
   "metadata": {
    "collapsed": false
   },
   "outputs": [],
   "source": [
    "%cat pesos.csv"
   ]
  },
  {
   "cell_type": "markdown",
   "metadata": {},
   "source": [
    "### Ejercicios:\n",
    "\n",
    "1. Dado un archivo CSV `circuitos.csv` (en la siguiente celda), leerlo utilizando `csv.DictReader` en vez de `csv.reader` y devolver todas las filas en una lista. Notar que el delimitador es `;` en vez de coma. \n",
    "\n",
    "2. Genere un archivo csv donde la primera columna es la serie de enteros 1 a 10 inclusive, la segunda columna el logaritmo natural para el numero correspondiente de la primera columna, y una tercera que el logaritmo en base 10. \n",
    "\n",
    "        [(i, math.log(i), math.log10(i)) for i in range(1, 11)]\n"
   ]
  },
  {
   "cell_type": "code",
   "execution_count": null,
   "metadata": {
    "collapsed": false
   },
   "outputs": [],
   "source": [
    "%%writefile circuitos.csv\n",
    "long;lat;CODIGO DE ESTABLECIMIENTO;NOMBRE ESTABLECIMIENTO;DOMICILIO;CIRCUITO;DESDE MESA;HASTA MESA;TOTAL MESAS;Dirección Normalizada\n",
    "-58.372807778869245;-34.622409314430783;4369;ESC N°3 BERNARDINO RIVADAVIA;BOLIVAR 1235;1;19;28;10;BOLIVAR 1235\n",
    "-58.384400577996836;-34.593569986274616;4593;COL. NAC.Nº2 D F SARMIENTO;LIBERTAD 1257;6;115;136;22;LIBERTAD 1257\n",
    "-58.373914555842283;-34.602665313935738;4409;ESC N°13 GRAL SAN MARTIN;SAN MARTIN 458;9;192;206;15;SAN MARTIN 458\n",
    "-58.383791453750931;-34.601733848426591;5330;ESC N°7 PTE ROCA;LIBERTAD 581;10;225;234;10;LIBERTAD 581\n",
    "-58.388829352224974;-34.605387432219594;9026;UMSA UNIV DE MUSEO SOCIAL ARG;SARMIENTO 1565;10;252;259;8;SARMIENTO 1565\n",
    "-58.373317952774258;-34.611859568515861;5118;ESC POLITECNICA Nº5 M BELGRANO;BOLIVAR 346;14;367;371;5;BOLIVAR 346\n",
    "-58.373438804697628;-34.610990941996334;8716;COLEGIO NACIONAL BUENOS AIRES;BOLIVAR 263;14;372;381;10;BOLIVAR 263"
   ]
  },
  {
   "cell_type": "markdown",
   "metadata": {},
   "source": [
    "### Números aleatorios\n",
    "\n",
    "Todas las funciones relacionadas a la aleatoriedad están en el módulo `random`. \n",
    "\n",
    "Ver [documentación](https://docs.python.org/3/library/random.html)"
   ]
  },
  {
   "cell_type": "code",
   "execution_count": null,
   "metadata": {
    "collapsed": false
   },
   "outputs": [],
   "source": [
    "import random\n",
    "\n",
    "# la función más básica\n",
    "random.random()                      # float aleatorio, 0.0 <= x < 1.0"
   ]
  },
  {
   "cell_type": "code",
   "execution_count": null,
   "metadata": {
    "collapsed": false
   },
   "outputs": [],
   "source": [
    "random.randrange(10)           # análogo a range() devuelve un numero aleatorio de la serie"
   ]
  },
  {
   "cell_type": "code",
   "execution_count": null,
   "metadata": {
    "collapsed": false
   },
   "outputs": [],
   "source": [
    "random.choice([0.3, 10, 'A'])     # elige un elemento al azar de una secuencia no vacía"
   ]
  },
  {
   "cell_type": "code",
   "execution_count": null,
   "metadata": {
    "collapsed": false
   },
   "outputs": [],
   "source": [
    "random.sample(l, k=3)      # elige k elementos de la poblacion dada "
   ]
  },
  {
   "cell_type": "code",
   "execution_count": null,
   "metadata": {
    "collapsed": false
   },
   "outputs": [],
   "source": [
    "l = list(range(10))\n",
    "random.shuffle(l)       # \"desordena\" una lista (inline)\n",
    "l "
   ]
  },
  {
   "cell_type": "markdown",
   "metadata": {},
   "source": [
    "También tiene muchas funciones de probabilidad"
   ]
  },
  {
   "cell_type": "code",
   "execution_count": null,
   "metadata": {
    "collapsed": false
   },
   "outputs": [],
   "source": [
    "[method for method in dir(random) if method.endswith('variate')]"
   ]
  },
  {
   "cell_type": "markdown",
   "metadata": {},
   "source": [
    "#### Ejercicio\n",
    "\n",
    "1. Crear un generador de 1000 números aleatorios pertecientes a una curva de probabilidad normal con media 1 y variancia 0.25. \n",
    "\n",
    "2. Verificar que la media y la variancia son cercanas a las esperadas (Tip: investigar las funciones del módulo `statistics`)\n"
   ]
  },
  {
   "cell_type": "markdown",
   "metadata": {},
   "source": [
    "## Serialización \n",
    "\n",
    "A veces queremos **serializar un objeto** cualquiera para poder recuperarlo más adelante. Si sólo nos interesa persistir y recuperar información **a nivel Python** podemos usar le módulo [`pickle`](https://docs.python.org/3.4/library/pickle.html). "
   ]
  },
  {
   "cell_type": "code",
   "execution_count": null,
   "metadata": {
    "collapsed": false
   },
   "outputs": [],
   "source": [
    "información = ['puede', 'ser', {'casi': [], 'cualquier': 100, 'cosa': ('!',)}]\n",
    "\n",
    "import pickle\n",
    "\n",
    "pickle.dumps(información)"
   ]
  },
  {
   "cell_type": "code",
   "execution_count": null,
   "metadata": {
    "collapsed": false
   },
   "outputs": [],
   "source": [
    "# en sentido contrario\n",
    "pickle.loads(_)"
   ]
  },
  {
   "cell_type": "code",
   "execution_count": null,
   "metadata": {
    "collapsed": false
   },
   "outputs": [],
   "source": [
    "# O bien guardar directamente a un archivo\n",
    "\n",
    "pickle.dump(información, open('datos.pkl', 'wb'))"
   ]
  },
  {
   "cell_type": "code",
   "execution_count": null,
   "metadata": {
    "collapsed": false
   },
   "outputs": [],
   "source": [
    "pickle.load(open('datos.pkl', 'rb'))"
   ]
  },
  {
   "cell_type": "markdown",
   "metadata": {},
   "source": [
    "Siempre que la clase **sea serializable** (es decir, que se base en otras clases serializables), pickle permite serializar instancias de clases arbitrarias. "
   ]
  },
  {
   "cell_type": "code",
   "execution_count": null,
   "metadata": {
    "collapsed": false
   },
   "outputs": [],
   "source": [
    "class A:\n",
    "    \"una clase que no hace absolutamente nada\"\n",
    "    pass\n",
    "\n",
    "a = A()\n",
    "\n",
    "a_serializado = pickle.dumps(a)\n",
    "a_serializado"
   ]
  },
  {
   "cell_type": "code",
   "execution_count": null,
   "metadata": {
    "collapsed": false
   },
   "outputs": [],
   "source": [
    "type(a_serializado)    # la serializados es como datos binarios \"crudos\""
   ]
  },
  {
   "cell_type": "code",
   "execution_count": null,
   "metadata": {
    "collapsed": true
   },
   "outputs": [],
   "source": [
    "b= pickle.loads(_)"
   ]
  },
  {
   "cell_type": "markdown",
   "metadata": {},
   "source": [
    "El objeto reconstruído tiene *el mismo estado* (es identico) al original, pero no es en sí el mismo objeto"
   ]
  },
  {
   "cell_type": "code",
   "execution_count": null,
   "metadata": {
    "collapsed": false
   },
   "outputs": [],
   "source": [
    "b is a"
   ]
  },
  {
   "cell_type": "markdown",
   "metadata": {},
   "source": [
    "Un detalle importante: para poder deseralizar un objeto arbitrario, su clase debe existir en el espacio de nombres"
   ]
  },
  {
   "cell_type": "code",
   "execution_count": null,
   "metadata": {
    "collapsed": false
   },
   "outputs": [],
   "source": [
    "del A    # borramos la clase A del espacio de nombres global\n",
    "pickle.loads(a_serializado)"
   ]
  },
  {
   "cell_type": "markdown",
   "metadata": {},
   "source": [
    "**pickle** es un tipo de serialización específica para Python. Una alternativa más genérica que muchos otros lenguajes soportan (y es muy típica para compartir datos a traves de \"APIs\" en la web) es el formato [JSON](https://es.wikipedia.org/wiki/JSON), que funciona igual, pero genera una serialización en formato texto y más legible por humanos"
   ]
  },
  {
   "cell_type": "code",
   "execution_count": null,
   "metadata": {
    "collapsed": false
   },
   "outputs": [],
   "source": [
    "import json\n",
    "\n",
    "json.dumps(información)"
   ]
  },
  {
   "cell_type": "markdown",
   "metadata": {},
   "source": [
    "## Ejecutando otros \"programas\" desde jupyter y python\n",
    "\n",
    "Jupyter permite llamar a programas subyacentes preciendo el comando con un signo de exclamación "
   ]
  },
  {
   "cell_type": "code",
   "execution_count": null,
   "metadata": {
    "collapsed": true
   },
   "outputs": [],
   "source": [
    "# !notepad   en windows\n",
    "!gedit    # abre el programa gedit en linux  "
   ]
  },
  {
   "cell_type": "markdown",
   "metadata": {},
   "source": [
    "Incluso podemos capturar la salida del comando y obtener una lista de textos"
   ]
  },
  {
   "cell_type": "code",
   "execution_count": null,
   "metadata": {
    "collapsed": false
   },
   "outputs": [],
   "source": [
    "mole = !cat pesos.csv | grep \"Mole\"    \n",
    "mole"
   ]
  },
  {
   "cell_type": "markdown",
   "metadata": {},
   "source": [
    "Si queremos hacer esto en \"Python puro\", por ejemplo porque queremos que una función ejecute un programa \n",
    "\n",
    "debemos usar el módulo `subprocess`"
   ]
  },
  {
   "cell_type": "code",
   "execution_count": null,
   "metadata": {
    "collapsed": false
   },
   "outputs": [],
   "source": [
    "import subprocess\n",
    "\n",
    "subprocess.call(['gedit'])"
   ]
  },
  {
   "cell_type": "code",
   "execution_count": null,
   "metadata": {
    "collapsed": false
   },
   "outputs": [],
   "source": [
    "subprocess.check_output(['echo', 'hola python, soy echo'])    # se ejecuta en el \"kernel\" (ver consola)"
   ]
  },
  {
   "cell_type": "markdown",
   "metadata": {},
   "source": [
    "## Más estructuras de datos!\n",
    "\n"
   ]
  },
  {
   "cell_type": "markdown",
   "metadata": {},
   "source": [
    "El módulo [`collections`](https://docs.python.org/3.4/library/collections.html)  tiene muchas otras clases complementarias a las listas, tuplas, diccionarios y conjuntos que ya vimos, útiles para propósitos específicos "
   ]
  },
  {
   "cell_type": "code",
   "execution_count": null,
   "metadata": {
    "collapsed": true
   },
   "outputs": [],
   "source": [
    "from collections import Counter, OrderedDict, namedtuple  #hay más!"
   ]
  },
  {
   "cell_type": "markdown",
   "metadata": {},
   "source": [
    "OrderedDict es... un diccionario que sí queda ordenado"
   ]
  },
  {
   "cell_type": "code",
   "execution_count": null,
   "metadata": {
    "collapsed": false
   },
   "outputs": [],
   "source": [
    "OrderedDict.__doc__    # para http://twitter.com/Obvio"
   ]
  },
  {
   "cell_type": "code",
   "execution_count": null,
   "metadata": {
    "collapsed": false,
    "scrolled": true
   },
   "outputs": [],
   "source": [
    "d = OrderedDict()\n",
    "d['item_1'] = 1\n",
    "d['item_2'] = '1 millon'\n",
    "d['item_3'] = None\n",
    "for par in d.items():\n",
    "    print(par)\n"
   ]
  },
  {
   "cell_type": "markdown",
   "metadata": {},
   "source": [
    "`Counter` recibe cualquier secuencia y cuenta los elementos "
   ]
  },
  {
   "cell_type": "code",
   "execution_count": null,
   "metadata": {
    "collapsed": false
   },
   "outputs": [],
   "source": [
    "contador = Counter('abracadabra')\n",
    "contador"
   ]
  },
  {
   "cell_type": "code",
   "execution_count": null,
   "metadata": {
    "collapsed": false
   },
   "outputs": [],
   "source": [
    "contador.most_common(3)"
   ]
  },
  {
   "cell_type": "markdown",
   "metadata": {},
   "source": [
    "`namedtuple` es una factory de \"tuplas con nombre\", es decir, nuevos tipos de dato que funcionan igual que una tupla, pero donde cada elemento puede tener un nombre  además de su posición. \n"
   ]
  },
  {
   "cell_type": "code",
   "execution_count": null,
   "metadata": {
    "collapsed": false
   },
   "outputs": [],
   "source": [
    "\n",
    "Raices = namedtuple('Raices', ['x1', 'x2'])\n",
    "\n",
    "\n",
    "def raices(a, b=0, c=0):\n",
    "    \"\"\"dados los coeficientes, encuentra los valores de x tal que ax^2 + bx + c = 0\"\"\"\n",
    "\n",
    "    discriminante = (b**2 - 4*a*c)**0.5\n",
    "    x1 = (-b + discriminante)/(2*a)\n",
    "    x2 = (-b - discriminante)/(2*a)\n",
    "    return Raices(x1, x2)\n",
    "\n",
    "soluciones = raices(-2, 2, 2)\n",
    "soluciones"
   ]
  },
  {
   "cell_type": "markdown",
   "metadata": {},
   "source": [
    "En el ejemplo puede no ser necesario, pero si la tupla devuelva por la función tuviera muchos elementos (y no tenemos su código a la vista), **recordar qué significado tiene cada posición** puede ser engorroso. \n",
    "\n",
    "Lo bueno es que usar una `namedtuple` no es disruptiva, porque sigue funcionando como una tupla "
   ]
  },
  {
   "cell_type": "code",
   "execution_count": null,
   "metadata": {
    "collapsed": false
   },
   "outputs": [],
   "source": [
    "soluciones[0], soluciones[1]"
   ]
  },
  {
   "cell_type": "markdown",
   "metadata": {},
   "source": [
    "Pero también se pueden pedir los valores como atributos"
   ]
  },
  {
   "cell_type": "code",
   "execution_count": null,
   "metadata": {
    "collapsed": false
   },
   "outputs": [],
   "source": [
    "soluciones.x1"
   ]
  },
  {
   "cell_type": "code",
   "execution_count": null,
   "metadata": {
    "collapsed": false
   },
   "outputs": [],
   "source": [
    "soluciones.x2"
   ]
  },
  {
   "cell_type": "markdown",
   "metadata": {},
   "source": [
    "Obviamente, como es una tupla (es inmutable), no podemos asignar los atributos"
   ]
  },
  {
   "cell_type": "code",
   "execution_count": null,
   "metadata": {
    "collapsed": false
   },
   "outputs": [],
   "source": [
    "soluciones.x1 = 10"
   ]
  },
  {
   "cell_type": "markdown",
   "metadata": {},
   "source": [
    "### Traer datos de Internet\n",
    "\n",
    "La biblioteca estándar tiene funcionalidades para manejar (leer y escribir) muchos protocolos de internet: http, pop3, ftp, imap, smtp y más. \n",
    "\n",
    "Para trabajar extensivamente con http, es muy popular (y recomendado) un biblioteca alternativa no oficial llamado [requests](http://www.python-requests.org/en/latest/)\n",
    "\n",
    "También es útil el magic `%load` en el contexto de la sesión interactiva"
   ]
  },
  {
   "cell_type": "code",
   "execution_count": null,
   "metadata": {
    "collapsed": true
   },
   "outputs": [],
   "source": [
    "from urllib.request import urlopen "
   ]
  },
  {
   "cell_type": "code",
   "execution_count": null,
   "metadata": {
    "collapsed": false
   },
   "outputs": [],
   "source": [
    "url = 'https://gist.githubusercontent.com/mgaitan/d75956d1d928fb4a8c8d/raw/60085d8bc1468dca88c029da7fe88f5956310ae3/Hola.txt'\n",
    "with urlopen(url) as response:\n",
    "    contenido = response.read().decode('utf8')     # el decode es para \"decodificar\" bytes crudos como texto unicode"
   ]
  },
  {
   "cell_type": "code",
   "execution_count": null,
   "metadata": {
    "collapsed": false
   },
   "outputs": [],
   "source": [
    "print(contenido)"
   ]
  },
  {
   "cell_type": "markdown",
   "metadata": {},
   "source": [
    "#### Ejercicio\n",
    "\n",
    "1. Abrir la portada de un portal de noticias de su elección, leer todo su contenido y listar las 10 palabras  más repetidas de más de 4 caracteres y que no contengan símbolos\n"
   ]
  },
  {
   "cell_type": "code",
   "execution_count": null,
   "metadata": {
    "collapsed": false
   },
   "outputs": [],
   "source": [
    "simbolos = set(\"#$%&\\'()*+,-./:;<=>?@[\\]^_`{|}~\")"
   ]
  },
  {
   "cell_type": "markdown",
   "metadata": {},
   "source": [
    "## Escribir programas de línea de comando\n",
    "\n",
    "\n",
    "Ya vimos que es muy simple ejecutar un módulo de python como un **script**. Simplemente hay que pasar como parámetro al ejecutable python el módulo en cuestión \n",
    "\n",
    "    python archivo.py\n"
   ]
  },
  {
   "cell_type": "code",
   "execution_count": 1,
   "metadata": {
    "collapsed": false
   },
   "outputs": [
    {
     "name": "stdout",
     "output_type": "stream",
     "text": [
      "Overwriting ejemplo_script.py\n"
     ]
    }
   ],
   "source": [
    "%%writefile ejemplo_script.py\n",
    "\n",
    "saludo = \"Hola Mundo\"\n",
    "\n",
    "print(saludo)"
   ]
  },
  {
   "cell_type": "code",
   "execution_count": 2,
   "metadata": {
    "collapsed": false
   },
   "outputs": [
    {
     "name": "stdout",
     "output_type": "stream",
     "text": [
      "Hola Mundo\r\n"
     ]
    }
   ],
   "source": [
    "!python ejemplo_script.py"
   ]
  },
  {
   "cell_type": "markdown",
   "metadata": {},
   "source": [
    "El tema es que si importamos ese módulo desde la sesión interactiva o desde otro módulo, tambien se ejecutará todo el código que defina"
   ]
  },
  {
   "cell_type": "code",
   "execution_count": 3,
   "metadata": {
    "collapsed": false
   },
   "outputs": [
    {
     "name": "stdout",
     "output_type": "stream",
     "text": [
      "Hola Mundo\n",
      "Hola Mundo\n"
     ]
    }
   ],
   "source": [
    "from ejemplo_script import saludo\n",
    "print(saludo)"
   ]
  },
  {
   "cell_type": "markdown",
   "metadata": {},
   "source": [
    "A veces queremos que **se ejecute algo sólo cuando lo invocamos como script** y no cuando lo importamos. \n",
    "\n",
    "Para eso podemos valernos de que Python asigna el nombre `__main__` al módulo principal con que fue llamado, en la variable global `__name__`"
   ]
  },
  {
   "cell_type": "code",
   "execution_count": 4,
   "metadata": {
    "collapsed": false
   },
   "outputs": [
    {
     "name": "stdout",
     "output_type": "stream",
     "text": [
      "Writing ejemplo_script2.py\n"
     ]
    }
   ],
   "source": [
    "%%writefile ejemplo_script2.py\n",
    "\n",
    "saludo = \"Hola Mundo\"\n",
    "\n",
    "if __name__ == '__main__':\n",
    "    # esto se ejecuta solo cuando el modulo se llama como script\n",
    "    # no cuando se importa desde otro modulo o desde la sesion interactiva\n",
    "    print(saludo)"
   ]
  },
  {
   "cell_type": "code",
   "execution_count": 5,
   "metadata": {
    "collapsed": false
   },
   "outputs": [
    {
     "data": {
      "text/plain": [
       "'Hola'"
      ]
     },
     "execution_count": 5,
     "metadata": {},
     "output_type": "execute_result"
    }
   ],
   "source": [
    "from ejemplo_script2 import saludo\n",
    "saludo[:4]"
   ]
  },
  {
   "cell_type": "code",
   "execution_count": 6,
   "metadata": {
    "collapsed": false
   },
   "outputs": [
    {
     "name": "stdout",
     "output_type": "stream",
     "text": [
      "Hola Mundo\r\n"
     ]
    }
   ],
   "source": [
    "!python ejemplo_script2.py"
   ]
  },
  {
   "cell_type": "markdown",
   "metadata": {},
   "source": [
    "Si bien un programa de linea de comandos puede solicitar información al usuario interactivamente (por ejemplo, a utilizando la función `input()`), lo más típico es que los argumentos se pasen directamente en la llamada\n",
    "\n",
    "    python mi_programa.py <parametro> [parametro 2]\n",
    "    \n",
    "    \n",
    "Python guarda todos los argumentos pasados (incluyendo el nombre del propio módulo) en una lista llamada `argv` del módulo `sys`"
   ]
  },
  {
   "cell_type": "code",
   "execution_count": 7,
   "metadata": {
    "collapsed": false
   },
   "outputs": [
    {
     "name": "stdout",
     "output_type": "stream",
     "text": [
      "Writing ejemplo_argv.py\n"
     ]
    }
   ],
   "source": [
    "%%writefile ejemplo_argv.py\n",
    "\n",
    "if __name__ == '__main__':\n",
    "    import sys\n",
    "    print(sys.argv)"
   ]
  },
  {
   "cell_type": "code",
   "execution_count": 9,
   "metadata": {
    "collapsed": false
   },
   "outputs": [
    {
     "name": "stdout",
     "output_type": "stream",
     "text": [
      "['ejemplo_argv.py', 'parametro', '10', '--allthenight', '--shampein']\r\n"
     ]
    }
   ],
   "source": [
    "!python ejemplo_argv.py --allthenight --shampein"
   ]
  },
  {
   "cell_type": "markdown",
   "metadata": {},
   "source": [
    "Para parámetros muy simples podemos buscar valores directamente en esta lista, por ejemplo:\n",
    "\n",
    "      if '--allthenigh' in sys.argv:\n",
    "           room.append(cristal)\n",
    "           \n",
    "Pero la mayoría de las veces los argumentos posibles son más complejos y se requiere una **librería para procesar los argumentos** dados, convertirlos a un tipo de datos particular, asignar valores defaults a aquellos parametros que no se explicitaron, generar un resumen de la opciones disponibles a modo de ayuda, etc. \n",
    "\n",
    "Para esto se puede usar el módulo [`argparse`](https://docs.python.org/3/library/argparse.html#module-argparse)\n",
    "\n",
    "\n"
   ]
  },
  {
   "cell_type": "code",
   "execution_count": 16,
   "metadata": {
    "collapsed": false
   },
   "outputs": [
    {
     "name": "stdout",
     "output_type": "stream",
     "text": [
      "Overwriting prog.py\n"
     ]
    }
   ],
   "source": [
    "%%writefile prog.py\n",
    "\n",
    "import argparse\n",
    "\n",
    "if __name__ == '__main__':\n",
    "\n",
    "    parser = argparse.ArgumentParser(description='Procesa una lista de enteros')\n",
    "    parser.add_argument('enteros', metavar='N', type=int, nargs='+',        # uno o mas argumentos. se acumulan en una lista\n",
    "                       help='an integer for the accumulator')\n",
    "    parser.add_argument('--sum', dest='operacion', action='store_const',    # si se pasa --sum se usará const \n",
    "                       const=sum, default=max,                              # en vez de default\n",
    "                       help='sum the integers (default: find the max)')\n",
    "\n",
    "    args = parser.parse_args()\n",
    "    print(args.operacion(args.enteros))"
   ]
  },
  {
   "cell_type": "code",
   "execution_count": 18,
   "metadata": {
    "collapsed": false
   },
   "outputs": [
    {
     "name": "stdout",
     "output_type": "stream",
     "text": [
      "usage: prog.py [-h] [--sum] N [N ...]\r\n",
      "prog.py: error: the following arguments are required: N\r\n"
     ]
    }
   ],
   "source": [
    "!python3 prog.py"
   ]
  },
  {
   "cell_type": "code",
   "execution_count": 19,
   "metadata": {
    "collapsed": false
   },
   "outputs": [
    {
     "name": "stdout",
     "output_type": "stream",
     "text": [
      "usage: prog.py [-h] [--sum] N [N ...]\r\n",
      "\r\n",
      "Procesa una lista de enteros\r\n",
      "\r\n",
      "positional arguments:\r\n",
      "  N           an integer for the accumulator\r\n",
      "\r\n",
      "optional arguments:\r\n",
      "  -h, --help  show this help message and exit\r\n",
      "  --sum       sum the integers (default: find the max)\r\n"
     ]
    }
   ],
   "source": [
    "!python3 prog.py -h"
   ]
  },
  {
   "cell_type": "code",
   "execution_count": 21,
   "metadata": {
    "collapsed": false
   },
   "outputs": [
    {
     "name": "stdout",
     "output_type": "stream",
     "text": [
      "usage: prog.py [-h] [--sum] N [N ...]\r\n",
      "prog.py: error: unrecognized arguments: 45\r\n"
     ]
    }
   ],
   "source": [
    "!python3 prog.py  10 2 --sum 45 "
   ]
  },
  {
   "cell_type": "markdown",
   "metadata": {},
   "source": [
    "\n",
    "Tarea: Estudiar la biblioteca estándar de Python ! \n",
    "\n",
    "--------------\n",
    "\n",
    "\n",
    "\n"
   ]
  },
  {
   "cell_type": "markdown",
   "metadata": {},
   "source": [
    "## Matplotlib, un gráfico vale más que mil palabras\n",
    "\n",
    "Python es un lenguaje muy completo pero aunque es muy grande, su librería estándar no es infinita. Por suerte hay miles y miles de bibliotecas extra para complementar casi cualquier aspecto en el que queramos aplicar Python. En algunos ámbitos, con soluciones muy destacadas. \n",
    "\n",
    "Para hacer gráficos existe Matplotlib http://matplotlib.org/ . Ya viene instalado con la versión completa de Anaconda. \n"
   ]
  },
  {
   "cell_type": "code",
   "execution_count": null,
   "metadata": {
    "collapsed": false
   },
   "outputs": [],
   "source": [
    "%matplotlib inline"
   ]
  },
  {
   "cell_type": "code",
   "execution_count": null,
   "metadata": {
    "collapsed": false
   },
   "outputs": [],
   "source": [
    "from matplotlib import pyplot"
   ]
  },
  {
   "cell_type": "code",
   "execution_count": null,
   "metadata": {
    "collapsed": false
   },
   "outputs": [],
   "source": [
    "x = [0.1*i for i in range(-50, 51)]\n",
    "y = [x_i**2 for x_i in x]"
   ]
  },
  {
   "cell_type": "code",
   "execution_count": null,
   "metadata": {
    "collapsed": false
   },
   "outputs": [],
   "source": [
    "pyplot.plot(x,y)"
   ]
  },
  {
   "cell_type": "markdown",
   "metadata": {},
   "source": [
    "Los gráficos emergentes son buenos porque tiene la barra de herramientas y podemos guardarlos en excelente calidad (incluso vectorial, ideal para un poster A0). Pero en los notebooks podemos poner los gráficos directamente incrustados"
   ]
  },
  {
   "cell_type": "code",
   "execution_count": null,
   "metadata": {
    "collapsed": false
   },
   "outputs": [],
   "source": [
    "pyplot.plot(x,y)\n",
    "pyplot.title('Pará bola!')\n",
    "pyplot.grid()"
   ]
  },
  {
   "cell_type": "markdown",
   "metadata": {},
   "source": [
    "Matplotlib sabe hacer muchísimos tipos de gráficos!"
   ]
  },
  {
   "cell_type": "code",
   "execution_count": null,
   "metadata": {
    "collapsed": false
   },
   "outputs": [],
   "source": [
    "components = [c for (c, f) in critical_oil[1:]]\n",
    "fraction = [float(f) for (c, f) in critical_oil[1:]]\n",
    "# el ; evita el output\n",
    "pyplot.pie(fraction, labels=components, shadow=True);"
   ]
  },
  {
   "cell_type": "code",
   "execution_count": null,
   "metadata": {
    "collapsed": false
   },
   "outputs": [],
   "source": [
    "import random\n",
    "campana = [random.gauss(0, 0.5) for i in range(1000)]"
   ]
  },
  {
   "cell_type": "code",
   "execution_count": null,
   "metadata": {
    "collapsed": false
   },
   "outputs": [],
   "source": [
    "pyplot.hist(campana, bins=15);"
   ]
  },
  {
   "cell_type": "markdown",
   "metadata": {},
   "source": [
    "Pero antes de seguir con Matplotlib debemos aprender el corazón del Python Cientifico: Numpy"
   ]
  },
  {
   "cell_type": "markdown",
   "metadata": {},
   "source": [
    "## Numpy, todo es un array\n",
    "\n",
    "El paquete **numpy** es usado en casi todos los cálculos numéricos usando Python. Es un paquete que provee a Python de estructuras de datos vectoriales, matriciales y de rango mayor, de alto rendimiento. Está implementado en C y Fortran, de modo que cuando los cálculos son vectorizados (formulados con vectores y matrices), el rendimiento es muy bueno."
   ]
  },
  {
   "cell_type": "code",
   "execution_count": null,
   "metadata": {
    "collapsed": false
   },
   "outputs": [],
   "source": [
    "import numpy as np"
   ]
  },
  {
   "cell_type": "markdown",
   "metadata": {},
   "source": [
    "El pilar de numpy (y toda la computación científica basada en Python) es el tipo de datos `ndarray`, o sea arreglos de datos multidimensionales. \n",
    "\n",
    "¿Otra secuencia más? ¿pero que tenina de malo las listas?\n",
    "\n",
    "Las listas son geniales pero guardar **cualquier tipo de objeto** y su flexibilidad las vuelve ineficientes"
   ]
  },
  {
   "cell_type": "code",
   "execution_count": null,
   "metadata": {
    "collapsed": false
   },
   "outputs": [],
   "source": [
    "%timeit [0.1*i for i in range(10000)]    # %timeit es otra magia de ipython"
   ]
  },
  {
   "cell_type": "code",
   "execution_count": null,
   "metadata": {
    "collapsed": false
   },
   "outputs": [],
   "source": [
    "%timeit np.arange(0, 1000, .1)    # arange es igual a range, pero soporta paso de tipo flotante"
   ]
  },
  {
   "cell_type": "markdown",
   "metadata": {},
   "source": [
    "Existen varias formas para inicializar nuevos arreglos de numpy, por ejemplo desde\n",
    "\n",
    "- Listas o tuplas\n",
    "- Usando funciones dedicadas a generar arreglos numpy, como `arange`, `linspace`,`ones`, `zeros` etc.\n",
    "- Leyendo datos desde archivos"
   ]
  },
  {
   "cell_type": "code",
   "execution_count": null,
   "metadata": {
    "collapsed": false
   },
   "outputs": [],
   "source": [
    "v = np.array([1,2,3,4])\n",
    "v"
   ]
  },
  {
   "cell_type": "code",
   "execution_count": null,
   "metadata": {
    "collapsed": false
   },
   "outputs": [],
   "source": [
    "# una matriz: el argumento de la función array function es una lista anidada de Python\n",
    "M = np.array([[1, 2], \n",
    "              [3, 4]])\n",
    "M"
   ]
  },
  {
   "cell_type": "code",
   "execution_count": null,
   "metadata": {
    "collapsed": false
   },
   "outputs": [],
   "source": [
    "type(v), type(M)"
   ]
  },
  {
   "cell_type": "markdown",
   "metadata": {},
   "source": [
    "Los ndarrays tienen distintos atributos. Por ejemplo"
   ]
  },
  {
   "cell_type": "code",
   "execution_count": null,
   "metadata": {
    "collapsed": false
   },
   "outputs": [],
   "source": [
    "v.ndim, M.ndim    # cantidad de dimensiones"
   ]
  },
  {
   "cell_type": "code",
   "execution_count": null,
   "metadata": {
    "collapsed": false
   },
   "outputs": [],
   "source": [
    "v.shape, M.shape  # tupla de \"forma\". len(v.shape) == v.ndim"
   ]
  },
  {
   "cell_type": "code",
   "execution_count": null,
   "metadata": {
    "collapsed": false
   },
   "outputs": [],
   "source": [
    "v.size, M.size   # cantidad de elementos. "
   ]
  },
  {
   "cell_type": "code",
   "execution_count": null,
   "metadata": {
    "collapsed": false
   },
   "outputs": [],
   "source": [
    "M.T   # transpuesta!"
   ]
  },
  {
   "cell_type": "markdown",
   "metadata": {},
   "source": [
    "A diferencia de las listas, los *arrays* tambien **tienen un tipo homogéneo** "
   ]
  },
  {
   "cell_type": "code",
   "execution_count": null,
   "metadata": {
    "collapsed": false
   },
   "outputs": [],
   "source": [
    "v.dtype     # "
   ]
  },
  {
   "cell_type": "markdown",
   "metadata": {},
   "source": [
    "Se puede definir explicitamente el tipo de datos del array"
   ]
  },
  {
   "cell_type": "code",
   "execution_count": null,
   "metadata": {
    "collapsed": false
   },
   "outputs": [],
   "source": [
    "np.array([[1, 2], [3, 4]], dtype=complex)"
   ]
  },
  {
   "cell_type": "markdown",
   "metadata": {},
   "source": [
    "Una gran ventaja del atributo `shape` es que podemos cambiarlo. Es decir, reacomodar la distrución de los elementos (por supuesto, sin perderlos en el camino)"
   ]
  },
  {
   "cell_type": "code",
   "execution_count": null,
   "metadata": {
    "collapsed": false
   },
   "outputs": [],
   "source": [
    "A = np.arange(0, 12)\n",
    "print(A)"
   ]
  },
  {
   "cell_type": "code",
   "execution_count": null,
   "metadata": {
    "collapsed": false
   },
   "outputs": [],
   "source": [
    "A.shape = 3, 4\n",
    "print(A)"
   ]
  },
  {
   "cell_type": "markdown",
   "metadata": {},
   "source": [
    "Esto es porque numpy en general no mueve los elementos de la memoria y en cambio usa **vistas** para mostrar los elementos de distinta forma. Es importante entender esto porque incluso los slicings son vistas. "
   ]
  },
  {
   "cell_type": "code",
   "execution_count": null,
   "metadata": {
    "collapsed": false
   },
   "outputs": [],
   "source": [
    "a = np.arange(10)\n",
    "b = a[::2]  # todo de 2 en 2\n",
    "b"
   ]
  },
  {
   "cell_type": "code",
   "execution_count": null,
   "metadata": {
    "collapsed": false
   },
   "outputs": [],
   "source": [
    "b[0] = 12\n",
    "a  # chan!!!"
   ]
  },
  {
   "cell_type": "markdown",
   "metadata": {},
   "source": [
    "En cambio"
   ]
  },
  {
   "cell_type": "code",
   "execution_count": null,
   "metadata": {
    "collapsed": false
   },
   "outputs": [],
   "source": [
    "a = np.arange(10)\n",
    "b = a[::2].copy()\n",
    "b[0] = 12\n",
    "a"
   ]
  },
  {
   "cell_type": "markdown",
   "metadata": {},
   "source": [
    "Además de `arange` hay otras funciones que devuelven arrays. Por ejemplo `linspace`, que a diferencia de `arange` no se da el tamaño del paso, sino la cantidad de puntos que queremos en el rango"
   ]
  },
  {
   "cell_type": "code",
   "execution_count": null,
   "metadata": {
    "collapsed": false
   },
   "outputs": [],
   "source": [
    "np.linspace(0, 2 * np.pi, 100)      # por defecto, incluye el limite. "
   ]
  },
  {
   "cell_type": "code",
   "execution_count": null,
   "metadata": {
    "collapsed": false
   },
   "outputs": [],
   "source": [
    "_.size   # en cualquier consola, python guarda el ultimo output en la variable _ "
   ]
  },
  {
   "cell_type": "code",
   "execution_count": null,
   "metadata": {
    "collapsed": false
   },
   "outputs": [],
   "source": [
    "matriz_de_ceros = np.zeros((4,6))\n",
    "matriz_de_ceros"
   ]
  },
  {
   "cell_type": "code",
   "execution_count": null,
   "metadata": {
    "collapsed": false
   },
   "outputs": [],
   "source": [
    "np.ones((2, 4))"
   ]
  },
  {
   "cell_type": "markdown",
   "metadata": {},
   "source": [
    "Pero numpy no sólo nos brinda los arrays. Los conceptos claves que aporta son *vectorización* y *broadcasting*\n",
    "\n",
    "La **vectorización** describe la **ausencia de iteraciones explícitas e indización**\n",
    "(que toman lugar, por supuesto, \"detrás de escena\", en un optimizado y precompilado\n",
    "código C). La vectorización tiene muchas ventajas:\n",
    "\n",
    "* El código vectorizado es más conciso y fácil de leer.\n",
    "* Menos líneas de código habitualmente implican menos errores.\n",
    "* El código se parece más a la notación matemática estándar (por lo que es más fácil,\n",
    "por lo general, corregir código asociado a construcciones matemáticas\n",
    "* La vectorización redunda en un código más \"pythónico\""
   ]
  },
  {
   "cell_type": "code",
   "execution_count": null,
   "metadata": {
    "collapsed": false
   },
   "outputs": [],
   "source": [
    "a = np.array([3, 4.3, 1])\n",
    "b = np.array([-1, 0, 3.4])\n",
    "c = a * b\n",
    "c"
   ]
  },
  {
   "cell_type": "markdown",
   "metadata": {},
   "source": [
    "¡Basta de bucles `for` for todos lados! "
   ]
  },
  {
   "cell_type": "markdown",
   "metadata": {},
   "source": [
    "El **broadcasting** (*difusión*) es el término que describe el comportamiento\n",
    "**elemento por elemento** de las operaciones. En general, en Numpy todas\n",
    "las operaciones adoptan por defecto un comportamiento de este tipo (no sólo las operaciones\n",
    "aritméticas sino las lógicas, las funcionales y las de nivel de bits). "
   ]
  },
  {
   "cell_type": "code",
   "execution_count": null,
   "metadata": {
    "collapsed": false
   },
   "outputs": [],
   "source": [
    "x = np.linspace(-12, 12, 1000)\n",
    "y = x ** 2 - 1\n",
    "pyplot.plot(x, y)"
   ]
  },
  {
   "cell_type": "markdown",
   "metadata": {},
   "source": [
    "Matplotlib se lleva muy bien con numpy (de hecho lo usa internamente)"
   ]
  },
  {
   "cell_type": "markdown",
   "metadata": {},
   "source": [
    "### Slicing extendido\n",
    "\n",
    "El funcionamiento básico del indexado y el slicing funciona igual con `ndarrays` que con cualquier secuencia.  \n"
   ]
  },
  {
   "cell_type": "code",
   "execution_count": null,
   "metadata": {
    "collapsed": false
   },
   "outputs": [],
   "source": [
    "ruido = np.random.random(1000)   # 1000 numeros aleatorios entre [0, 1)\n"
   ]
  },
  {
   "cell_type": "code",
   "execution_count": null,
   "metadata": {
    "collapsed": false
   },
   "outputs": [],
   "source": [
    "ruido[0] == ruido[-1000]"
   ]
  },
  {
   "cell_type": "code",
   "execution_count": null,
   "metadata": {
    "collapsed": false
   },
   "outputs": [],
   "source": [
    "ruido[999] == ruido[-1]"
   ]
  },
  {
   "cell_type": "code",
   "execution_count": null,
   "metadata": {
    "collapsed": false
   },
   "outputs": [],
   "source": [
    "ruido[1:5]"
   ]
  },
  {
   "cell_type": "code",
   "execution_count": null,
   "metadata": {
    "collapsed": false
   },
   "outputs": [],
   "source": [
    "ruido[0:10] = np.zeros((10,))  # claro que los arrays son mutables!"
   ]
  },
  {
   "cell_type": "markdown",
   "metadata": {},
   "source": [
    "Pero veamos algo más. Supongamos que tenemos una matriz de 3x3"
   ]
  },
  {
   "cell_type": "code",
   "execution_count": null,
   "metadata": {
    "collapsed": false
   },
   "outputs": [],
   "source": [
    "m = np.arange(0, 9)  \n",
    "m.shape = 3, 3\n",
    "m"
   ]
  },
  {
   "cell_type": "code",
   "execution_count": null,
   "metadata": {
    "collapsed": false
   },
   "outputs": [],
   "source": [
    "m[0]       # primer indice: filas"
   ]
  },
  {
   "cell_type": "code",
   "execution_count": null,
   "metadata": {
    "collapsed": false
   },
   "outputs": [],
   "source": [
    "m[0:2]"
   ]
  },
  {
   "cell_type": "markdown",
   "metadata": {},
   "source": [
    "Pero la sintaxis se extiende de una manera eficiente y compacta.\n",
    "\n"
   ]
  },
  {
   "cell_type": "code",
   "execution_count": null,
   "metadata": {
    "collapsed": false
   },
   "outputs": [],
   "source": [
    "%timeit m[1][1]      # buuuuh!!!"
   ]
  },
  {
   "cell_type": "code",
   "execution_count": null,
   "metadata": {
    "collapsed": false
   },
   "outputs": [],
   "source": [
    "%timeit m[1,1]    # yeaaaa!!!"
   ]
  },
  {
   "cell_type": "code",
   "execution_count": null,
   "metadata": {
    "collapsed": false
   },
   "outputs": [],
   "source": [
    "m[:,0]      # quiero la primer columna"
   ]
  },
  {
   "cell_type": "code",
   "execution_count": null,
   "metadata": {
    "collapsed": false
   },
   "outputs": [],
   "source": [
    "m[0:2, 0:2]   # la submatriz superior izquierda de 2x2 "
   ]
  },
  {
   "cell_type": "markdown",
   "metadata": {},
   "source": [
    "Se acuerdan que en el slicing común había un tercer parametro opcional que era el paso? Funciona acá también"
   ]
  },
  {
   "cell_type": "code",
   "execution_count": null,
   "metadata": {
    "collapsed": false
   },
   "outputs": [],
   "source": [
    "m[::2, ::2]    # esquinas"
   ]
  },
  {
   "cell_type": "code",
   "execution_count": null,
   "metadata": {
    "collapsed": false
   },
   "outputs": [],
   "source": [
    "a = np.arange(60)\n",
    "a.shape = 6, 10\n",
    "a[:,:6]\n",
    "\n"
   ]
  },
  {
   "cell_type": "code",
   "execution_count": null,
   "metadata": {
    "collapsed": false
   },
   "outputs": [],
   "source": [
    "a[:,2:3]h"
   ]
  },
  {
   "cell_type": "markdown",
   "metadata": {},
   "source": [
    "Como resumen\n",
    "\n",
    "![](http://www.tp.umu.se/~nylen/pylect/_images/numpy_indexing.png)\n"
   ]
  },
  {
   "cell_type": "markdown",
   "metadata": {},
   "source": [
    "### Ejercicios\n",
    "\n",
    "- Crear un array de 1000 números aleatorios y encontrar su media (tip: ver el método `mean()`)\n",
    "- Crear una array (matriz) de 10x10 donde cada fila va del 0 al 9 (tip: ¿qué pasa al sumar un array 2d con otro 1d?)\n",
    "- Crear una matriz de esta forma\n",
    "\n",
    "        array([[0, 0, 0, 0, 5],\n",
    "               [0, 0, 0, 4, 0],\n",
    "               [0, 0, 3, 0, 0],\n",
    "               [0, 2, 0, 0, 0],\n",
    "               [1, 0, 0, 0, 0]])\n",
    "  (tip: investigar la función `diag()` y `rot90()`\n"
   ]
  },
  {
   "cell_type": "code",
   "execution_count": null,
   "metadata": {
    "collapsed": false
   },
   "outputs": [],
   "source": [
    "aleatorio = np.random.normal?"
   ]
  },
  {
   "cell_type": "code",
   "execution_count": null,
   "metadata": {
    "collapsed": true
   },
   "outputs": [],
   "source": [
    "aleatorio = np.random.normal"
   ]
  },
  {
   "cell_type": "code",
   "execution_count": null,
   "metadata": {
    "collapsed": false
   },
   "outputs": [],
   "source": [
    "np.zeros((10,10)) + np.arange(10)"
   ]
  },
  {
   "cell_type": "markdown",
   "metadata": {},
   "source": [
    "### Algunas funciones incluídas en numpy\n",
    "\n",
    "Encontrar raices de un polinomio"
   ]
  },
  {
   "cell_type": "code",
   "execution_count": null,
   "metadata": {
    "collapsed": false
   },
   "outputs": [],
   "source": [
    "np.roots([2, 0, -2])"
   ]
  },
  {
   "cell_type": "code",
   "execution_count": null,
   "metadata": {
    "collapsed": false
   },
   "outputs": [],
   "source": [
    "np.roots([1j, -4+0.4j, 18, -np.pi, 0])  # polinomio de grado 5!"
   ]
  },
  {
   "cell_type": "markdown",
   "metadata": {},
   "source": [
    "Resolver un sistema de ecuaciones lineales  `Ax = b`"
   ]
  },
  {
   "cell_type": "code",
   "execution_count": null,
   "metadata": {
    "collapsed": false
   },
   "outputs": [],
   "source": [
    "A = np.array([[1, 2], [0.5, -2]])\n",
    "b = np.array([4, 5.2])"
   ]
  },
  {
   "cell_type": "code",
   "execution_count": null,
   "metadata": {
    "collapsed": false
   },
   "outputs": [],
   "source": [
    "x = np.linalg.solve(A, b)\n",
    "x"
   ]
  },
  {
   "cell_type": "markdown",
   "metadata": {},
   "source": [
    "Encontrar la inversa de una matriz"
   ]
  },
  {
   "cell_type": "code",
   "execution_count": null,
   "metadata": {
    "collapsed": false
   },
   "outputs": [],
   "source": [
    "A = np.array([[1,2],[3,4]])\n",
    "invA = np.linalg.inv(A)\n",
    "invA"
   ]
  },
  {
   "cell_type": "code",
   "execution_count": null,
   "metadata": {
    "collapsed": false
   },
   "outputs": [],
   "source": [
    "np.dot(A,invA)   # producto punto"
   ]
  },
  {
   "cell_type": "markdown",
   "metadata": {},
   "source": [
    "### Ejercicios\n",
    "\n",
    "- Encontrar las raices para el polinomio $$f(x) = \\frac{1}{4}(x^3 + 3x^2 − 6x − 8)$$ y grafique con x entre [-3, 3]\n",
    "- Resuelva el siguiente sistema de ecuaciones \n",
    "\n",
    "  $$\\begin{array} - -x + z = -2\\\\ 2x - y + z = 1 \\\\ -3x + 2y -2z = -1 \\\\ x - 2y + 3z = -2 \\end{array}$$\n",
    "\n"
   ]
  },
  {
   "cell_type": "code",
   "execution_count": null,
   "metadata": {
    "collapsed": false
   },
   "outputs": [],
   "source": []
  }
 ],
 "metadata": {
  "kernelspec": {
   "display_name": "Python 3",
   "language": "python",
   "name": "python3"
  },
  "language_info": {
   "codemirror_mode": {
    "name": "ipython",
    "version": 3
   },
   "file_extension": ".py",
   "mimetype": "text/x-python",
   "name": "python",
   "nbconvert_exporter": "python",
   "pygments_lexer": "ipython3",
   "version": "3.4.0"
  }
 },
 "nbformat": 4,
 "nbformat_minor": 0
}
