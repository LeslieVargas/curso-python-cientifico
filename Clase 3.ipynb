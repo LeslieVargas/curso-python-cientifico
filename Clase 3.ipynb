{
 "metadata": {
  "name": "",
  "signature": "sha256:9968209709915ce8bf6ae3f5a2a3c2a97bf76e4caf5dc3ad32b337652977b82b"
 },
 "nbformat": 3,
 "nbformat_minor": 0,
 "worksheets": [
  {
   "cells": [
    {
     "cell_type": "markdown",
     "metadata": {},
     "source": [
      "# Introducci\u00f3n a Python para ciencias e ingenier\u00edas (notebook 3)\n",
      "\n",
      "\n",
      "Ing. Mart\u00edn Gait\u00e1n (Phasety)\n",
      "\n",
      "\n",
      "![](img/logo_small.png)\n",
      "\n",
      "--------\n",
      "\n",
      "\n"
     ]
    },
    {
     "cell_type": "markdown",
     "metadata": {},
     "source": [
      "\n",
      "## M\u00f3dulos y paquetes\n",
      "\n",
      "\n",
      "Buen\u00edsimo estos *notebooks* pero \u00bfqu\u00e9 pasa si quiero reusar c\u00f3digo? \n",
      "\n",
      "Hay que crear **m\u00f3dulos**. \n",
      "\n",
      "Por ejemplo, abramos el editor y guardemos esta funci\u00f3n:\n",
      "\n",
      "        \n",
      "    def raices(a, b, c, margen=1e-5):\n",
      "        \"\"\"Dados los coeficientes a, b y c encuentra los valores de X\n",
      "           que hacen aX^2 + bX + c == 0\"\"\"\n",
      "        \n",
      "        discriminante = b*b - 4*a*c\n",
      "        a,b,c,d = complex(a), complex(b), complex(c), complex(discriminante)\n",
      "        raiz1 = (-b + d**0.5)/2./a\n",
      "        raiz2 = (-b - d**0.5)/2./a\n",
      "        if abs(discriminante) < margen:\n",
      "            # reales e iguales\n",
      "            return abs(raiz1), abs(raiz1)\n",
      "        if discriminante > 0:\n",
      "            # reales\n",
      "            return raiz1.real, raiz2.real\n",
      "        # complejas\n",
      "        return raiz1, raiz2\n"
     ]
    },
    {
     "cell_type": "code",
     "collapsed": false,
     "input": [],
     "language": "python",
     "metadata": {},
     "outputs": []
    },
    {
     "cell_type": "code",
     "collapsed": true,
     "input": [
      "!gedit cuadratica.py    # truquito para ejecutar programas desde ipython"
     ],
     "language": "python",
     "metadata": {},
     "outputs": []
    },
    {
     "cell_type": "markdown",
     "metadata": {},
     "source": [
      "Lo hemos guardado en un archivo `cuadratica.py` en el directorio donde estamos corriendo esta consola (notebook), entonces directamente podemos **importar** ese modulo. "
     ]
    },
    {
     "cell_type": "code",
     "collapsed": false,
     "input": [
      "from cuadratica import "
     ],
     "language": "python",
     "metadata": {},
     "outputs": [],
     "prompt_number": 5
    },
    {
     "cell_type": "markdown",
     "metadata": {},
     "source": [
      "Esto nos crea un *\"espacio de nombres\"* llamado `cuadratica`, dentro del cual est\u00e1 la funci\u00f3n que definimos "
     ]
    },
    {
     "cell_type": "code",
     "collapsed": false,
     "input": [
      "raices?"
     ],
     "language": "python",
     "metadata": {},
     "outputs": [],
     "prompt_number": 7
    },
    {
     "cell_type": "code",
     "collapsed": false,
     "input": [
      "cuadratica.raices(3, 2, -1)"
     ],
     "language": "python",
     "metadata": {},
     "outputs": []
    },
    {
     "cell_type": "code",
     "collapsed": false,
     "input": [
      "cuadratica.raices(3, 2, 1)"
     ],
     "language": "python",
     "metadata": {},
     "outputs": []
    },
    {
     "cell_type": "markdown",
     "metadata": {},
     "source": [
      "Importar un modulo y usarlo como prefijo **es una buena pr\u00e1ctica** para saber d\u00f3nde est\u00e1 realmente definido un c\u00f3digo. No obstante hay otras maneras. A veces es util usar un alias as\u00ed\n"
     ]
    },
    {
     "cell_type": "code",
     "collapsed": false,
     "input": [
      "import cuadratica as cuad   # igual que la primera forma pero poniendole un alias (mas breve). \n",
      "\n",
      "cuad.raices?"
     ],
     "language": "python",
     "metadata": {},
     "outputs": []
    },
    {
     "cell_type": "markdown",
     "metadata": {},
     "source": [
      "Si s\u00f3lo queremos alguna unidad de c\u00f3digo y no todo el m\u00f3dulo, entonces podemos hacer una importaci\u00f3n selectiva"
     ]
    },
    {
     "cell_type": "code",
     "collapsed": false,
     "input": [
      "from cuadratica import raices  # s\u00f3lo importa el \"objeto\" que indequemos y lo deja \n",
      "                               # en el espacio de nombres actual"
     ],
     "language": "python",
     "metadata": {},
     "outputs": []
    },
    {
     "cell_type": "code",
     "collapsed": false,
     "input": [
      "import matematica\n",
      "\n",
      "matematica.cuadratica.raices"
     ],
     "language": "python",
     "metadata": {},
     "outputs": [],
     "prompt_number": 9
    },
    {
     "cell_type": "markdown",
     "metadata": {},
     "source": [
      "Si, como sucede en general, el m\u00f3dulo definiera m\u00e1s de una unidad de c\u00f3digo (una funci\u00f3n, clase, constantes, etc.) podemos usar una tupla para importar varias cosas cosas al espacio de nombres actual. Por ejemplo:\n",
      "\n",
      "      from cuadratica import raices, integral, diferencial \n",
      " \n",
      "Por \u00faltimo, si queremos importar todo pero no usar el prefijo, podemos usar el `*`. **Esto no es recomendado**\n",
      "    \n",
      "    from cuadratica import *"
     ]
    },
    {
     "cell_type": "markdown",
     "metadata": {},
     "source": [
      "Cuando tenemos muchos m\u00f3dulos que est\u00e1n relacionados es bueno armar un **paquete**. Un paquete de modulos es un simple directorio con un m\u00f3dulo llamado `__init__.py` (que puede estar vacio) y tantos modulos y subpaquetes como queramos. Los paquetes se usan igual que un m\u00f3dulo. Por ejemplo, supongamos que tenemos una estructura\n",
      "\n",
      "    paquete/\n",
      "       __init__.py\n",
      "       modulo.py\n",
      "\n",
      "Puedo importar la `funcion_loca` definida en `modulo.py` as\u00ed \n",
      "\n",
      "    from paquete.modulo import funcion_loca \n"
     ]
    },
    {
     "cell_type": "markdown",
     "metadata": {},
     "source": [
      "## M\u00f3dulos y paquetes inclu\u00eddos: las bater\u00edas puestas de Python\n",
      "\n",
      "Hasta ahora vimos algunas funciones y estructuras de datos que Python ofrece sin tener que importar nada, pero sin tener que instalar ninguna biblioteca extra, cualquier versi\u00f3n de python trae muchos m\u00f3dulos y paquetes listos para usar. Es lo que se conoce como la [librer\u00eda est\u00e1ndar de python](http://docs.python.org/2/library/) y es muy abarcativa y potente. \n",
      "\n",
      "Por ejemplo funciones matem\u00e1ticas, manejo de algunos formatos de archivos m\u00e1s espec\u00edficos que el \"texto plano\", protocolos de internet, otras *clases* de n\u00fameros y estructuras de datos,  etc. \n",
      "\n",
      "### Funciones y constantes matem\u00e1ticas"
     ]
    },
    {
     "cell_type": "code",
     "collapsed": false,
     "input": [
      "import math"
     ],
     "language": "python",
     "metadata": {},
     "outputs": []
    },
    {
     "cell_type": "code",
     "collapsed": false,
     "input": [
      "math.cos(math.pi)"
     ],
     "language": "python",
     "metadata": {},
     "outputs": []
    },
    {
     "cell_type": "code",
     "collapsed": false,
     "input": [
      "math.sqrt(2)"
     ],
     "language": "python",
     "metadata": {},
     "outputs": []
    },
    {
     "cell_type": "markdown",
     "metadata": {},
     "source": [
      "### CSV\n",
      "\n",
      "Los CSV (comma separated values) son una forma b\u00e1sica pero muy extendida de intercambiar informaci\u00f3n estructurada entre distintos programas. Por ejemplo, desde Excel o Libreoffice Calc se pueden guardar (y abrir) archivos CSV. y python tambi\u00e9n sabe. \n"
     ]
    },
    {
     "cell_type": "code",
     "collapsed": false,
     "input": [
      "%less data/near_critical_oil.csv   # cuando algo empieza con % es \"magia\" de ipython (no funcionan en python puro)\n",
      "                                   # ver %magic para m\u00e1s datos"
     ],
     "language": "python",
     "metadata": {},
     "outputs": []
    },
    {
     "cell_type": "code",
     "collapsed": false,
     "input": [
      "import csv\n",
      "reader = csv.reader(open('data/near_critical_oil.csv'))\n",
      "critical_oil = [line for line in reader]\n",
      "critical_oil"
     ],
     "language": "python",
     "metadata": {},
     "outputs": [
      {
       "metadata": {},
       "output_type": "pyout",
       "prompt_number": 21,
       "text": [
        "[['Component', 'Mol fraction'],\n",
        " ['n2', '0.46'],\n",
        " ['co2', '3.36'],\n",
        " ['c1', '62.36'],\n",
        " ['c2', '8.9'],\n",
        " ['c3', '5.31'],\n",
        " ['c4', '3.01'],\n",
        " ['c5', '1.5'],\n",
        " ['c6', '1.05'],\n",
        " ['c7', '2.0'],\n",
        " ['c7+', '12.049']]"
       ]
      }
     ],
     "prompt_number": 21
    },
    {
     "cell_type": "markdown",
     "metadata": {},
     "source": [
      "### Otros m\u00f3dulos interesantes para ver\n",
      "\n",
      "- json: serializaci\u00f3n de objetos en formato JSON (muy comun en \"servicios web\")\n",
      "- random: aleatoridad (numeros, funciones)\n",
      "- os: acceso al sistema operativo (directorios, archivos, etc)\n",
      "- y mucho \u00a1mucho! m\u00e1s http://docs.python.org/2/library/\n"
     ]
    },
    {
     "cell_type": "markdown",
     "metadata": {},
     "source": [
      "## Matplotlib, un gr\u00e1fico vale m\u00e1s que mil palabras\n",
      "\n",
      "Python es un lenguaje muy completo pero aunque es muy grande, su librer\u00eda est\u00e1ndar no es infinita. Por suerte hay miles y miles de bibliotecas extra para complementar casi cualquier aspecto en el que queramos aplicar Python. En algunos \u00e1mbitos, con soluciones muy destacadas. \n",
      "\n",
      "Para hacer gr\u00e1ficos existe Matplotlib http://matplotlib.org/ . Ya viene instalado con la versi\u00f3n completa de Anaconda. \n"
     ]
    },
    {
     "cell_type": "code",
     "collapsed": false,
     "input": [
      "%matplotlib inline"
     ],
     "language": "python",
     "metadata": {},
     "outputs": [],
     "prompt_number": 13
    },
    {
     "cell_type": "code",
     "collapsed": false,
     "input": [
      "from matplotlib import pyplot"
     ],
     "language": "python",
     "metadata": {},
     "outputs": [],
     "prompt_number": 14
    },
    {
     "cell_type": "code",
     "collapsed": false,
     "input": [
      "x = [0.1*i for i in range(-50, 51)]\n",
      "y = [x_i**2 for x_i in x]"
     ],
     "language": "python",
     "metadata": {},
     "outputs": [],
     "prompt_number": 15
    },
    {
     "cell_type": "code",
     "collapsed": false,
     "input": [
      "pyplot.plot(x,y)"
     ],
     "language": "python",
     "metadata": {},
     "outputs": [
      {
       "metadata": {},
       "output_type": "pyout",
       "prompt_number": 16,
       "text": [
        "[<matplotlib.lines.Line2D at 0x7fdda169b590>]"
       ]
      },
      {
       "metadata": {},
       "output_type": "display_data",
       "png": "[encoded data removed]",
       "text": [
        "<matplotlib.figure.Figure at 0x7fdda1754c10>"
       ]
      }
     ],
     "prompt_number": 16
    },
    {
     "cell_type": "markdown",
     "metadata": {},
     "source": [
      "Los gr\u00e1ficos emergentes son buenos porque tiene la barra de herramientas y podemos guardarlos en excelente calidad (incluso vectorial, ideal para un poster A0). Pero en los notebooks podemos poner los gr\u00e1ficos directamente incrustados"
     ]
    },
    {
     "cell_type": "code",
     "collapsed": false,
     "input": [
      "pyplot.plot(x,y)\n",
      "pyplot.title('Par\u00e1 bola!')\n",
      "pyplot.grid()"
     ],
     "language": "python",
     "metadata": {},
     "outputs": [
      {
       "metadata": {},
       "output_type": "display_data",
       "png": "[encoded data removed]",
       "text": [
        "<matplotlib.figure.Figure at 0x7f3143ac7d10>"
       ]
      }
     ],
     "prompt_number": 16
    },
    {
     "cell_type": "markdown",
     "metadata": {},
     "source": [
      "Matplotlib sabe hacer much\u00edsimos tipos de gr\u00e1ficos!"
     ]
    },
    {
     "cell_type": "code",
     "collapsed": false,
     "input": [
      "components = [c for (c, f) in critical_oil[1:]]\n",
      "fraction = [float(f) for (c, f) in critical_oil[1:]]\n",
      "# el ; evita el output\n",
      "pyplot.pie(fraction, labels=components, shadow=True);"
     ],
     "language": "python",
     "metadata": {},
     "outputs": [
      {
       "metadata": {},
       "output_type": "display_data",
       "png": "[encoded data removed]",
       "text": [
        "<matplotlib.figure.Figure at 0x7f3143a1eed0>"
       ]
      }
     ],
     "prompt_number": 23
    },
    {
     "cell_type": "code",
     "collapsed": false,
     "input": [
      "import random\n",
      "campana = [random.gauss(0, 0.5) for i in range(1000)]"
     ],
     "language": "python",
     "metadata": {},
     "outputs": [],
     "prompt_number": 18
    },
    {
     "cell_type": "code",
     "collapsed": false,
     "input": [
      "pyplot.hist(campana, bins=15);"
     ],
     "language": "python",
     "metadata": {},
     "outputs": [
      {
       "metadata": {},
       "output_type": "display_data",
       "png": "[encoded data removed]",
       "text": [
        "<matplotlib.figure.Figure at 0x7f3143b71d50>"
       ]
      }
     ],
     "prompt_number": 19
    },
    {
     "cell_type": "markdown",
     "metadata": {},
     "source": [
      "Pero antes de seguir con Matplotlib debemos aprender el coraz\u00f3n del Python Cientifico: Numpy"
     ]
    },
    {
     "cell_type": "markdown",
     "metadata": {},
     "source": [
      "## Numpy, todo es un array\n",
      "\n",
      "El paquete **numpy** es usado en casi todos los c\u00e1lculos num\u00e9ricos usando Python. Es un paquete que provee a Python de estructuras de datos vectoriales, matriciales y de rango mayor, de alto rendimiento. Est\u00e1 implementado en C y Fortran, de modo que cuando los c\u00e1lculos son vectorizados (formulados con vectores y matrices), el rendimiento es muy bueno."
     ]
    },
    {
     "cell_type": "code",
     "collapsed": false,
     "input": [
      "import numpy as np"
     ],
     "language": "python",
     "metadata": {},
     "outputs": []
    },
    {
     "cell_type": "markdown",
     "metadata": {},
     "source": [
      "El pilar de numpy (y toda la computaci\u00f3n cient\u00edfica basada en Python) es el tipo de datos `ndarray`, o sea arreglos de datos multidimensionales. \n",
      "\n",
      "\u00bfOtra secuencia m\u00e1s? \u00bfpero que tenina de malo las listas?\n",
      "\n",
      "Las listas son geniales pero guardar **cualquier tipo de objeto** y su flexibilidad las vuelve ineficientes"
     ]
    },
    {
     "cell_type": "code",
     "collapsed": true,
     "input": [
      "[0.1*i for i in range(10000)]   # %timeit es otra magia de ipython"
     ],
     "language": "python",
     "metadata": {},
     "outputs": [
      {
       "metadata": {},
       "output_type": "pyout",
       "prompt_number": 32,
       "text": [
        "[0.0,\n",
        " 0.1,\n",
        " 0.2,\n",
        " 0.30000000000000004,\n",
        " 0.4,\n",
        " 0.5,\n",
        " 0.6000000000000001,\n",
        " 0.7000000000000001,\n",
        " 0.8,\n",
        " 0.9,\n",
        " 1.0,\n",
        " 1.1,\n",
        " 1.2000000000000002,\n",
        " 1.3,\n",
        " 1.4000000000000001,\n",
        " 1.5,\n",
        " 1.6,\n",
        " 1.7000000000000002,\n",
        " 1.8,\n",
        " 1.9000000000000001,\n",
        " 2.0,\n",
        " 2.1,\n",
        " 2.2,\n",
        " 2.3000000000000003,\n",
        " 2.4000000000000004,\n",
        " 2.5,\n",
        " 2.6,\n",
        " 2.7,\n",
        " 2.8000000000000003,\n",
        " 2.9000000000000004,\n",
        " 3.0,\n",
        " 3.1,\n",
        " 3.2,\n",
        " 3.3000000000000003,\n",
        " 3.4000000000000004,\n",
        " 3.5,\n",
        " 3.6,\n",
        " 3.7,\n",
        " 3.8000000000000003,\n",
        " 3.9000000000000004,\n",
        " 4.0,\n",
        " 4.1000000000000005,\n",
        " 4.2,\n",
        " 4.3,\n",
        " 4.4,\n",
        " 4.5,\n",
        " 4.6000000000000005,\n",
        " 4.7,\n",
        " 4.800000000000001,\n",
        " 4.9,\n",
        " 5.0,\n",
        " 5.1000000000000005,\n",
        " 5.2,\n",
        " 5.300000000000001,\n",
        " 5.4,\n",
        " 5.5,\n",
        " 5.6000000000000005,\n",
        " 5.7,\n",
        " 5.800000000000001,\n",
        " 5.9,\n",
        " 6.0,\n",
        " 6.1000000000000005,\n",
        " 6.2,\n",
        " 6.300000000000001,\n",
        " 6.4,\n",
        " 6.5,\n",
        " 6.6000000000000005,\n",
        " 6.7,\n",
        " 6.800000000000001,\n",
        " 6.9,\n",
        " 7.0,\n",
        " 7.1000000000000005,\n",
        " 7.2,\n",
        " 7.300000000000001,\n",
        " 7.4,\n",
        " 7.5,\n",
        " 7.6000000000000005,\n",
        " 7.7,\n",
        " 7.800000000000001,\n",
        " 7.9,\n",
        " 8.0,\n",
        " 8.1,\n",
        " 8.200000000000001,\n",
        " 8.3,\n",
        " 8.4,\n",
        " 8.5,\n",
        " 8.6,\n",
        " 8.700000000000001,\n",
        " 8.8,\n",
        " 8.9,\n",
        " 9.0,\n",
        " 9.1,\n",
        " 9.200000000000001,\n",
        " 9.3,\n",
        " 9.4,\n",
        " 9.5,\n",
        " 9.600000000000001,\n",
        " 9.700000000000001,\n",
        " 9.8,\n",
        " 9.9,\n",
        " 10.0,\n",
        " 10.100000000000001,\n",
        " 10.200000000000001,\n",
        " 10.3,\n",
        " 10.4,\n",
        " 10.5,\n",
        " 10.600000000000001,\n",
        " 10.700000000000001,\n",
        " 10.8,\n",
        " 10.9,\n",
        " 11.0,\n",
        " 11.100000000000001,\n",
        " 11.200000000000001,\n",
        " 11.3,\n",
        " 11.4,\n",
        " 11.5,\n",
        " 11.600000000000001,\n",
        " 11.700000000000001,\n",
        " 11.8,\n",
        " 11.9,\n",
        " 12.0,\n",
        " 12.100000000000001,\n",
        " 12.200000000000001,\n",
        " 12.3,\n",
        " 12.4,\n",
        " 12.5,\n",
        " 12.600000000000001,\n",
        " 12.700000000000001,\n",
        " 12.8,\n",
        " 12.9,\n",
        " 13.0,\n",
        " 13.100000000000001,\n",
        " 13.200000000000001,\n",
        " 13.3,\n",
        " 13.4,\n",
        " 13.5,\n",
        " 13.600000000000001,\n",
        " 13.700000000000001,\n",
        " 13.8,\n",
        " 13.9,\n",
        " 14.0,\n",
        " 14.100000000000001,\n",
        " 14.200000000000001,\n",
        " 14.3,\n",
        " 14.4,\n",
        " 14.5,\n",
        " 14.600000000000001,\n",
        " 14.700000000000001,\n",
        " 14.8,\n",
        " 14.9,\n",
        " 15.0,\n",
        " 15.100000000000001,\n",
        " 15.200000000000001,\n",
        " 15.3,\n",
        " 15.4,\n",
        " 15.5,\n",
        " 15.600000000000001,\n",
        " 15.700000000000001,\n",
        " 15.8,\n",
        " 15.9,\n",
        " 16.0,\n",
        " 16.1,\n",
        " 16.2,\n",
        " 16.3,\n",
        " 16.400000000000002,\n",
        " 16.5,\n",
        " 16.6,\n",
        " 16.7,\n",
        " 16.8,\n",
        " 16.900000000000002,\n",
        " 17.0,\n",
        " 17.1,\n",
        " 17.2,\n",
        " 17.3,\n",
        " 17.400000000000002,\n",
        " 17.5,\n",
        " 17.6,\n",
        " 17.7,\n",
        " 17.8,\n",
        " 17.900000000000002,\n",
        " 18.0,\n",
        " 18.1,\n",
        " 18.2,\n",
        " 18.3,\n",
        " 18.400000000000002,\n",
        " 18.5,\n",
        " 18.6,\n",
        " 18.7,\n",
        " 18.8,\n",
        " 18.900000000000002,\n",
        " 19.0,\n",
        " 19.1,\n",
        " 19.200000000000003,\n",
        " 19.3,\n",
        " 19.400000000000002,\n",
        " 19.5,\n",
        " 19.6,\n",
        " 19.700000000000003,\n",
        " 19.8,\n",
        " 19.900000000000002,\n",
        " 20.0,\n",
        " 20.1,\n",
        " 20.200000000000003,\n",
        " 20.3,\n",
        " 20.400000000000002,\n",
        " 20.5,\n",
        " 20.6,\n",
        " 20.700000000000003,\n",
        " 20.8,\n",
        " 20.900000000000002,\n",
        " 21.0,\n",
        " 21.1,\n",
        " 21.200000000000003,\n",
        " 21.3,\n",
        " 21.400000000000002,\n",
        " 21.5,\n",
        " 21.6,\n",
        " 21.700000000000003,\n",
        " 21.8,\n",
        " 21.900000000000002,\n",
        " 22.0,\n",
        " 22.1,\n",
        " 22.200000000000003,\n",
        " 22.3,\n",
        " 22.400000000000002,\n",
        " 22.5,\n",
        " 22.6,\n",
        " 22.700000000000003,\n",
        " 22.8,\n",
        " 22.900000000000002,\n",
        " 23.0,\n",
        " 23.1,\n",
        " 23.200000000000003,\n",
        " 23.3,\n",
        " 23.400000000000002,\n",
        " 23.5,\n",
        " 23.6,\n",
        " 23.700000000000003,\n",
        " 23.8,\n",
        " 23.900000000000002,\n",
        " 24.0,\n",
        " 24.1,\n",
        " 24.200000000000003,\n",
        " 24.3,\n",
        " 24.400000000000002,\n",
        " 24.5,\n",
        " 24.6,\n",
        " 24.700000000000003,\n",
        " 24.8,\n",
        " 24.900000000000002,\n",
        " 25.0,\n",
        " 25.1,\n",
        " 25.200000000000003,\n",
        " 25.3,\n",
        " 25.400000000000002,\n",
        " 25.5,\n",
        " 25.6,\n",
        " 25.700000000000003,\n",
        " 25.8,\n",
        " 25.900000000000002,\n",
        " 26.0,\n",
        " 26.1,\n",
        " 26.200000000000003,\n",
        " 26.3,\n",
        " 26.400000000000002,\n",
        " 26.5,\n",
        " 26.6,\n",
        " 26.700000000000003,\n",
        " 26.8,\n",
        " 26.900000000000002,\n",
        " 27.0,\n",
        " 27.1,\n",
        " 27.200000000000003,\n",
        " 27.3,\n",
        " 27.400000000000002,\n",
        " 27.5,\n",
        " 27.6,\n",
        " 27.700000000000003,\n",
        " 27.8,\n",
        " 27.900000000000002,\n",
        " 28.0,\n",
        " 28.1,\n",
        " 28.200000000000003,\n",
        " 28.3,\n",
        " 28.400000000000002,\n",
        " 28.5,\n",
        " 28.6,\n",
        " 28.700000000000003,\n",
        " 28.8,\n",
        " 28.900000000000002,\n",
        " 29.0,\n",
        " 29.1,\n",
        " 29.200000000000003,\n",
        " 29.3,\n",
        " 29.400000000000002,\n",
        " 29.5,\n",
        " 29.6,\n",
        " 29.700000000000003,\n",
        " 29.8,\n",
        " 29.900000000000002,\n",
        " 30.0,\n",
        " 30.1,\n",
        " 30.200000000000003,\n",
        " 30.3,\n",
        " 30.400000000000002,\n",
        " 30.5,\n",
        " 30.6,\n",
        " 30.700000000000003,\n",
        " 30.8,\n",
        " 30.900000000000002,\n",
        " 31.0,\n",
        " 31.1,\n",
        " 31.200000000000003,\n",
        " 31.3,\n",
        " 31.400000000000002,\n",
        " 31.5,\n",
        " 31.6,\n",
        " 31.700000000000003,\n",
        " 31.8,\n",
        " 31.900000000000002,\n",
        " 32.0,\n",
        " 32.1,\n",
        " 32.2,\n",
        " 32.300000000000004,\n",
        " 32.4,\n",
        " 32.5,\n",
        " 32.6,\n",
        " 32.7,\n",
        " 32.800000000000004,\n",
        " 32.9,\n",
        " 33.0,\n",
        " 33.1,\n",
        " 33.2,\n",
        " 33.300000000000004,\n",
        " 33.4,\n",
        " 33.5,\n",
        " 33.6,\n",
        " 33.7,\n",
        " 33.800000000000004,\n",
        " 33.9,\n",
        " 34.0,\n",
        " 34.1,\n",
        " 34.2,\n",
        " 34.300000000000004,\n",
        " 34.4,\n",
        " 34.5,\n",
        " 34.6,\n",
        " 34.7,\n",
        " 34.800000000000004,\n",
        " 34.9,\n",
        " 35.0,\n",
        " 35.1,\n",
        " 35.2,\n",
        " 35.300000000000004,\n",
        " 35.4,\n",
        " 35.5,\n",
        " 35.6,\n",
        " 35.7,\n",
        " 35.800000000000004,\n",
        " 35.9,\n",
        " 36.0,\n",
        " 36.1,\n",
        " 36.2,\n",
        " 36.300000000000004,\n",
        " 36.4,\n",
        " 36.5,\n",
        " 36.6,\n",
        " 36.7,\n",
        " 36.800000000000004,\n",
        " 36.9,\n",
        " 37.0,\n",
        " 37.1,\n",
        " 37.2,\n",
        " 37.300000000000004,\n",
        " 37.4,\n",
        " 37.5,\n",
        " 37.6,\n",
        " 37.7,\n",
        " 37.800000000000004,\n",
        " 37.9,\n",
        " 38.0,\n",
        " 38.1,\n",
        " 38.2,\n",
        " 38.300000000000004,\n",
        " 38.400000000000006,\n",
        " 38.5,\n",
        " 38.6,\n",
        " 38.7,\n",
        " 38.800000000000004,\n",
        " 38.900000000000006,\n",
        " 39.0,\n",
        " 39.1,\n",
        " 39.2,\n",
        " 39.300000000000004,\n",
        " 39.400000000000006,\n",
        " 39.5,\n",
        " 39.6,\n",
        " 39.7,\n",
        " 39.800000000000004,\n",
        " 39.900000000000006,\n",
        " 40.0,\n",
        " 40.1,\n",
        " 40.2,\n",
        " 40.300000000000004,\n",
        " 40.400000000000006,\n",
        " 40.5,\n",
        " 40.6,\n",
        " 40.7,\n",
        " 40.800000000000004,\n",
        " 40.900000000000006,\n",
        " 41.0,\n",
        " 41.1,\n",
        " 41.2,\n",
        " 41.300000000000004,\n",
        " 41.400000000000006,\n",
        " 41.5,\n",
        " 41.6,\n",
        " 41.7,\n",
        " 41.800000000000004,\n",
        " 41.900000000000006,\n",
        " 42.0,\n",
        " 42.1,\n",
        " 42.2,\n",
        " 42.300000000000004,\n",
        " 42.400000000000006,\n",
        " 42.5,\n",
        " 42.6,\n",
        " 42.7,\n",
        " 42.800000000000004,\n",
        " 42.900000000000006,\n",
        " 43.0,\n",
        " 43.1,\n",
        " 43.2,\n",
        " 43.300000000000004,\n",
        " 43.400000000000006,\n",
        " 43.5,\n",
        " 43.6,\n",
        " 43.7,\n",
        " 43.800000000000004,\n",
        " 43.900000000000006,\n",
        " 44.0,\n",
        " 44.1,\n",
        " 44.2,\n",
        " 44.300000000000004,\n",
        " 44.400000000000006,\n",
        " 44.5,\n",
        " 44.6,\n",
        " 44.7,\n",
        " 44.800000000000004,\n",
        " 44.900000000000006,\n",
        " 45.0,\n",
        " 45.1,\n",
        " 45.2,\n",
        " 45.300000000000004,\n",
        " 45.400000000000006,\n",
        " 45.5,\n",
        " 45.6,\n",
        " 45.7,\n",
        " 45.800000000000004,\n",
        " 45.900000000000006,\n",
        " 46.0,\n",
        " 46.1,\n",
        " 46.2,\n",
        " 46.300000000000004,\n",
        " 46.400000000000006,\n",
        " 46.5,\n",
        " 46.6,\n",
        " 46.7,\n",
        " 46.800000000000004,\n",
        " 46.900000000000006,\n",
        " 47.0,\n",
        " 47.1,\n",
        " 47.2,\n",
        " 47.300000000000004,\n",
        " 47.400000000000006,\n",
        " 47.5,\n",
        " 47.6,\n",
        " 47.7,\n",
        " 47.800000000000004,\n",
        " 47.900000000000006,\n",
        " 48.0,\n",
        " 48.1,\n",
        " 48.2,\n",
        " 48.300000000000004,\n",
        " 48.400000000000006,\n",
        " 48.5,\n",
        " 48.6,\n",
        " 48.7,\n",
        " 48.800000000000004,\n",
        " 48.900000000000006,\n",
        " 49.0,\n",
        " 49.1,\n",
        " 49.2,\n",
        " 49.300000000000004,\n",
        " 49.400000000000006,\n",
        " 49.5,\n",
        " 49.6,\n",
        " 49.7,\n",
        " 49.800000000000004,\n",
        " 49.900000000000006,\n",
        " 50.0,\n",
        " 50.1,\n",
        " 50.2,\n",
        " 50.300000000000004,\n",
        " 50.400000000000006,\n",
        " 50.5,\n",
        " 50.6,\n",
        " 50.7,\n",
        " 50.800000000000004,\n",
        " 50.900000000000006,\n",
        " 51.0,\n",
        " 51.1,\n",
        " 51.2,\n",
        " 51.300000000000004,\n",
        " 51.400000000000006,\n",
        " 51.5,\n",
        " 51.6,\n",
        " 51.7,\n",
        " 51.800000000000004,\n",
        " 51.900000000000006,\n",
        " 52.0,\n",
        " 52.1,\n",
        " 52.2,\n",
        " 52.300000000000004,\n",
        " 52.400000000000006,\n",
        " 52.5,\n",
        " 52.6,\n",
        " 52.7,\n",
        " 52.800000000000004,\n",
        " 52.900000000000006,\n",
        " 53.0,\n",
        " 53.1,\n",
        " 53.2,\n",
        " 53.300000000000004,\n",
        " 53.400000000000006,\n",
        " 53.5,\n",
        " 53.6,\n",
        " 53.7,\n",
        " 53.800000000000004,\n",
        " 53.900000000000006,\n",
        " 54.0,\n",
        " 54.1,\n",
        " 54.2,\n",
        " 54.300000000000004,\n",
        " 54.400000000000006,\n",
        " 54.5,\n",
        " 54.6,\n",
        " 54.7,\n",
        " 54.800000000000004,\n",
        " 54.900000000000006,\n",
        " 55.0,\n",
        " 55.1,\n",
        " 55.2,\n",
        " 55.300000000000004,\n",
        " 55.400000000000006,\n",
        " 55.5,\n",
        " 55.6,\n",
        " 55.7,\n",
        " 55.800000000000004,\n",
        " 55.900000000000006,\n",
        " 56.0,\n",
        " 56.1,\n",
        " 56.2,\n",
        " 56.300000000000004,\n",
        " 56.400000000000006,\n",
        " 56.5,\n",
        " 56.6,\n",
        " 56.7,\n",
        " 56.800000000000004,\n",
        " 56.900000000000006,\n",
        " 57.0,\n",
        " 57.1,\n",
        " 57.2,\n",
        " 57.300000000000004,\n",
        " 57.400000000000006,\n",
        " 57.5,\n",
        " 57.6,\n",
        " 57.7,\n",
        " 57.800000000000004,\n",
        " 57.900000000000006,\n",
        " 58.0,\n",
        " 58.1,\n",
        " 58.2,\n",
        " 58.300000000000004,\n",
        " 58.400000000000006,\n",
        " 58.5,\n",
        " 58.6,\n",
        " 58.7,\n",
        " 58.800000000000004,\n",
        " 58.900000000000006,\n",
        " 59.0,\n",
        " 59.1,\n",
        " 59.2,\n",
        " 59.300000000000004,\n",
        " 59.400000000000006,\n",
        " 59.5,\n",
        " 59.6,\n",
        " 59.7,\n",
        " 59.800000000000004,\n",
        " 59.900000000000006,\n",
        " 60.0,\n",
        " 60.1,\n",
        " 60.2,\n",
        " 60.300000000000004,\n",
        " 60.400000000000006,\n",
        " 60.5,\n",
        " 60.6,\n",
        " 60.7,\n",
        " 60.800000000000004,\n",
        " 60.900000000000006,\n",
        " 61.0,\n",
        " 61.1,\n",
        " 61.2,\n",
        " 61.300000000000004,\n",
        " 61.400000000000006,\n",
        " 61.5,\n",
        " 61.6,\n",
        " 61.7,\n",
        " 61.800000000000004,\n",
        " 61.900000000000006,\n",
        " 62.0,\n",
        " 62.1,\n",
        " 62.2,\n",
        " 62.300000000000004,\n",
        " 62.400000000000006,\n",
        " 62.5,\n",
        " 62.6,\n",
        " 62.7,\n",
        " 62.800000000000004,\n",
        " 62.900000000000006,\n",
        " 63.0,\n",
        " 63.1,\n",
        " 63.2,\n",
        " 63.300000000000004,\n",
        " 63.400000000000006,\n",
        " 63.5,\n",
        " 63.6,\n",
        " 63.7,\n",
        " 63.800000000000004,\n",
        " 63.900000000000006,\n",
        " 64.0,\n",
        " 64.10000000000001,\n",
        " 64.2,\n",
        " 64.3,\n",
        " 64.4,\n",
        " 64.5,\n",
        " 64.60000000000001,\n",
        " 64.7,\n",
        " 64.8,\n",
        " 64.9,\n",
        " 65.0,\n",
        " 65.10000000000001,\n",
        " 65.2,\n",
        " 65.3,\n",
        " 65.4,\n",
        " 65.5,\n",
        " 65.60000000000001,\n",
        " 65.7,\n",
        " 65.8,\n",
        " 65.9,\n",
        " 66.0,\n",
        " 66.10000000000001,\n",
        " 66.2,\n",
        " 66.3,\n",
        " 66.4,\n",
        " 66.5,\n",
        " 66.60000000000001,\n",
        " 66.7,\n",
        " 66.8,\n",
        " 66.9,\n",
        " 67.0,\n",
        " 67.10000000000001,\n",
        " 67.2,\n",
        " 67.3,\n",
        " 67.4,\n",
        " 67.5,\n",
        " 67.60000000000001,\n",
        " 67.7,\n",
        " 67.8,\n",
        " 67.9,\n",
        " 68.0,\n",
        " 68.10000000000001,\n",
        " 68.2,\n",
        " 68.3,\n",
        " 68.4,\n",
        " 68.5,\n",
        " 68.60000000000001,\n",
        " 68.7,\n",
        " 68.8,\n",
        " 68.9,\n",
        " 69.0,\n",
        " 69.10000000000001,\n",
        " 69.2,\n",
        " 69.3,\n",
        " 69.4,\n",
        " 69.5,\n",
        " 69.60000000000001,\n",
        " 69.7,\n",
        " 69.8,\n",
        " 69.9,\n",
        " 70.0,\n",
        " 70.10000000000001,\n",
        " 70.2,\n",
        " 70.3,\n",
        " 70.4,\n",
        " 70.5,\n",
        " 70.60000000000001,\n",
        " 70.7,\n",
        " 70.8,\n",
        " 70.9,\n",
        " 71.0,\n",
        " 71.10000000000001,\n",
        " 71.2,\n",
        " 71.3,\n",
        " 71.4,\n",
        " 71.5,\n",
        " 71.60000000000001,\n",
        " 71.7,\n",
        " 71.8,\n",
        " 71.9,\n",
        " 72.0,\n",
        " 72.10000000000001,\n",
        " 72.2,\n",
        " 72.3,\n",
        " 72.4,\n",
        " 72.5,\n",
        " 72.60000000000001,\n",
        " 72.7,\n",
        " 72.8,\n",
        " 72.9,\n",
        " 73.0,\n",
        " 73.10000000000001,\n",
        " 73.2,\n",
        " 73.3,\n",
        " 73.4,\n",
        " 73.5,\n",
        " 73.60000000000001,\n",
        " 73.7,\n",
        " 73.8,\n",
        " 73.9,\n",
        " 74.0,\n",
        " 74.10000000000001,\n",
        " 74.2,\n",
        " 74.3,\n",
        " 74.4,\n",
        " 74.5,\n",
        " 74.60000000000001,\n",
        " 74.7,\n",
        " 74.8,\n",
        " 74.9,\n",
        " 75.0,\n",
        " 75.10000000000001,\n",
        " 75.2,\n",
        " 75.3,\n",
        " 75.4,\n",
        " 75.5,\n",
        " 75.60000000000001,\n",
        " 75.7,\n",
        " 75.8,\n",
        " 75.9,\n",
        " 76.0,\n",
        " 76.10000000000001,\n",
        " 76.2,\n",
        " 76.3,\n",
        " 76.4,\n",
        " 76.5,\n",
        " 76.60000000000001,\n",
        " 76.7,\n",
        " 76.80000000000001,\n",
        " 76.9,\n",
        " 77.0,\n",
        " 77.10000000000001,\n",
        " 77.2,\n",
        " 77.30000000000001,\n",
        " 77.4,\n",
        " 77.5,\n",
        " 77.60000000000001,\n",
        " 77.7,\n",
        " 77.80000000000001,\n",
        " 77.9,\n",
        " 78.0,\n",
        " 78.10000000000001,\n",
        " 78.2,\n",
        " 78.30000000000001,\n",
        " 78.4,\n",
        " 78.5,\n",
        " 78.60000000000001,\n",
        " 78.7,\n",
        " 78.80000000000001,\n",
        " 78.9,\n",
        " 79.0,\n",
        " 79.10000000000001,\n",
        " 79.2,\n",
        " 79.30000000000001,\n",
        " 79.4,\n",
        " 79.5,\n",
        " 79.60000000000001,\n",
        " 79.7,\n",
        " 79.80000000000001,\n",
        " 79.9,\n",
        " 80.0,\n",
        " 80.10000000000001,\n",
        " 80.2,\n",
        " 80.30000000000001,\n",
        " 80.4,\n",
        " 80.5,\n",
        " 80.60000000000001,\n",
        " 80.7,\n",
        " 80.80000000000001,\n",
        " 80.9,\n",
        " 81.0,\n",
        " 81.10000000000001,\n",
        " 81.2,\n",
        " 81.30000000000001,\n",
        " 81.4,\n",
        " 81.5,\n",
        " 81.60000000000001,\n",
        " 81.7,\n",
        " 81.80000000000001,\n",
        " 81.9,\n",
        " 82.0,\n",
        " 82.10000000000001,\n",
        " 82.2,\n",
        " 82.30000000000001,\n",
        " 82.4,\n",
        " 82.5,\n",
        " 82.60000000000001,\n",
        " 82.7,\n",
        " 82.80000000000001,\n",
        " 82.9,\n",
        " 83.0,\n",
        " 83.10000000000001,\n",
        " 83.2,\n",
        " 83.30000000000001,\n",
        " 83.4,\n",
        " 83.5,\n",
        " 83.60000000000001,\n",
        " 83.7,\n",
        " 83.80000000000001,\n",
        " 83.9,\n",
        " 84.0,\n",
        " 84.10000000000001,\n",
        " 84.2,\n",
        " 84.30000000000001,\n",
        " 84.4,\n",
        " 84.5,\n",
        " 84.60000000000001,\n",
        " 84.7,\n",
        " 84.80000000000001,\n",
        " 84.9,\n",
        " 85.0,\n",
        " 85.10000000000001,\n",
        " 85.2,\n",
        " 85.30000000000001,\n",
        " 85.4,\n",
        " 85.5,\n",
        " 85.60000000000001,\n",
        " 85.7,\n",
        " 85.80000000000001,\n",
        " 85.9,\n",
        " 86.0,\n",
        " 86.10000000000001,\n",
        " 86.2,\n",
        " 86.30000000000001,\n",
        " 86.4,\n",
        " 86.5,\n",
        " 86.60000000000001,\n",
        " 86.7,\n",
        " 86.80000000000001,\n",
        " 86.9,\n",
        " 87.0,\n",
        " 87.10000000000001,\n",
        " 87.2,\n",
        " 87.30000000000001,\n",
        " 87.4,\n",
        " 87.5,\n",
        " 87.60000000000001,\n",
        " 87.7,\n",
        " 87.80000000000001,\n",
        " 87.9,\n",
        " 88.0,\n",
        " 88.10000000000001,\n",
        " 88.2,\n",
        " 88.30000000000001,\n",
        " 88.4,\n",
        " 88.5,\n",
        " 88.60000000000001,\n",
        " 88.7,\n",
        " 88.80000000000001,\n",
        " 88.9,\n",
        " 89.0,\n",
        " 89.10000000000001,\n",
        " 89.2,\n",
        " 89.30000000000001,\n",
        " 89.4,\n",
        " 89.5,\n",
        " 89.60000000000001,\n",
        " 89.7,\n",
        " 89.80000000000001,\n",
        " 89.9,\n",
        " 90.0,\n",
        " 90.10000000000001,\n",
        " 90.2,\n",
        " 90.30000000000001,\n",
        " 90.4,\n",
        " 90.5,\n",
        " 90.60000000000001,\n",
        " 90.7,\n",
        " 90.80000000000001,\n",
        " 90.9,\n",
        " 91.0,\n",
        " 91.10000000000001,\n",
        " 91.2,\n",
        " 91.30000000000001,\n",
        " 91.4,\n",
        " 91.5,\n",
        " 91.60000000000001,\n",
        " 91.7,\n",
        " 91.80000000000001,\n",
        " 91.9,\n",
        " 92.0,\n",
        " 92.10000000000001,\n",
        " 92.2,\n",
        " 92.30000000000001,\n",
        " 92.4,\n",
        " 92.5,\n",
        " 92.60000000000001,\n",
        " 92.7,\n",
        " 92.80000000000001,\n",
        " 92.9,\n",
        " 93.0,\n",
        " 93.10000000000001,\n",
        " 93.2,\n",
        " 93.30000000000001,\n",
        " 93.4,\n",
        " 93.5,\n",
        " 93.60000000000001,\n",
        " 93.7,\n",
        " 93.80000000000001,\n",
        " 93.9,\n",
        " 94.0,\n",
        " 94.10000000000001,\n",
        " 94.2,\n",
        " 94.30000000000001,\n",
        " 94.4,\n",
        " 94.5,\n",
        " 94.60000000000001,\n",
        " 94.7,\n",
        " 94.80000000000001,\n",
        " 94.9,\n",
        " 95.0,\n",
        " 95.10000000000001,\n",
        " 95.2,\n",
        " 95.30000000000001,\n",
        " 95.4,\n",
        " 95.5,\n",
        " 95.60000000000001,\n",
        " 95.7,\n",
        " 95.80000000000001,\n",
        " 95.9,\n",
        " 96.0,\n",
        " 96.10000000000001,\n",
        " 96.2,\n",
        " 96.30000000000001,\n",
        " 96.4,\n",
        " 96.5,\n",
        " 96.60000000000001,\n",
        " 96.7,\n",
        " 96.80000000000001,\n",
        " 96.9,\n",
        " 97.0,\n",
        " 97.10000000000001,\n",
        " 97.2,\n",
        " 97.30000000000001,\n",
        " 97.4,\n",
        " 97.5,\n",
        " 97.60000000000001,\n",
        " 97.7,\n",
        " 97.80000000000001,\n",
        " 97.9,\n",
        " 98.0,\n",
        " 98.10000000000001,\n",
        " 98.2,\n",
        " 98.30000000000001,\n",
        " 98.4,\n",
        " 98.5,\n",
        " 98.60000000000001,\n",
        " 98.7,\n",
        " 98.80000000000001,\n",
        " 98.9,\n",
        " 99.0,\n",
        " 99.10000000000001,\n",
        " 99.2,\n",
        " 99.30000000000001,\n",
        " 99.4,\n",
        " 99.5,\n",
        " 99.60000000000001,\n",
        " 99.7,\n",
        " 99.80000000000001,\n",
        " 99.9,\n",
        " ...]"
       ]
      }
     ],
     "prompt_number": 32
    },
    {
     "cell_type": "code",
     "collapsed": false,
     "input": [
      "np.arange(0, 1000, .1)    # arange es igual a range, pero soporta paso de tipo flotante"
     ],
     "language": "python",
     "metadata": {},
     "outputs": [
      {
       "metadata": {},
       "output_type": "pyout",
       "prompt_number": 33,
       "text": [
        "array([  0.00000000e+00,   1.00000000e-01,   2.00000000e-01, ...,\n",
        "         9.99700000e+02,   9.99800000e+02,   9.99900000e+02])"
       ]
      }
     ],
     "prompt_number": 33
    },
    {
     "cell_type": "markdown",
     "metadata": {},
     "source": [
      "Existen varias formas para inicializar nuevos arreglos de numpy, por ejemplo desde\n",
      "\n",
      "- Listas o tuplas\n",
      "- Usando funciones dedicadas a generar arreglos numpy, como `arange`, `linspace`,`ones`, `zeros` etc.\n",
      "- Leyendo datos desde archivos"
     ]
    },
    {
     "cell_type": "code",
     "collapsed": false,
     "input": [
      "v = np.array([1,2,3,4])\n",
      "v"
     ],
     "language": "python",
     "metadata": {},
     "outputs": [
      {
       "metadata": {},
       "output_type": "pyout",
       "prompt_number": 35,
       "text": [
        "array([1, 2, 3, 4])"
       ]
      }
     ],
     "prompt_number": 35
    },
    {
     "cell_type": "code",
     "collapsed": false,
     "input": [
      "# una matriz: el argumento de la funci\u00f3n array function es una lista anidada de Python\n",
      "M = np.array([[1, 2], \n",
      "              [3, 4]])\n",
      "M"
     ],
     "language": "python",
     "metadata": {},
     "outputs": [
      {
       "metadata": {},
       "output_type": "pyout",
       "prompt_number": 37,
       "text": [
        "array([[1, 2],\n",
        "       [3, 4]])"
       ]
      }
     ],
     "prompt_number": 37
    },
    {
     "cell_type": "code",
     "collapsed": false,
     "input": [
      "type(v), type(M)"
     ],
     "language": "python",
     "metadata": {},
     "outputs": [
      {
       "metadata": {},
       "output_type": "pyout",
       "prompt_number": 39,
       "text": [
        "(numpy.ndarray, numpy.ndarray)"
       ]
      }
     ],
     "prompt_number": 39
    },
    {
     "cell_type": "markdown",
     "metadata": {},
     "source": [
      "Los ndarrays tienen distintos atributos. Por ejemplo"
     ]
    },
    {
     "cell_type": "code",
     "collapsed": false,
     "input": [
      "v.ndim, M.ndim    # cantidad de dimensiones"
     ],
     "language": "python",
     "metadata": {},
     "outputs": [
      {
       "metadata": {},
       "output_type": "pyout",
       "prompt_number": 40,
       "text": [
        "(1, 2)"
       ]
      }
     ],
     "prompt_number": 40
    },
    {
     "cell_type": "code",
     "collapsed": false,
     "input": [
      "v.shape, M.shape  # tupla de \"forma\". len(v.shape) == v.ndim"
     ],
     "language": "python",
     "metadata": {},
     "outputs": [
      {
       "metadata": {},
       "output_type": "pyout",
       "prompt_number": 45,
       "text": [
        "((4,), (2, 2))"
       ]
      }
     ],
     "prompt_number": 45
    },
    {
     "cell_type": "code",
     "collapsed": false,
     "input": [
      "v.size, M.size   # cantidad de elementos. "
     ],
     "language": "python",
     "metadata": {},
     "outputs": [
      {
       "metadata": {},
       "output_type": "pyout",
       "prompt_number": 47,
       "text": [
        "(4, 4)"
       ]
      }
     ],
     "prompt_number": 47
    },
    {
     "cell_type": "code",
     "collapsed": false,
     "input": [
      "M.T   # transpuesta!\n",
      "v.T"
     ],
     "language": "python",
     "metadata": {},
     "outputs": [
      {
       "metadata": {},
       "output_type": "pyout",
       "prompt_number": 53,
       "text": [
        "array([1, 2, 3, 4])"
       ]
      }
     ],
     "prompt_number": 53
    },
    {
     "cell_type": "markdown",
     "metadata": {},
     "source": [
      "A diferencia de las listas, los *arrays* tambien **tienen un tipo homog\u00e9neo** "
     ]
    },
    {
     "cell_type": "code",
     "collapsed": false,
     "input": [
      "v.dtype     # "
     ],
     "language": "python",
     "metadata": {},
     "outputs": [
      {
       "metadata": {},
       "output_type": "pyout",
       "prompt_number": 54,
       "text": [
        "dtype('int64')"
       ]
      }
     ],
     "prompt_number": 54
    },
    {
     "cell_type": "markdown",
     "metadata": {},
     "source": [
      "Se puede definir explicitamente el tipo de datos del array"
     ]
    },
    {
     "cell_type": "code",
     "collapsed": false,
     "input": [
      "np.array([[1, 2], [3, 4]], dtype=complex)"
     ],
     "language": "python",
     "metadata": {},
     "outputs": []
    },
    {
     "cell_type": "markdown",
     "metadata": {},
     "source": [
      "Una gran ventaja del atributo `shape` es que podemos cambiarlo. Es decir, reacomodar la distruci\u00f3n de los elementos (por supuesto, sin perderlos en el camino)"
     ]
    },
    {
     "cell_type": "code",
     "collapsed": false,
     "input": [
      "A = np.arange(0, 12)\n",
      "print(A)"
     ],
     "language": "python",
     "metadata": {},
     "outputs": [
      {
       "output_type": "stream",
       "stream": "stdout",
       "text": [
        "[ 0  1  2  3  4  5  6  7  8  9 10 11]\n"
       ]
      }
     ],
     "prompt_number": 57
    },
    {
     "cell_type": "code",
     "collapsed": false,
     "input": [
      "A.shape = 3, 2, 1\n",
      "print(A)"
     ],
     "language": "python",
     "metadata": {},
     "outputs": [
      {
       "ename": "ValueError",
       "evalue": "total size of new array must be unchanged",
       "output_type": "pyerr",
       "traceback": [
        "\u001b[1;31m---------------------------------------------------------------------------\u001b[0m\n\u001b[1;31mValueError\u001b[0m                                Traceback (most recent call last)",
        "\u001b[1;32m<ipython-input-67-f337a4c4d3a0>\u001b[0m in \u001b[0;36m<module>\u001b[1;34m()\u001b[0m\n\u001b[1;32m----> 1\u001b[1;33m \u001b[0mA\u001b[0m\u001b[1;33m.\u001b[0m\u001b[0mshape\u001b[0m \u001b[1;33m=\u001b[0m \u001b[1;36m3\u001b[0m\u001b[1;33m,\u001b[0m \u001b[1;36m2\u001b[0m\u001b[1;33m,\u001b[0m \u001b[1;36m1\u001b[0m\u001b[1;33m\u001b[0m\u001b[0m\n\u001b[0m\u001b[0;32m      2\u001b[0m \u001b[0mprint\u001b[0m\u001b[1;33m(\u001b[0m\u001b[0mA\u001b[0m\u001b[1;33m)\u001b[0m\u001b[1;33m\u001b[0m\u001b[0m\n",
        "\u001b[1;31mValueError\u001b[0m: total size of new array must be unchanged"
       ]
      }
     ],
     "prompt_number": 67
    },
    {
     "cell_type": "markdown",
     "metadata": {},
     "source": [
      "Esto es porque numpy en general no mueve los elementos de la memoria y en cambio usa **vistas** para mostrar los elementos de distinta forma. Es importante entender esto porque incluso los slicings son vistas. "
     ]
    },
    {
     "cell_type": "code",
     "collapsed": false,
     "input": [
      "a = np.arange(10)\n",
      "b = a[::2]  # todo de 2 en 2\n",
      "b"
     ],
     "language": "python",
     "metadata": {},
     "outputs": [
      {
       "metadata": {},
       "output_type": "pyout",
       "prompt_number": 85,
       "text": [
        "array([0, 2, 4, 6, 8])"
       ]
      }
     ],
     "prompt_number": 85
    },
    {
     "cell_type": "code",
     "collapsed": false,
     "input": [
      "b[0] = 12\n",
      "a  # chan!!!"
     ],
     "language": "python",
     "metadata": {},
     "outputs": [
      {
       "metadata": {},
       "output_type": "pyout",
       "prompt_number": 88,
       "text": [
        "array([ 0,  1, 12,  3,  4,  5,  6,  7,  8,  9])"
       ]
      }
     ],
     "prompt_number": 88
    },
    {
     "cell_type": "markdown",
     "metadata": {},
     "source": [
      "En cambio"
     ]
    },
    {
     "cell_type": "code",
     "collapsed": false,
     "input": [
      "a = np.arange(10)\n",
      "b = a[::2].copy()\n",
      "b[0] = 12\n",
      "a"
     ],
     "language": "python",
     "metadata": {},
     "outputs": [
      {
       "metadata": {},
       "output_type": "pyout",
       "prompt_number": 91,
       "text": [
        "array([0, 1, 2, 3, 4, 5, 6, 7, 8, 9])"
       ]
      }
     ],
     "prompt_number": 91
    },
    {
     "cell_type": "markdown",
     "metadata": {},
     "source": [
      "Adem\u00e1s de `arange` hay otras funciones que devuelven arrays. Por ejemplo `linspace`, que a diferencia de `arange` no se da el tama\u00f1o del paso, sino la cantidad de puntos que queremos en el rango"
     ]
    },
    {
     "cell_type": "code",
     "collapsed": false,
     "input": [
      "np.linspace(0, 2 * np.pi, 100)      # por defecto, incluye el limite. "
     ],
     "language": "python",
     "metadata": {},
     "outputs": [
      {
       "metadata": {},
       "output_type": "pyout",
       "prompt_number": 96,
       "text": [
        "array([ 0.        ,  0.06346652,  0.12693304,  0.19039955,  0.25386607,\n",
        "        0.31733259,  0.38079911,  0.44426563,  0.50773215,  0.57119866,\n",
        "        0.63466518,  0.6981317 ,  0.76159822,  0.82506474,  0.88853126,\n",
        "        0.95199777,  1.01546429,  1.07893081,  1.14239733,  1.20586385,\n",
        "        1.26933037,  1.33279688,  1.3962634 ,  1.45972992,  1.52319644,\n",
        "        1.58666296,  1.65012947,  1.71359599,  1.77706251,  1.84052903,\n",
        "        1.90399555,  1.96746207,  2.03092858,  2.0943951 ,  2.15786162,\n",
        "        2.22132814,  2.28479466,  2.34826118,  2.41172769,  2.47519421,\n",
        "        2.53866073,  2.60212725,  2.66559377,  2.72906028,  2.7925268 ,\n",
        "        2.85599332,  2.91945984,  2.98292636,  3.04639288,  3.10985939,\n",
        "        3.17332591,  3.23679243,  3.30025895,  3.36372547,  3.42719199,\n",
        "        3.4906585 ,  3.55412502,  3.61759154,  3.68105806,  3.74452458,\n",
        "        3.8079911 ,  3.87145761,  3.93492413,  3.99839065,  4.06185717,\n",
        "        4.12532369,  4.1887902 ,  4.25225672,  4.31572324,  4.37918976,\n",
        "        4.44265628,  4.5061228 ,  4.56958931,  4.63305583,  4.69652235,\n",
        "        4.75998887,  4.82345539,  4.88692191,  4.95038842,  5.01385494,\n",
        "        5.07732146,  5.14078798,  5.2042545 ,  5.26772102,  5.33118753,\n",
        "        5.39465405,  5.45812057,  5.52158709,  5.58505361,  5.64852012,\n",
        "        5.71198664,  5.77545316,  5.83891968,  5.9023862 ,  5.96585272,\n",
        "        6.02931923,  6.09278575,  6.15625227,  6.21971879,  6.28318531])"
       ]
      }
     ],
     "prompt_number": 96
    },
    {
     "cell_type": "code",
     "collapsed": false,
     "input": [
      "_.size   # en cualquier consola, python guarda el ultimo output en la variable _ "
     ],
     "language": "python",
     "metadata": {},
     "outputs": []
    },
    {
     "cell_type": "code",
     "collapsed": false,
     "input": [
      "matriz_de_ceros = np.ones((100,3, 4))\n",
      "matriz_de_ceros"
     ],
     "language": "python",
     "metadata": {},
     "outputs": [
      {
       "metadata": {},
       "output_type": "pyout",
       "prompt_number": 105,
       "text": [
        "array([[[ 1.,  1.,  1.,  1.],\n",
        "        [ 1.,  1.,  1.,  1.],\n",
        "        [ 1.,  1.,  1.,  1.]],\n",
        "\n",
        "       [[ 1.,  1.,  1.,  1.],\n",
        "        [ 1.,  1.,  1.,  1.],\n",
        "        [ 1.,  1.,  1.,  1.]],\n",
        "\n",
        "       [[ 1.,  1.,  1.,  1.],\n",
        "        [ 1.,  1.,  1.,  1.],\n",
        "        [ 1.,  1.,  1.,  1.]],\n",
        "\n",
        "       ..., \n",
        "       [[ 1.,  1.,  1.,  1.],\n",
        "        [ 1.,  1.,  1.,  1.],\n",
        "        [ 1.,  1.,  1.,  1.]],\n",
        "\n",
        "       [[ 1.,  1.,  1.,  1.],\n",
        "        [ 1.,  1.,  1.,  1.],\n",
        "        [ 1.,  1.,  1.,  1.]],\n",
        "\n",
        "       [[ 1.,  1.,  1.,  1.],\n",
        "        [ 1.,  1.,  1.,  1.],\n",
        "        [ 1.,  1.,  1.,  1.]]])"
       ]
      }
     ],
     "prompt_number": 105
    },
    {
     "cell_type": "markdown",
     "metadata": {},
     "source": [
      "Pero numpy no s\u00f3lo nos brinda los arrays. Los conceptos claves que aporta son *vectorizaci\u00f3n* y *broadcasting*\n",
      "\n",
      "La **vectorizaci\u00f3n** describe la **ausencia de iteraciones expl\u00edcitas e indizaci\u00f3n**\n",
      "(que toman lugar, por supuesto, \"detr\u00e1s de escena\", en un optimizado y precompilado\n",
      "c\u00f3digo C). La vectorizaci\u00f3n tiene muchas ventajas:\n",
      "\n",
      "* El c\u00f3digo vectorizado es m\u00e1s conciso y f\u00e1cil de leer.\n",
      "* Menos l\u00edneas de c\u00f3digo habitualmente implican menos errores.\n",
      "* El c\u00f3digo se parece m\u00e1s a la notaci\u00f3n matem\u00e1tica est\u00e1ndar (por lo que es m\u00e1s f\u00e1cil,\n",
      "por lo general, corregir c\u00f3digo asociado a construcciones matem\u00e1ticas\n",
      "* La vectorizaci\u00f3n redunda en un c\u00f3digo m\u00e1s \"pyth\u00f3nico\""
     ]
    },
    {
     "cell_type": "code",
     "collapsed": false,
     "input": [
      "import numpy as np\n",
      "a = np.array([3, 4.3, 1])\n",
      "b = np.array([-1, 0, 3.4])\n",
      "c = a * b\n",
      "c"
     ],
     "language": "python",
     "metadata": {},
     "outputs": [
      {
       "metadata": {},
       "output_type": "pyout",
       "prompt_number": 11,
       "text": [
        "array([-3. ,  0. ,  3.4])"
       ]
      }
     ],
     "prompt_number": 11
    },
    {
     "cell_type": "code",
     "collapsed": false,
     "input": [
      "a + 10"
     ],
     "language": "python",
     "metadata": {},
     "outputs": [
      {
       "metadata": {},
       "output_type": "pyout",
       "prompt_number": 111,
       "text": [
        "array([ 13. ,  14.3,  11. ])"
       ]
      }
     ],
     "prompt_number": 111
    },
    {
     "cell_type": "markdown",
     "metadata": {},
     "source": [
      "\u00a1Basta de bucles `for` for todos lados! "
     ]
    },
    {
     "cell_type": "markdown",
     "metadata": {},
     "source": [
      "El **broadcasting** (*difusi\u00f3n*) es el t\u00e9rmino que describe el comportamiento\n",
      "**elemento por elemento** de las operaciones. En general, en Numpy todas\n",
      "las operaciones adoptan por defecto un comportamiento de este tipo (no s\u00f3lo las operaciones\n",
      "aritm\u00e9ticas sino las l\u00f3gicas, las funcionales y las de nivel de bits). "
     ]
    },
    {
     "cell_type": "code",
     "collapsed": false,
     "input": [
      "from \n",
      "\n",
      "x = np.linspace(-12, 12, 1000)\n",
      "y = x ** 2 - 1\n",
      "pyplot.plot(x, y)"
     ],
     "language": "python",
     "metadata": {},
     "outputs": [
      {
       "ename": "NameError",
       "evalue": "name 'pyplot' is not defined",
       "output_type": "pyerr",
       "traceback": [
        "\u001b[1;31m---------------------------------------------------------------------------\u001b[0m\n\u001b[1;31mNameError\u001b[0m                                 Traceback (most recent call last)",
        "\u001b[1;32m<ipython-input-12-0c6ee735711e>\u001b[0m in \u001b[0;36m<module>\u001b[1;34m()\u001b[0m\n\u001b[0;32m      1\u001b[0m \u001b[0mx\u001b[0m \u001b[1;33m=\u001b[0m \u001b[0mnp\u001b[0m\u001b[1;33m.\u001b[0m\u001b[0mlinspace\u001b[0m\u001b[1;33m(\u001b[0m\u001b[1;33m-\u001b[0m\u001b[1;36m12\u001b[0m\u001b[1;33m,\u001b[0m \u001b[1;36m12\u001b[0m\u001b[1;33m,\u001b[0m \u001b[1;36m1000\u001b[0m\u001b[1;33m)\u001b[0m\u001b[1;33m\u001b[0m\u001b[0m\n\u001b[0;32m      2\u001b[0m \u001b[0my\u001b[0m \u001b[1;33m=\u001b[0m \u001b[0mx\u001b[0m \u001b[1;33m**\u001b[0m \u001b[1;36m2\u001b[0m \u001b[1;33m-\u001b[0m \u001b[1;36m1\u001b[0m\u001b[1;33m\u001b[0m\u001b[0m\n\u001b[1;32m----> 3\u001b[1;33m \u001b[0mpyplot\u001b[0m\u001b[1;33m.\u001b[0m\u001b[0mplot\u001b[0m\u001b[1;33m(\u001b[0m\u001b[0mx\u001b[0m\u001b[1;33m,\u001b[0m \u001b[0my\u001b[0m\u001b[1;33m)\u001b[0m\u001b[1;33m\u001b[0m\u001b[0m\n\u001b[0m",
        "\u001b[1;31mNameError\u001b[0m: name 'pyplot' is not defined"
       ]
      }
     ],
     "prompt_number": 12
    },
    {
     "cell_type": "markdown",
     "metadata": {},
     "source": [
      "Matplotlib se lleva muy bien con numpy (de hecho lo usa internamente)"
     ]
    },
    {
     "cell_type": "markdown",
     "metadata": {},
     "source": [
      "### Slicing extendido\n",
      "\n",
      "El funcionamiento b\u00e1sico del indexado y el slicing funciona igual con `ndarrays` que con cualquier secuencia.  \n"
     ]
    },
    {
     "cell_type": "code",
     "collapsed": false,
     "input": [
      "una_lista = [1, 2, \"hola\"]"
     ],
     "language": "python",
     "metadata": {},
     "outputs": [],
     "prompt_number": 26
    },
    {
     "cell_type": "code",
     "collapsed": false,
     "input": [
      "import numpy as np"
     ],
     "language": "python",
     "metadata": {},
     "outputs": [],
     "prompt_number": 27
    },
    {
     "cell_type": "code",
     "collapsed": true,
     "input": [
      "ruido = np.random.random(1000)   # 1000 numeros aleatorios entre [0, 1)"
     ],
     "language": "python",
     "metadata": {},
     "outputs": [
      {
       "metadata": {},
       "output_type": "pyout",
       "prompt_number": 29,
       "text": [
        "array([  9.07232218e-01,   6.58779412e-01,   9.95602139e-01,\n",
        "         8.59222921e-01,   4.39121922e-01,   9.33142668e-01,\n",
        "         4.63219461e-01,   2.16692774e-01,   8.08539915e-01,\n",
        "         8.51813843e-01,   4.82983994e-01,   7.52484916e-02,\n",
        "         3.39802228e-02,   1.06483275e-01,   7.30816895e-01,\n",
        "         7.78362974e-01,   3.20294596e-01,   6.83123136e-01,\n",
        "         3.96934232e-01,   4.14795950e-01,   9.16478526e-01,\n",
        "         8.40412245e-01,   4.43636264e-01,   6.33724860e-01,\n",
        "         4.23578395e-01,   1.16502920e-01,   3.94617510e-01,\n",
        "         7.04877652e-01,   2.42338590e-01,   9.69947561e-02,\n",
        "         6.68027113e-01,   1.14991556e-01,   5.62634999e-01,\n",
        "         9.45330814e-01,   7.60341803e-01,   9.61876992e-01,\n",
        "         3.79898548e-01,   7.60293110e-01,   1.03844960e-01,\n",
        "         4.86078871e-01,   8.39930103e-01,   2.58485187e-01,\n",
        "         6.07798695e-01,   7.72384143e-01,   8.61591660e-02,\n",
        "         9.22878759e-01,   1.92077065e-01,   1.40062916e-01,\n",
        "         2.76790070e-01,   2.29012016e-01,   6.09826172e-01,\n",
        "         3.29699729e-01,   7.59156115e-01,   7.55962004e-01,\n",
        "         7.92801965e-01,   7.30172012e-01,   2.29156801e-01,\n",
        "         2.38145615e-01,   8.40932459e-01,   6.14342047e-01,\n",
        "         5.62294534e-01,   4.48379781e-01,   1.87671240e-01,\n",
        "         1.24382355e-02,   6.54384870e-01,   2.11387348e-01,\n",
        "         9.91113612e-01,   7.06178263e-01,   8.13664600e-01,\n",
        "         2.45944030e-01,   2.31504280e-01,   6.12969539e-01,\n",
        "         8.31291592e-01,   5.17075530e-01,   9.96548779e-01,\n",
        "         7.03603071e-01,   1.37614217e-02,   8.90262497e-02,\n",
        "         4.75751312e-01,   2.62576744e-01,   5.40232388e-03,\n",
        "         5.62194989e-01,   7.35896269e-01,   8.56230942e-01,\n",
        "         6.72463204e-01,   9.39079150e-01,   1.29151498e-01,\n",
        "         2.24516867e-01,   6.90637859e-01,   7.01050178e-01,\n",
        "         7.05160068e-01,   3.94269694e-01,   8.95487243e-01,\n",
        "         2.65502136e-02,   5.87962459e-01,   6.35407102e-01,\n",
        "         4.39571945e-01,   5.89014343e-01,   5.98128452e-01,\n",
        "         6.79967119e-01,   4.57087440e-01,   4.88426459e-01,\n",
        "         7.23102029e-01,   5.31417865e-01,   8.66654152e-01,\n",
        "         1.06082729e-01,   1.33058119e-01,   4.12410737e-01,\n",
        "         9.31330039e-01,   4.89390972e-01,   5.26228253e-01,\n",
        "         7.53616754e-01,   2.59008160e-01,   4.52398787e-01,\n",
        "         2.96482331e-01,   6.39393087e-01,   3.79415894e-02,\n",
        "         1.97077715e-02,   2.80500413e-01,   6.85679425e-01,\n",
        "         8.78113599e-01,   1.63725180e-01,   7.94897714e-01,\n",
        "         1.25238678e-01,   7.57218202e-01,   9.99856916e-01,\n",
        "         3.17510729e-01,   1.40647785e-01,   4.45129467e-01,\n",
        "         9.76257056e-01,   8.77055456e-01,   8.60344018e-01,\n",
        "         8.34672006e-01,   2.49280875e-02,   7.41625766e-01,\n",
        "         4.71145099e-01,   6.11211564e-01,   9.90625227e-01,\n",
        "         9.07392807e-01,   2.25736067e-01,   4.10288595e-01,\n",
        "         8.86515087e-01,   3.85787775e-01,   4.37529308e-01,\n",
        "         2.82298955e-01,   5.95055615e-01,   7.35106904e-01,\n",
        "         3.13432565e-01,   4.79408167e-01,   3.66867447e-01,\n",
        "         4.12254778e-03,   3.49375406e-01,   2.93889405e-01,\n",
        "         1.98142460e-01,   6.78994003e-01,   5.73317354e-01,\n",
        "         7.11047493e-01,   6.61024090e-01,   1.01743718e-01,\n",
        "         5.89786800e-01,   7.48007367e-03,   1.98657704e-01,\n",
        "         6.47282383e-01,   4.24643342e-01,   7.74622447e-01,\n",
        "         1.26192094e-01,   1.20497592e-01,   8.68696073e-02,\n",
        "         1.47331896e-01,   5.38814254e-01,   6.75085493e-01,\n",
        "         4.03212460e-01,   3.92121210e-01,   7.07104081e-02,\n",
        "         1.29467588e-01,   5.76169034e-01,   4.97307305e-01,\n",
        "         9.28413110e-02,   9.01500189e-01,   2.14444563e-01,\n",
        "         9.90004419e-01,   6.18143908e-01,   8.12940124e-01,\n",
        "         4.75112264e-01,   4.77544181e-01,   1.05864658e-01,\n",
        "         6.15999555e-02,   9.01146068e-02,   7.45970927e-01,\n",
        "         9.03885087e-01,   6.51112407e-01,   3.31120457e-01,\n",
        "         2.77132077e-01,   7.05116342e-01,   8.75144896e-01,\n",
        "         8.67757789e-01,   7.33380117e-01,   2.06515746e-02,\n",
        "         6.94514606e-01,   2.81828074e-01,   6.97534285e-01,\n",
        "         6.15201398e-01,   8.30933678e-01,   2.25783350e-01,\n",
        "         3.53881084e-01,   3.01334874e-01,   1.81022009e-01,\n",
        "         5.29657739e-01,   1.03175677e-02,   1.46474082e-01,\n",
        "         5.97290078e-01,   3.73218222e-01,   2.88756814e-01,\n",
        "         7.29975190e-01,   5.57632786e-01,   7.46347856e-01,\n",
        "         2.99796825e-01,   2.25191920e-01,   2.61466913e-02,\n",
        "         2.31610796e-01,   1.56530284e-01,   2.90254670e-01,\n",
        "         2.60226880e-01,   3.63152280e-01,   9.59958674e-03,\n",
        "         7.33348915e-01,   3.90438013e-02,   1.53334328e-01,\n",
        "         6.61937325e-01,   7.65382711e-01,   9.72497658e-01,\n",
        "         7.96919534e-02,   1.38092093e-01,   3.46731273e-01,\n",
        "         5.87472247e-01,   9.76850059e-01,   2.38437914e-01,\n",
        "         8.68276843e-01,   3.92111070e-01,   6.25398102e-01,\n",
        "         5.52175784e-01,   2.54931629e-01,   6.77399654e-01,\n",
        "         8.54188554e-01,   1.05463310e-02,   6.22204580e-01,\n",
        "         4.88577857e-01,   6.50550204e-01,   9.56219971e-01,\n",
        "         6.10505413e-01,   8.21248774e-01,   2.64963144e-01,\n",
        "         5.10317191e-01,   2.22354777e-01,   6.83861330e-01,\n",
        "         3.90448090e-01,   4.72423539e-01,   2.46102261e-01,\n",
        "         4.08280093e-01,   5.50417297e-01,   6.11733005e-01,\n",
        "         3.06755100e-01,   3.62045196e-01,   7.50704241e-01,\n",
        "         5.73795970e-01,   2.06616243e-01,   7.08109268e-01,\n",
        "         3.61514780e-01,   7.25450352e-01,   7.64291996e-01,\n",
        "         1.17685551e-01,   8.74749106e-01,   7.30347107e-01,\n",
        "         8.40951644e-01,   2.19921521e-01,   6.53333904e-01,\n",
        "         6.10285077e-01,   4.33834056e-01,   3.54982333e-01,\n",
        "         2.63562081e-01,   2.51950716e-01,   6.01217425e-01,\n",
        "         5.27728440e-01,   8.05120036e-01,   8.79301816e-01,\n",
        "         9.16053095e-01,   6.77212741e-01,   8.76891851e-01,\n",
        "         8.50783871e-01,   1.88594795e-01,   8.95346717e-01,\n",
        "         2.25899670e-01,   4.80967554e-02,   1.33982382e-01,\n",
        "         4.90527170e-02,   6.43518500e-01,   4.11138414e-01,\n",
        "         4.99330690e-01,   5.54732606e-01,   6.83049660e-01,\n",
        "         7.64137875e-01,   9.66219702e-01,   9.92497129e-01,\n",
        "         9.08264422e-01,   3.46489773e-01,   9.34942300e-01,\n",
        "         1.24087124e-01,   4.23571183e-01,   1.14355663e-01,\n",
        "         6.95157138e-01,   4.81698483e-01,   3.84806030e-01,\n",
        "         2.61350761e-01,   2.13559329e-01,   1.33552400e-01,\n",
        "         1.50949808e-01,   9.75976430e-01,   9.92418724e-01,\n",
        "         3.22301770e-01,   8.98097863e-01,   8.57765777e-01,\n",
        "         8.81034377e-01,   2.64793994e-01,   5.76238127e-01,\n",
        "         5.64197876e-01,   9.64764224e-02,   1.05369522e-01,\n",
        "         4.06004644e-01,   4.18909419e-01,   8.83012644e-01,\n",
        "         7.75892319e-01,   5.40689053e-01,   8.29723996e-01,\n",
        "         7.63082320e-02,   1.51928799e-01,   1.80060194e-01,\n",
        "         9.97815710e-01,   3.71672385e-01,   3.11120502e-01,\n",
        "         5.12746845e-01,   1.46768607e-01,   6.76524632e-01,\n",
        "         1.11312136e-02,   2.92156482e-01,   3.41494915e-01,\n",
        "         4.75281696e-01,   3.51935557e-01,   3.61964384e-02,\n",
        "         1.06096033e-01,   1.04171608e-01,   8.70771431e-01,\n",
        "         7.61047016e-01,   5.52571890e-01,   4.30858412e-01,\n",
        "         7.99236110e-01,   3.12789661e-01,   4.74543714e-01,\n",
        "         3.94498000e-03,   3.81118152e-01,   2.35542984e-01,\n",
        "         5.50981755e-01,   9.34436433e-02,   8.45653361e-01,\n",
        "         3.20067628e-01,   3.64900704e-02,   3.54652393e-01,\n",
        "         9.99573516e-01,   7.19135502e-01,   6.65865034e-01,\n",
        "         7.65174953e-01,   5.12020837e-01,   3.50401404e-01,\n",
        "         9.45708610e-01,   1.32261595e-01,   8.10945927e-02,\n",
        "         9.51854595e-01,   8.52263774e-01,   4.97937152e-02,\n",
        "         3.08503663e-01,   9.76994056e-02,   6.02961967e-01,\n",
        "         9.34301090e-01,   1.55264461e-01,   9.21525420e-01,\n",
        "         8.04506775e-02,   5.84722505e-01,   3.40347744e-01,\n",
        "         9.21702159e-01,   6.57350207e-01,   7.82800861e-01,\n",
        "         9.54578696e-01,   4.08591401e-01,   6.48210971e-01,\n",
        "         1.95780937e-01,   3.06163166e-01,   6.38791995e-01,\n",
        "         7.28141222e-01,   8.98237123e-01,   9.33983367e-01,\n",
        "         6.66853201e-01,   3.24739061e-01,   2.48110552e-01,\n",
        "         8.66352539e-01,   9.25986021e-01,   2.92466044e-01,\n",
        "         1.52752989e-02,   7.76142919e-01,   7.18997512e-01,\n",
        "         1.05173222e-01,   8.14369468e-01,   8.58296291e-01,\n",
        "         3.18720546e-01,   2.78035520e-01,   5.12418714e-01,\n",
        "         6.10560758e-01,   8.63714197e-01,   9.16989983e-01,\n",
        "         4.74986361e-01,   5.98100044e-01,   5.59606957e-01,\n",
        "         2.92317272e-01,   8.50294762e-01,   2.49602425e-01,\n",
        "         3.45446142e-01,   5.28884201e-01,   6.01346217e-01,\n",
        "         1.52149845e-02,   1.77802357e-02,   3.59294453e-01,\n",
        "         6.71183127e-01,   1.87477802e-01,   9.43688578e-02,\n",
        "         6.97729782e-01,   3.12178555e-01,   9.04013832e-01,\n",
        "         5.12292807e-01,   3.01546362e-01,   9.64407785e-01,\n",
        "         3.71974707e-01,   1.21065340e-01,   6.69683873e-01,\n",
        "         4.10232874e-01,   2.17690183e-01,   6.27222623e-01,\n",
        "         4.05573935e-01,   2.75913216e-01,   6.86128492e-01,\n",
        "         6.92059912e-01,   8.37444176e-01,   3.48991610e-01,\n",
        "         7.50820366e-01,   4.02692460e-01,   7.71315701e-01,\n",
        "         6.43350140e-01,   1.01162698e-01,   6.51339086e-01,\n",
        "         4.36470644e-01,   5.90903066e-01,   1.78428303e-01,\n",
        "         1.61058630e-01,   6.89051121e-01,   8.82464062e-01,\n",
        "         3.74365037e-01,   9.23492248e-01,   8.55894609e-01,\n",
        "         7.42043279e-01,   2.88061374e-02,   6.82585884e-01,\n",
        "         3.99085042e-01,   6.94257860e-01,   1.93015919e-01,\n",
        "         9.58108844e-01,   6.40613617e-01,   7.22260392e-02,\n",
        "         8.73703180e-01,   8.54959734e-01,   8.53338814e-01,\n",
        "         9.44735419e-01,   1.26006528e-01,   1.40071011e-01,\n",
        "         7.05027422e-01,   4.33768912e-03,   2.48921499e-01,\n",
        "         3.18064838e-02,   4.39311478e-01,   7.73124791e-01,\n",
        "         5.41278177e-02,   8.99496132e-01,   1.96427466e-01,\n",
        "         4.97725210e-01,   2.78736949e-01,   8.80127026e-01,\n",
        "         8.38637355e-01,   3.89458885e-01,   9.85988948e-01,\n",
        "         4.47932352e-01,   4.68073157e-01,   8.23557459e-01,\n",
        "         2.36254604e-01,   9.29630728e-01,   7.69206558e-01,\n",
        "         6.74890367e-01,   3.98848257e-03,   9.59553974e-02,\n",
        "         6.90481126e-01,   1.28527813e-02,   1.47858637e-01,\n",
        "         9.76879802e-01,   1.89151362e-01,   7.03668795e-02,\n",
        "         1.13463050e-01,   3.67741726e-01,   4.95366108e-01,\n",
        "         2.50961137e-01,   5.48095345e-01,   4.04357173e-01,\n",
        "         5.84101133e-01,   2.11999079e-01,   5.18665179e-01,\n",
        "         7.03378276e-01,   4.31142156e-01,   1.79157033e-01,\n",
        "         4.79127922e-01,   1.19947298e-01,   4.47177564e-01,\n",
        "         1.49634712e-01,   4.01920004e-01,   4.65289671e-01,\n",
        "         9.13569692e-01,   8.10825326e-02,   5.36204282e-01,\n",
        "         7.09900390e-01,   1.37455033e-01,   5.63781715e-01,\n",
        "         3.33469858e-01,   6.08069223e-01,   6.05691259e-01,\n",
        "         9.19695234e-02,   3.29661391e-01,   6.10140518e-01,\n",
        "         8.79108058e-01,   9.55514532e-01,   1.76884847e-02,\n",
        "         4.03454718e-01,   9.52495978e-01,   3.72375076e-01,\n",
        "         1.24258648e-01,   6.57807558e-01,   9.90236134e-01,\n",
        "         8.29590856e-01,   4.45346852e-01,   5.63292786e-03,\n",
        "         4.75002063e-01,   8.43990285e-01,   4.34190306e-01,\n",
        "         4.76953716e-01,   3.70644284e-01,   1.71031575e-01,\n",
        "         9.15592114e-01,   6.64483978e-01,   4.19539058e-01,\n",
        "         7.52249975e-01,   5.22939586e-01,   1.60843085e-01,\n",
        "         2.97002881e-01,   8.92372741e-01,   6.48599772e-01,\n",
        "         3.31319148e-01,   7.75799037e-01,   1.72318582e-01,\n",
        "         4.26116735e-01,   2.26667947e-01,   6.53565734e-03,\n",
        "         5.43705963e-01,   2.93137704e-01,   1.11254011e-01,\n",
        "         6.31227964e-01,   6.48547910e-01,   6.91788971e-01,\n",
        "         6.97849219e-01,   6.74988056e-02,   6.21451498e-01,\n",
        "         3.04218025e-01,   8.02264879e-01,   7.66771621e-01,\n",
        "         3.24113109e-01,   1.38087127e-01,   8.86250527e-01,\n",
        "         7.84167205e-01,   3.67978918e-01,   7.65319598e-01,\n",
        "         2.84795516e-02,   4.95494873e-01,   5.38040690e-01,\n",
        "         9.75709907e-01,   3.51521342e-01,   9.84471058e-01,\n",
        "         2.72933051e-01,   9.54295775e-01,   3.66658382e-01,\n",
        "         9.91201798e-02,   1.05459498e-01,   6.49863769e-01,\n",
        "         5.64780922e-01,   7.42966025e-01,   1.61700712e-01,\n",
        "         4.23666839e-01,   5.50140666e-01,   3.81628861e-01,\n",
        "         5.65779526e-01,   8.30447244e-01,   9.49605843e-01,\n",
        "         9.18411248e-01,   1.51153475e-01,   7.99953294e-01,\n",
        "         2.11881582e-01,   2.67018910e-01,   8.44022799e-01,\n",
        "         4.43191029e-01,   3.13993188e-01,   9.06240629e-01,\n",
        "         4.69520951e-01,   2.74820788e-01,   6.21073949e-01,\n",
        "         3.34668986e-01,   9.86849183e-01,   8.66624900e-01,\n",
        "         4.25794088e-01,   7.55920533e-01,   7.01812474e-01,\n",
        "         4.75419057e-01,   2.16053031e-01,   9.13573344e-01,\n",
        "         4.01063671e-01,   4.69495274e-01,   9.76126952e-01,\n",
        "         1.03186217e-01,   6.12440988e-01,   1.15739598e-01,\n",
        "         7.27421583e-01,   7.82227295e-01,   5.90888016e-01,\n",
        "         4.71827501e-01,   8.08769903e-01,   5.32029491e-01,\n",
        "         5.26211202e-01,   8.16552225e-01,   4.04127580e-01,\n",
        "         3.90384825e-01,   5.48686868e-01,   4.11553199e-01,\n",
        "         2.88814529e-01,   5.89904108e-01,   8.54034332e-01,\n",
        "         1.14150869e-01,   1.15207875e-01,   6.86121220e-02,\n",
        "         8.81084919e-01,   7.92297967e-01,   2.54426891e-01,\n",
        "         1.85220688e-01,   6.45745413e-01,   1.68553245e-01,\n",
        "         6.13166299e-01,   3.85363396e-02,   3.06995773e-01,\n",
        "         5.18073059e-01,   6.93863809e-01,   1.46231055e-01,\n",
        "         7.10128865e-01,   8.49386763e-01,   2.14601124e-01,\n",
        "         6.26846210e-01,   1.05125724e-01,   5.16835348e-01,\n",
        "         8.81860999e-01,   7.91443965e-01,   9.43549428e-02,\n",
        "         3.17481879e-01,   2.41657455e-01,   7.26807373e-01,\n",
        "         1.22644026e-01,   7.63104205e-01,   3.40475842e-01,\n",
        "         8.98235049e-01,   3.64798947e-02,   5.38068476e-01,\n",
        "         4.82501670e-01,   8.61960675e-01,   5.25354722e-01,\n",
        "         1.40324516e-01,   4.18865492e-01,   2.06542553e-01,\n",
        "         5.89074142e-01,   5.89620232e-02,   9.66273635e-02,\n",
        "         4.12720684e-01,   2.53318968e-01,   7.76695997e-01,\n",
        "         8.16200091e-01,   1.03198802e-01,   2.43585573e-01,\n",
        "         9.22178460e-01,   4.58725875e-01,   8.94957854e-01,\n",
        "         8.18072746e-02,   2.48058727e-01,   7.29805245e-01,\n",
        "         9.68447155e-01,   3.84702167e-01,   3.79066577e-01,\n",
        "         1.46985030e-02,   9.41250865e-01,   5.52451008e-01,\n",
        "         6.26416102e-01,   2.49574889e-01,   3.60058837e-01,\n",
        "         1.80681911e-01,   8.07031866e-02,   4.97931834e-01,\n",
        "         2.53734106e-01,   5.50795974e-01,   5.87769796e-01,\n",
        "         3.49465222e-01,   4.61580764e-01,   9.00795658e-01,\n",
        "         5.83703854e-01,   3.67483123e-01,   3.19234972e-01,\n",
        "         9.45268040e-01,   1.79630423e-02,   1.08540259e-01,\n",
        "         4.19009033e-01,   7.08886335e-01,   8.99105164e-01,\n",
        "         8.83321021e-01,   2.38926271e-01,   2.55209220e-01,\n",
        "         5.91390621e-01,   6.43650596e-01,   5.28751179e-01,\n",
        "         6.56426406e-01,   8.02276255e-01,   7.51194167e-02,\n",
        "         4.86936787e-01,   7.34823559e-01,   9.50361980e-01,\n",
        "         5.82130389e-01,   3.06371253e-01,   1.02078209e-02,\n",
        "         2.60990896e-01,   5.06576665e-01,   8.02873893e-01,\n",
        "         1.74438869e-01,   7.12203820e-01,   7.91388993e-01,\n",
        "         2.11162540e-01,   4.62585011e-02,   6.14215459e-01,\n",
        "         3.94956217e-01,   7.86885773e-01,   1.53010162e-01,\n",
        "         4.33844271e-01,   8.11334684e-01,   5.30179966e-01,\n",
        "         6.44027070e-01,   4.52026018e-01,   8.90144986e-01,\n",
        "         1.70603369e-02,   6.18235698e-01,   9.08244168e-02,\n",
        "         6.95496885e-01,   3.93652640e-01,   2.14716942e-01,\n",
        "         5.71073933e-01,   9.77222617e-01,   5.73726278e-02,\n",
        "         9.47690190e-01,   1.94333478e-01,   1.39070631e-01,\n",
        "         2.24605101e-01,   2.90529655e-01,   8.33211017e-01,\n",
        "         5.46057809e-01,   3.68536397e-01,   3.57377999e-01,\n",
        "         3.85710376e-01,   3.82726416e-01,   2.47498929e-01,\n",
        "         5.62814787e-01,   9.05921108e-02,   4.88258560e-01,\n",
        "         6.31823751e-01,   1.57464829e-01,   8.29790076e-01,\n",
        "         4.75900869e-01,   1.87273282e-02,   4.23043688e-01,\n",
        "         9.08017256e-02,   8.54558575e-01,   6.13560115e-01,\n",
        "         7.85973003e-01,   5.32290718e-01,   7.28484416e-02,\n",
        "         9.50814448e-01,   4.09272132e-01,   3.02352305e-02,\n",
        "         9.46680715e-01,   6.14723385e-01,   2.18592058e-01,\n",
        "         9.06150983e-01,   7.88624326e-01,   8.17461581e-01,\n",
        "         1.73299914e-01,   9.41899204e-01,   6.99912789e-01,\n",
        "         6.99623922e-01,   2.82258512e-01,   3.30610353e-01,\n",
        "         5.77037833e-01,   8.01690672e-01,   2.03490971e-03,\n",
        "         1.29943493e-01,   4.57272207e-01,   2.30533856e-01,\n",
        "         3.96213732e-01,   3.93431985e-01,   9.44064367e-01,\n",
        "         2.49097121e-02,   5.78344665e-01,   2.03951191e-01,\n",
        "         6.55816311e-01,   8.30792588e-01,   7.32258422e-01,\n",
        "         5.01481698e-01,   6.81864109e-01,   5.52532822e-01,\n",
        "         2.07985677e-01,   3.44196553e-01,   3.82409211e-01,\n",
        "         6.97979395e-01,   9.79172757e-01,   8.41431001e-01,\n",
        "         5.38885433e-01,   8.71394589e-01,   2.01136912e-01,\n",
        "         6.37898789e-01,   1.47229019e-01,   3.33934085e-02,\n",
        "         3.10555347e-01,   6.53631020e-01,   8.08304813e-01,\n",
        "         5.56799954e-02,   9.91764090e-01,   6.86744677e-02,\n",
        "         1.10900460e-01,   5.40662421e-02,   9.35521513e-01,\n",
        "         9.52412185e-01,   7.96957390e-01,   1.21579935e-01,\n",
        "         5.10656426e-01,   3.83450000e-01,   9.84536083e-01,\n",
        "         4.39346654e-01,   5.61320168e-01,   3.59674228e-02,\n",
        "         4.51995120e-01,   1.39670825e-01,   6.55543835e-02,\n",
        "         7.20673055e-04,   7.30635566e-01,   1.57355974e-01,\n",
        "         4.58018222e-01,   1.56976029e-01,   5.08723837e-01,\n",
        "         4.92906060e-01,   7.61682200e-01,   2.31414606e-01,\n",
        "         6.47252858e-01,   4.31541239e-01,   7.79252459e-01,\n",
        "         6.86877097e-01,   9.27910246e-01,   4.91680464e-01,\n",
        "         7.97697734e-01,   7.73019956e-01,   9.27869804e-01,\n",
        "         1.41483438e-01,   8.28767695e-01,   9.28561064e-01,\n",
        "         1.18741634e-01,   8.08568619e-01,   2.87988699e-01,\n",
        "         3.98080513e-01,   4.26296038e-01,   9.20836675e-01,\n",
        "         1.11482905e-01,   3.53976379e-01,   5.74476231e-01,\n",
        "         4.18432583e-01,   5.71309362e-01,   3.75585857e-01,\n",
        "         3.44089866e-01,   5.64828566e-01,   4.42151039e-02,\n",
        "         5.14659447e-01,   4.34612488e-01,   6.87673696e-01,\n",
        "         2.19148177e-01,   6.58423988e-01,   9.62850025e-01,\n",
        "         8.81105946e-01,   8.39764067e-01,   1.15662995e-01,\n",
        "         8.98753220e-01,   4.41526875e-01,   9.59603773e-01,\n",
        "         2.76729141e-01,   7.45079664e-01,   1.49609459e-02,\n",
        "         7.81547446e-01,   7.56013097e-02,   4.28831751e-01,\n",
        "         7.24982603e-01,   2.05714827e-01,   3.79475623e-01,\n",
        "         1.99593678e-01,   8.68399371e-01,   9.37315991e-01,\n",
        "         1.35034044e-01,   8.50291193e-01,   7.34692721e-01,\n",
        "         6.82042718e-01,   7.46004102e-02,   3.62097155e-01,\n",
        "         1.44739400e-01,   3.38146843e-01,   5.79889146e-01,\n",
        "         1.65460154e-01,   1.41266644e-01,   3.01485344e-01,\n",
        "         1.48576515e-01,   2.25658271e-01,   2.35285905e-01,\n",
        "         4.79923685e-01,   2.65696137e-01,   6.93771843e-01,\n",
        "         9.56975541e-01,   8.28048719e-01,   4.25943790e-01,\n",
        "         5.85737793e-01,   4.16395189e-01,   3.23353532e-01,\n",
        "         7.75104649e-01,   6.30641649e-01,   8.74655856e-01,\n",
        "         7.78994878e-01,   6.35360593e-01,   5.40522455e-01,\n",
        "         6.99179898e-01,   3.35034710e-01,   5.45711643e-01,\n",
        "         8.14972041e-01,   6.80587133e-01,   9.66395555e-01,\n",
        "         9.26673442e-01,   2.66999307e-01,   6.44241601e-01,\n",
        "         3.85618129e-01,   1.77388829e-01,   8.03459636e-01,\n",
        "         6.99195612e-02,   7.03171315e-01,   7.80332172e-01,\n",
        "         8.31835633e-01,   9.56210399e-01,   3.05343071e-01,\n",
        "         7.43468592e-01,   3.20880834e-01,   6.25745715e-01,\n",
        "         6.89464957e-01,   8.14464504e-02,   7.79858989e-01,\n",
        "         7.71623585e-01,   5.21236684e-01,   9.99745594e-01,\n",
        "         7.25040833e-01,   2.93037569e-02,   3.85180519e-01,\n",
        "         6.03648475e-01,   8.00244838e-01,   6.44002446e-01,\n",
        "         5.71536015e-01,   9.47504676e-01,   1.28017420e-01,\n",
        "         3.27285255e-01,   6.43068044e-01,   8.86709318e-01,\n",
        "         1.44237938e-01])"
       ]
      }
     ],
     "prompt_number": 29
    },
    {
     "cell_type": "code",
     "collapsed": false,
     "input": [
      "ruido[0] == ruido[-1000]"
     ],
     "language": "python",
     "metadata": {},
     "outputs": [
      {
       "metadata": {},
       "output_type": "pyout",
       "prompt_number": 30,
       "text": [
        "True"
       ]
      }
     ],
     "prompt_number": 30
    },
    {
     "cell_type": "code",
     "collapsed": false,
     "input": [
      "ruido[999] == ruido[-1]"
     ],
     "language": "python",
     "metadata": {},
     "outputs": [
      {
       "metadata": {},
       "output_type": "pyout",
       "prompt_number": 31,
       "text": [
        "True"
       ]
      }
     ],
     "prompt_number": 31
    },
    {
     "cell_type": "code",
     "collapsed": false,
     "input": [
      "ruido[1:5]"
     ],
     "language": "python",
     "metadata": {},
     "outputs": [
      {
       "metadata": {},
       "output_type": "pyout",
       "prompt_number": 32,
       "text": [
        "array([ 0.65877941,  0.99560214,  0.85922292,  0.43912192])"
       ]
      }
     ],
     "prompt_number": 32
    },
    {
     "cell_type": "code",
     "collapsed": false,
     "input": [
      "ruido[0:10] = np.zeros((10,))  # claro que los arrays son mutables!"
     ],
     "language": "python",
     "metadata": {},
     "outputs": [],
     "prompt_number": 33
    },
    {
     "cell_type": "markdown",
     "metadata": {},
     "source": [
      "Pero veamos algo m\u00e1s. Supongamos que tenemos una matriz de 3x3"
     ]
    },
    {
     "cell_type": "code",
     "collapsed": false,
     "input": [
      "m = np.arange(0, 9)  \n",
      "m.shape = 3, 3\n",
      "m"
     ],
     "language": "python",
     "metadata": {},
     "outputs": [
      {
       "metadata": {},
       "output_type": "pyout",
       "prompt_number": 34,
       "text": [
        "array([[0, 1, 2],\n",
        "       [3, 4, 5],\n",
        "       [6, 7, 8]])"
       ]
      }
     ],
     "prompt_number": 34
    },
    {
     "cell_type": "code",
     "collapsed": false,
     "input": [
      "m[0]       # primer indice: filas"
     ],
     "language": "python",
     "metadata": {},
     "outputs": [
      {
       "metadata": {},
       "output_type": "pyout",
       "prompt_number": 35,
       "text": [
        "array([0, 1, 2])"
       ]
      }
     ],
     "prompt_number": 35
    },
    {
     "cell_type": "code",
     "collapsed": false,
     "input": [
      "m[0:2]"
     ],
     "language": "python",
     "metadata": {},
     "outputs": [
      {
       "metadata": {},
       "output_type": "pyout",
       "prompt_number": 37,
       "text": [
        "array([[0, 1, 2],\n",
        "       [3, 4, 5]])"
       ]
      }
     ],
     "prompt_number": 37
    },
    {
     "cell_type": "markdown",
     "metadata": {},
     "source": [
      "Pero la sintaxis se extiende de una manera eficiente y compacta.\n",
      "\n"
     ]
    },
    {
     "cell_type": "code",
     "collapsed": false,
     "input": [
      "%timeit m[0][0]      # buuuuh!!!"
     ],
     "language": "python",
     "metadata": {},
     "outputs": [
      {
       "output_type": "stream",
       "stream": "stdout",
       "text": [
        "1000000 loops, best of 3: 243 ns per loop\n"
       ]
      }
     ],
     "prompt_number": 42
    },
    {
     "cell_type": "code",
     "collapsed": false,
     "input": [
      "%timeit m[0,0]    # yeaaaa!!!"
     ],
     "language": "python",
     "metadata": {},
     "outputs": [
      {
       "output_type": "stream",
       "stream": "stdout",
       "text": [
        "10000000 loops, best of 3: 108 ns per loop\n"
       ]
      }
     ],
     "prompt_number": 43
    },
    {
     "cell_type": "code",
     "collapsed": false,
     "input": [
      "col = m[:,0]      # quiero la primer columna\n",
      "col.shape\n",
      "col.shape = (3,"
     ],
     "language": "python",
     "metadata": {},
     "outputs": [],
     "prompt_number": 51
    },
    {
     "cell_type": "code",
     "collapsed": false,
     "input": [
      "m[0:2, 0:2]   # la submatriz superior izquierda de 2x2 "
     ],
     "language": "python",
     "metadata": {},
     "outputs": [
      {
       "metadata": {},
       "output_type": "pyout",
       "prompt_number": 45,
       "text": [
        "array([[0, 1],\n",
        "       [3, 4]])"
       ]
      }
     ],
     "prompt_number": 45
    },
    {
     "cell_type": "markdown",
     "metadata": {},
     "source": [
      "Se acuerdan que en el slicing com\u00fan hab\u00eda un tercer parametro opcional que era el paso? Funciona ac\u00e1 tambi\u00e9n"
     ]
    },
    {
     "cell_type": "code",
     "collapsed": false,
     "input": [
      "m[::2, ::2]    # esquinas"
     ],
     "language": "python",
     "metadata": {},
     "outputs": [
      {
       "metadata": {},
       "output_type": "pyout",
       "prompt_number": 52,
       "text": [
        "array([[0, 2],\n",
        "       [6, 8]])"
       ]
      }
     ],
     "prompt_number": 52
    },
    {
     "cell_type": "markdown",
     "metadata": {},
     "source": [
      "Como resumen\n",
      "\n",
      "![](http://www.tp.umu.se/~nylen/pylect/_images/numpy_indexing.png)\n"
     ]
    },
    {
     "cell_type": "markdown",
     "metadata": {},
     "source": [
      "### Ejercicios\n",
      "\n",
      "- Crear un array de 1000 n\u00fameros aleatorios y encontrar su media (tip: ver el m\u00e9todo `mean()`)\n",
      "- Crear una array (matriz) de 10x10 donde cada fila va del 0 al 9 (tip: \u00bfqu\u00e9 pasa al sumar un array 2d con otro 1d?)\n",
      "- Crear una matriz de esta forma\n",
      "\n",
      "        array([[0, 0, 0, 0, 5],\n",
      "               [0, 0, 0, 4, 0],\n",
      "               [0, 0, 3, 0, 0],\n",
      "               [0, 2, 0, 0, 0],\n",
      "               [1, 0, 0, 0, 0]])\n",
      "  (tip: investigar la funci\u00f3n `diag()` y `rot90()`\n"
     ]
    },
    {
     "cell_type": "code",
     "collapsed": false,
     "input": [
      "ale = np.random.random(1000)"
     ],
     "language": "python",
     "metadata": {},
     "outputs": [],
     "prompt_number": 53
    },
    {
     "cell_type": "code",
     "collapsed": false,
     "input": [
      "np.zeros((10, 10)) + np.arange(10)"
     ],
     "language": "python",
     "metadata": {},
     "outputs": [
      {
       "metadata": {},
       "output_type": "pyout",
       "prompt_number": 56,
       "text": [
        "array([[ 0.,  1.,  2.,  3.,  4.,  5.,  6.,  7.,  8.,  9.],\n",
        "       [ 0.,  1.,  2.,  3.,  4.,  5.,  6.,  7.,  8.,  9.],\n",
        "       [ 0.,  1.,  2.,  3.,  4.,  5.,  6.,  7.,  8.,  9.],\n",
        "       [ 0.,  1.,  2.,  3.,  4.,  5.,  6.,  7.,  8.,  9.],\n",
        "       [ 0.,  1.,  2.,  3.,  4.,  5.,  6.,  7.,  8.,  9.],\n",
        "       [ 0.,  1.,  2.,  3.,  4.,  5.,  6.,  7.,  8.,  9.],\n",
        "       [ 0.,  1.,  2.,  3.,  4.,  5.,  6.,  7.,  8.,  9.],\n",
        "       [ 0.,  1.,  2.,  3.,  4.,  5.,  6.,  7.,  8.,  9.],\n",
        "       [ 0.,  1.,  2.,  3.,  4.,  5.,  6.,  7.,  8.,  9.],\n",
        "       [ 0.,  1.,  2.,  3.,  4.,  5.,  6.,  7.,  8.,  9.]])"
       ]
      }
     ],
     "prompt_number": 56
    },
    {
     "cell_type": "markdown",
     "metadata": {},
     "source": [
      "### Algunas funciones inclu\u00eddas en numpy\n",
      "\n",
      "Encontrar raices de un polinomio"
     ]
    },
    {
     "cell_type": "code",
     "collapsed": false,
     "input": [
      "np.roots?"
     ],
     "language": "python",
     "metadata": {},
     "outputs": [],
     "prompt_number": 59
    },
    {
     "cell_type": "code",
     "collapsed": false,
     "input": [
      "np.roots([1j, -4+0.4j, 18, -np.pi, 0])  # polinomio de grado 5!"
     ],
     "language": "python",
     "metadata": {},
     "outputs": [
      {
       "metadata": {},
       "output_type": "pyout",
       "prompt_number": 58,
       "text": [
        "array([-3.01556495 -5.38277801e+00j,  2.43369801 +1.38394115e+00j,\n",
        "        0.18186694 -1.16314504e-03j,  0.00000000 +0.00000000e+00j])"
       ]
      }
     ],
     "prompt_number": 58
    },
    {
     "cell_type": "markdown",
     "metadata": {},
     "source": [
      "Resolver un sistema de ecuaciones lineales  `Ax = b`"
     ]
    },
    {
     "cell_type": "code",
     "collapsed": false,
     "input": [
      "A = np.array([[1, 2], [0.5, -2]])\n",
      "b = np.array([4, 5.2])"
     ],
     "language": "python",
     "metadata": {},
     "outputs": [],
     "prompt_number": 61
    },
    {
     "cell_type": "code",
     "collapsed": false,
     "input": [
      "x = np.linalg.solve?"
     ],
     "language": "python",
     "metadata": {},
     "outputs": [],
     "prompt_number": 63
    },
    {
     "cell_type": "code",
     "collapsed": false,
     "input": [
      "x = np.linalg.solve"
     ],
     "language": "python",
     "metadata": {},
     "outputs": []
    },
    {
     "cell_type": "markdown",
     "metadata": {},
     "source": [
      "Encontrar la inversa de una matriz"
     ]
    },
    {
     "cell_type": "code",
     "collapsed": false,
     "input": [
      "A = np.array([[1,2],[3,4]])\n",
      "invA = np.linalg.inv(A)\n",
      "invA"
     ],
     "language": "python",
     "metadata": {},
     "outputs": [
      {
       "metadata": {},
       "output_type": "pyout",
       "prompt_number": 64,
       "text": [
        "array([[-2. ,  1. ],\n",
        "       [ 1.5, -0.5]])"
       ]
      }
     ],
     "prompt_number": 64
    },
    {
     "cell_type": "code",
     "collapsed": false,
     "input": [
      "np.dot(A,invA)   # producto punto"
     ],
     "language": "python",
     "metadata": {},
     "outputs": [
      {
       "metadata": {},
       "output_type": "pyout",
       "prompt_number": 65,
       "text": [
        "array([[  1.00000000e+00,   1.11022302e-16],\n",
        "       [  0.00000000e+00,   1.00000000e+00]])"
       ]
      }
     ],
     "prompt_number": 65
    },
    {
     "cell_type": "markdown",
     "metadata": {},
     "source": [
      "### Ejercicios\n",
      "\n",
      "- Encontrar las raices para el polinomio $$f(x) = \\frac{1}{4}(x^3 + 3x^2 \u2212 6x \u2212 8)$$ y grafique con x entre [-3, 3]\n",
      "- Resuelva el siguiente sistema de ecuaciones \n",
      "\n",
      "  $$\\begin{array} - -x + z = -2\\\\ 2x - y + z = 1 \\\\ -3x + 2y -2z = -1 \\\\ x - 2y + 3z = -2 \\end{array}$$\n",
      "\n"
     ]
    },
    {
     "cell_type": "code",
     "collapsed": false,
     "input": [
      "np."
     ],
     "language": "python",
     "metadata": {},
     "outputs": []
    }
   ],
   "metadata": {}
  }
 ]
}