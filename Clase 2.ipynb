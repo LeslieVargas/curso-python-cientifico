{
 "cells": [
  {
   "cell_type": "markdown",
   "metadata": {},
   "source": [
    "# Introducción a Python para ciencias e ingenierías (notebook 2)\n",
    "\n",
    "\n",
    "Ing. Martín Gaitán (Phasety)\n",
    "\n",
    "--------\n",
    "\n",
    "esto es **negrita**\n",
    "\n",
    "\n",
    "$x = y^2$\n",
    "\n",
    "## Funciones\n",
    "\n",
    "Las funciones son bloques de código que uno puede ejecutar para obtener un resultado. En Python las funciones se definen con `def`"
   ]
  },
  {
   "cell_type": "code",
   "execution_count": 1,
   "metadata": {
    "collapsed": false
   },
   "outputs": [],
   "source": [
    "def cuadrado(numero):\n",
    "    \"\"\"Dado un escalar, devuelve su potencia cuadrada\"\"\"\n",
    "    \n",
    "    return numero**2"
   ]
  },
  {
   "cell_type": "code",
   "execution_count": 4,
   "metadata": {
    "collapsed": false
   },
   "outputs": [
    {
     "data": {
      "text/plain": [
       "(9, 4e+20, (24+10j))"
      ]
     },
     "execution_count": 4,
     "metadata": {},
     "output_type": "execute_result"
    }
   ],
   "source": [
    "cuadrado(3), cuadrado(2e10), cuadrado(5+1.j)"
   ]
  },
  {
   "cell_type": "code",
   "execution_count": 7,
   "metadata": {
    "collapsed": false
   },
   "outputs": [],
   "source": [
    "cuadrado"
   ]
  },
  {
   "cell_type": "code",
   "execution_count": null,
   "metadata": {
    "collapsed": false
   },
   "outputs": [],
   "source": []
  },
  {
   "cell_type": "markdown",
   "metadata": {},
   "source": [
    "Notar que no **exigimos un tipo de dato** en la signatura. Python es dinámico se esperan **comportamientos** en vez de tipos. Un tipo de datos puede implementar distintos comportamientos. \n",
    "\n",
    "Si un número, cualquiera sea su tipo, puede elevarse al cuadrado, ¿por qué hacer una funcion para enteros, otra para flotantes de simple precisión y otra para complejos? (Fortran, teléfono!)\n",
    "\n",
    "Esto es lo que se conoce como **Duck typing**. \n",
    "\n",
    "   *\"Cuando veo un ave que camina como un pato, nada como un pato y suena como un pato, a esa ave yo la llamo un pato.\"*\n",
    "\n"
   ]
  },
  {
   "cell_type": "code",
   "execution_count": 9,
   "metadata": {
    "collapsed": false
   },
   "outputs": [
    {
     "ename": "TypeError",
     "evalue": "unsupported operand type(s) for ** or pow(): 'str' and 'int'",
     "output_type": "error",
     "traceback": [
      "\u001b[1;31m---------------------------------------------------------------------------\u001b[0m\n\u001b[1;31mTypeError\u001b[0m                                 Traceback (most recent call last)",
      "\u001b[1;32m<ipython-input-9-96c34a475a00>\u001b[0m in \u001b[0;36m<module>\u001b[1;34m()\u001b[0m\n\u001b[1;32m----> 1\u001b[1;33m \u001b[0mcuadrado\u001b[0m\u001b[1;33m(\u001b[0m\u001b[1;34m\"hola mundo\"\u001b[0m\u001b[1;33m)\u001b[0m\u001b[1;33m\u001b[0m\u001b[0m\n\u001b[0m",
      "\u001b[1;32m<ipython-input-3-1e7510d5ed27>\u001b[0m in \u001b[0;36mcuadrado\u001b[1;34m(numero)\u001b[0m\n\u001b[0;32m      2\u001b[0m     \u001b[1;34m\"\"\"Dado un escalar, devuelve su potencia cuadrada\"\"\"\u001b[0m\u001b[1;33m\u001b[0m\u001b[0m\n\u001b[0;32m      3\u001b[0m \u001b[1;33m\u001b[0m\u001b[0m\n\u001b[1;32m----> 4\u001b[1;33m     \u001b[1;32mreturn\u001b[0m \u001b[0mnumero\u001b[0m\u001b[1;33m**\u001b[0m\u001b[1;36m2\u001b[0m\u001b[1;33m\u001b[0m\u001b[0m\n\u001b[0m",
      "\u001b[1;31mTypeError\u001b[0m: unsupported operand type(s) for ** or pow(): 'str' and 'int'"
     ]
    }
   ],
   "source": [
    "cuadrado(\"hola mundo\")"
   ]
  },
  {
   "cell_type": "markdown",
   "metadata": {},
   "source": [
    "Obviamente, si el objeto (el tipo del objeto) que pasamos no soporta el comportamiento que esperamos (en este caso no se puede \"elevar al cuadrado\" una cadena) fallará. \n",
    "\n",
    "Pero es mejor que nos avise del error, ¿no? ¿Por qué querríamos elevar una cadena al cuadrado? \n",
    "\n",
    "\n",
    "\n",
    "\n",
    "\n",
    "![](http://img.desmotivaciones.es/201109/CliffRobertsonSpiderman1.jpg)\n",
    "\n",
    "\n",
    "\n",
    "\n",
    "#### Parámetros y más parámetros\n",
    "\n",
    "La definción de funciones es muy flexible. No exige ni siquiera pasar parámetros o devolver resultados\n"
   ]
  },
  {
   "cell_type": "code",
   "execution_count": 5,
   "metadata": {
    "collapsed": false
   },
   "outputs": [
    {
     "name": "stdout",
     "output_type": "stream",
     "text": [
      "¡Hola curso de extension!\n"
     ]
    }
   ],
   "source": [
    "def hola():\n",
    "    print(\"¡Hola curso de extension!\")\n",
    "\n",
    "hola()"
   ]
  },
  {
   "cell_type": "code",
   "execution_count": 8,
   "metadata": {
    "collapsed": false
   },
   "outputs": [
    {
     "name": "stdout",
     "output_type": "stream",
     "text": [
      "¡Hola curso de extension!\n",
      "None tanto tiempo\n"
     ]
    },
    {
     "data": {
      "text/plain": [
       "'None'"
      ]
     },
     "execution_count": 8,
     "metadata": {},
     "output_type": "execute_result"
    }
   ],
   "source": [
    "saludo = hola()\n",
    "print(saludo, \"tanto tiempo\")\n",
    "repr(saludo)"
   ]
  },
  {
   "cell_type": "markdown",
   "metadata": {},
   "source": [
    "Si la función no termina en un return explícito, la función devuelve un `None`. También puede haber multiples `return` en una función"
   ]
  },
  {
   "cell_type": "code",
   "execution_count": 11,
   "metadata": {
    "collapsed": false
   },
   "outputs": [
    {
     "data": {
      "text/plain": [
       "10"
      ]
     },
     "execution_count": 11,
     "metadata": {},
     "output_type": "execute_result"
    }
   ],
   "source": [
    "def hola(coloquial):\n",
    "    if coloquial:\n",
    "        return \"Hola chochamus!\"\n",
    "    else:\n",
    "        return (\"Hola señores\", 10)\n",
    "\n",
    "hola(False)\n",
    "\n",
    "\n",
    "a, b = (10, 20)\n",
    "a"
   ]
  },
  {
   "cell_type": "markdown",
   "metadata": {},
   "source": [
    "Se pueden definir parámetros opcionales, que toman un valor *default* cuando no se los explicíta"
   ]
  },
  {
   "cell_type": "markdown",
   "metadata": {},
   "source": [
    "La función `saludo` recibe un parámetro requerido `nombre` (es requerido porque no tiene valor por omisión)  y dos parámetros opcionales (`saludo` y `sufijo`). \n",
    "\n",
    "- Si sólo paso 1 parámetro será `nombre` y los valores default se usarán para los otros. \n",
    "- Si paso 2 se usaran para `nombre` y `saludo` y `sufijo` usará el default\n",
    "- Si paso todos los parámetros no se usaran los valores por omisión.\n",
    "\n",
    "Pero ¿qué pasa si quiero usar el default para `saludo` pero no para `sufijo`? \n",
    "\n",
    "Explicitamos los parámetros por nombre:\n",
    "\n"
   ]
  },
  {
   "cell_type": "code",
   "execution_count": 13,
   "metadata": {
    "collapsed": false
   },
   "outputs": [
    {
     "name": "stdout",
     "output_type": "stream",
     "text": [
      "Hola Melisa, que tal?\n",
      "que hacés Martín, que tal?\n",
      "Che José, cómo andás peladito?\n"
     ]
    }
   ],
   "source": [
    "def saludo(nombre, saludo=\"Hola\", sufijo=\"que tal?\"):\n",
    "    \"\"\"Dado un nombre y, opcionalmente, un saludo y/o sufijo, devuelve \n",
    "    una cadena saludo + nombre + sufijo\"\"\"\n",
    "    \n",
    "    return \"{} {}, {}\".format(saludo, nombre, sufijo)  #interpolación con diccionario. \n",
    "\n",
    "print(saludo(\"Melisa\"))\n",
    "print(saludo(\"Martín\", \"que hacés\"))\n",
    "print(saludo(\"José\", \"Che\", \"cómo andás peladito?\"))"
   ]
  },
  {
   "cell_type": "code",
   "execution_count": 20,
   "metadata": {
    "collapsed": false
   },
   "outputs": [
    {
     "ename": "TypeError",
     "evalue": "saludo() missing 1 required positional argument: 'nombre'",
     "output_type": "error",
     "traceback": [
      "\u001b[1;31m---------------------------------------------------------------------------\u001b[0m",
      "\u001b[1;31mTypeError\u001b[0m                                 Traceback (most recent call last)",
      "\u001b[1;32m<ipython-input-20-d533e2adbf2f>\u001b[0m in \u001b[0;36m<module>\u001b[1;34m()\u001b[0m\n\u001b[1;32m----> 1\u001b[1;33m \u001b[0msaludo\u001b[0m\u001b[1;33m(\u001b[0m\u001b[0msufijo\u001b[0m\u001b[1;33m=\u001b[0m\u001b[1;34m\"que gol que hiciste, papá\"\u001b[0m\u001b[1;33m)\u001b[0m\u001b[1;33m\u001b[0m\u001b[0m\n\u001b[0m",
      "\u001b[1;31mTypeError\u001b[0m: saludo() missing 1 required positional argument: 'nombre'"
     ]
    }
   ],
   "source": [
    "saludo(sufijo=\"que gol que hiciste, papá\")"
   ]
  },
  {
   "cell_type": "markdown",
   "metadata": {},
   "source": [
    "Cuando se usan parámetros por nombre no importa el órden. Si mezclamos  **parámetros por posición, deben ir antes** de los parámetros por nombre. \n",
    "\n",
    "\n"
   ]
  },
  {
   "cell_type": "markdown",
   "metadata": {},
   "source": [
    "#### Ejercicio\n",
    "\n",
    "Definir una función `marquesina` que, dada una cadena, la devuelve en una \n",
    "decorada. Por ejemplo, dada `\"Hola\"`, devuelve\n",
    "\n",
    "    *****************\n",
    "    *      Hola     *\n",
    "    *****************\n",
    "\n",
    "El, ancho, alto del relleno y el caracter de decoración son parámetros opcionales"
   ]
  },
  {
   "cell_type": "code",
   "execution_count": 29,
   "metadata": {
    "collapsed": true,
    "slideshow": {
     "slide_type": "skip"
    }
   },
   "outputs": [],
   "source": [
    "%load https://gist.githubusercontent.com/mgaitan/6319640/raw/68d4fc1b55407ce9e358b6769699e536eed5a4e1/gistfile1.txt"
   ]
  },
  {
   "cell_type": "code",
   "execution_count": 22,
   "metadata": {
    "collapsed": false
   },
   "outputs": [
    {
     "name": "stdout",
     "output_type": "stream",
     "text": [
      "************************************************************\n",
      "*                                                          *\n",
      "*                           Hola                           *\n",
      "*                                                          *\n",
      "************************************************************\n",
      "------------------------------------------------------------\n",
      "-                                                          -\n",
      "-                                                          -\n",
      "-                 Mi mamá me mima siempre                  -\n",
      "-                                                          -\n",
      "-                                                          -\n",
      "------------------------------------------------------------\n"
     ]
    }
   ],
   "source": [
    "def marquesina(cadena, ancho=60, alto=1, caracter=\"*\"):\n",
    "    cadena = cadena.center(ancho)\n",
    "    cadena = caracter + cadena[1:-1] + caracter\n",
    "    cadena += '\\n'\n",
    "    relleno = \" \" * ancho\n",
    "    relleno = caracter + relleno[1:-1] + caracter\n",
    "    relleno += '\\n'\n",
    "    tapa = caracter * ancho\n",
    "    return tapa + '\\n' + relleno * alto + cadena + relleno * alto + tapa\n",
    "\n",
    "print(marquesina(\"Hola\"))\n",
    "print(marquesina(\"\"\"Mi mamá me mima siempre\"\"\", caracter=\"-\", alto=2))"
   ]
  },
  {
   "cell_type": "code",
   "execution_count": 30,
   "metadata": {
    "collapsed": false
   },
   "outputs": [
    {
     "ename": "SyntaxError",
     "evalue": "non-keyword arg after keyword arg (<ipython-input-30-984004d44050>, line 1)",
     "output_type": "error",
     "traceback": [
      "\u001b[1;36m  File \u001b[1;32m\"<ipython-input-30-984004d44050>\"\u001b[1;36m, line \u001b[1;32m1\u001b[0m\n\u001b[1;33m    print(marquesina( ancho=10, 'Messii, messiii'))\u001b[0m\n\u001b[1;37m                               ^\u001b[0m\n\u001b[1;31mSyntaxError\u001b[0m\u001b[1;31m:\u001b[0m non-keyword arg after keyword arg\n"
     ]
    }
   ],
   "source": [
    "print(marquesina('Messii, messiii',))"
   ]
  },
  {
   "cell_type": "markdown",
   "metadata": {},
   "source": [
    "*Nota*: Mi implementación es muy fea: fijensé que hay bastante código que se repite. Tip: **¡Podemos hacer una función adentro de otra función!**"
   ]
  },
  {
   "cell_type": "markdown",
   "metadata": {},
   "source": [
    "#### Parámetros arbitrarios: *args y **kwargs\n",
    "\n",
    "Hasta acá todo bonito. Pero ¿qué tal si quiero definir una función que acepte una cantidad arbitraria de parámetros? Acá vienen `*args` y `**kwargs`. "
   ]
  },
  {
   "cell_type": "code",
   "execution_count": 36,
   "metadata": {
    "collapsed": false
   },
   "outputs": [
    {
     "data": {
      "text/plain": [
       "[(1, 'a', 'alfa'), (2, 'b', 'beta'), (3, 'c', 'gama')]"
      ]
     },
     "execution_count": 36,
     "metadata": {},
     "output_type": "execute_result"
    }
   ],
   "source": [
    "list(zip((1, 2, 3), ('a', 'b', 'c'), ('alfa', 'beta', 'gama')))"
   ]
  },
  {
   "cell_type": "code",
   "execution_count": 34,
   "metadata": {
    "collapsed": false
   },
   "outputs": [
    {
     "name": "stdout",
     "output_type": "stream",
     "text": [
      "p: 1\n",
      "args: (2, 3, 4, 'hola')\n",
      "kwargs: {'planeta': 'mundo'}\n"
     ]
    }
   ],
   "source": [
    "def f(p, *args, **kwargs):\n",
    "     print(\"p:\", p)\n",
    "     print(\"args:\", args)\n",
    "     print(\"kwargs:\", kwargs)\n",
    "\n",
    "f(1,2,3,4,'hola', planeta='mundo')"
   ]
  },
  {
   "cell_type": "code",
   "execution_count": 37,
   "metadata": {
    "collapsed": false
   },
   "outputs": [
    {
     "data": {
      "text/plain": [
       "0.9351731238371856"
      ]
     },
     "execution_count": 37,
     "metadata": {},
     "output_type": "execute_result"
    }
   ],
   "source": [
    "def P_vdw(T,v,Tc,Pc):\n",
    "    R=8.314\n",
    "    a = 27*(R*Tc)**2/Pc\n",
    "    b = R*Tc/8/Pc\n",
    "    Prep = 8.314*T/(v - b)\n",
    "    Pat = -a/v**2\n",
    "    P = Prep+Pat\n",
    "    return P\n",
    "\n",
    "P_vdw(4300, 1400, 305, 50)*1400/8.314/4300"
   ]
  },
  {
   "cell_type": "code",
   "execution_count": 40,
   "metadata": {
    "collapsed": false
   },
   "outputs": [
    {
     "data": {
      "text/plain": [
       "-960.0"
      ]
     },
     "execution_count": 40,
     "metadata": {},
     "output_type": "execute_result"
    }
   ],
   "source": [
    "def productoria(*args, **kwargs):\n",
    "    acumulador = 1\n",
    "    for num in args:\n",
    "        acumulador *= num\n",
    "    return acumulador\n",
    "\n",
    "productoria(10, 20, -4, 1.2, comodin=2)"
   ]
  },
  {
   "cell_type": "code",
   "execution_count": 41,
   "metadata": {
    "collapsed": false
   },
   "outputs": [
    {
     "name": "stdout",
     "output_type": "stream",
     "text": [
      "The Zen of Python, by Tim Peters\n",
      "\n",
      "Beautiful is better than ugly.\n",
      "Explicit is better than implicit.\n",
      "Simple is better than complex.\n",
      "Complex is better than complicated.\n",
      "Flat is better than nested.\n",
      "Sparse is better than dense.\n",
      "Readability counts.\n",
      "Special cases aren't special enough to break the rules.\n",
      "Although practicality beats purity.\n",
      "Errors should never pass silently.\n",
      "Unless explicitly silenced.\n",
      "In the face of ambiguity, refuse the temptation to guess.\n",
      "There should be one-- and preferably only one --obvious way to do it.\n",
      "Although that way may not be obvious at first unless you're Dutch.\n",
      "Now is better than never.\n",
      "Although never is often better than *right* now.\n",
      "If the implementation is hard to explain, it's a bad idea.\n",
      "If the implementation is easy to explain, it may be a good idea.\n",
      "Namespaces are one honking great idea -- let's do more of those!\n"
     ]
    }
   ],
   "source": [
    "import this"
   ]
  },
  {
   "cell_type": "markdown",
   "metadata": {},
   "source": [
    "Con `*args` se indica *\"mapear todos los argumentos posicionales no explícitos a una tupla llamada `args`\"*. Y con `**kwargs` se indica \"mapear todos los argumentos de palabra clave no explícitos a un diccionario llamado `kwargs`\".\n",
    "\n",
    "** NOTA **: No es necesario los nombres \"args\" y \"kwargs\", podemos llamarlas diferente! los simbolos que indican cantidades arbitrarias de parametros son `*` y `**`. Además es posible poner parametros \"comunes\" antes de los parametros arbritarios.\n",
    "\n",
    "\n",
    "### La inversa: Desempacar secuencias o diccionarios\n",
    "\n",
    "Si ya tengo los parámetros que quiero pasar a una función, los \"desempaco\". \n",
    "\n",
    "\n"
   ]
  },
  {
   "cell_type": "code",
   "execution_count": 55,
   "metadata": {
    "collapsed": true
   },
   "outputs": [],
   "source": [
    "def saludo(nombre, saludo=\"Hola\", sufijo=\"que tal?\"):\n",
    "    \"\"\"Dado un nombre y, opcionalmente, un saludo y/o sufijo, devuelve \n",
    "    una cadena saludo + nombre + sufijo\"\"\"\n",
    "    extra = \" \".join(kwargs.values())\n",
    "    return \"{} {}, {} ({})\".format(saludo, nombre, sufijo, extra)  #interpolación con diccionario. \n"
   ]
  },
  {
   "cell_type": "code",
   "execution_count": 44,
   "metadata": {
    "collapsed": false
   },
   "outputs": [
    {
     "name": "stdout",
     "output_type": "stream",
     "text": [
      "Che José, sos vivo?\n",
      "Ey Cristian, qué onda\n"
     ]
    }
   ],
   "source": [
    "otra_data = ('Che', 'sos vivo?')\n",
    "mi_data = {'nombre': 'Cristian', 'saludo': 'Ey', 'sufijo': 'qué onda'}\n",
    "\n",
    "print (saludo('José', *otra_data)) #el primer elemento desempacado, va al primer arg de la func.. etc\n",
    "print (saludo(**mi_data))"
   ]
  },
  {
   "cell_type": "code",
   "execution_count": 57,
   "metadata": {
    "collapsed": false
   },
   "outputs": [
    {
     "data": {
      "text/plain": [
       "'Ey Cristian, qué onda (roja otra cosa)'"
      ]
     },
     "execution_count": 57,
     "metadata": {},
     "output_type": "execute_result"
    }
   ],
   "source": [
    "datos = ('Messi', 'hola', 'capo')\n",
    "mi_data = {'nombre': 'Cristian', 'saludo': 'Ey', 'sufijo': 'qué onda', 'otro': 'otra cosa', 'color': 'roja'}\n",
    "\n",
    "saludo(**mi_data)"
   ]
  },
  {
   "cell_type": "markdown",
   "metadata": {},
   "source": [
    "## Manejo de errores\n",
    "\n",
    "Ya vimos que a veces suceden errores: Por ejemplo, cuando apuntamos a un elemento mayor al tamaño de una secuencia, con una clave que no existe, cuando dividimos por cero, etc. \n",
    "\n",
    "No hay problema interactivamente, porque podemos corregir y reintentar (lo que es genial), pero muchas veces queremos o necesitamos que el flujo del programa siga. Por ejemplo:\n",
    "\n",
    "\n",
    "http://docs.python.org.ar/tutorial/3/errors.html\n"
   ]
  },
  {
   "cell_type": "code",
   "execution_count": 69,
   "metadata": {
    "collapsed": false,
    "scrolled": true
   },
   "outputs": [
    {
     "name": "stdout",
     "output_type": "stream",
     "text": [
      "ingrese un numero0\n",
      "hubo un error de division por cero\n",
      "bloque final\n"
     ]
    }
   ],
   "source": [
    "\n",
    "try:\n",
    "    numero = float(input('ingrese un numero'))\n",
    "    print(10/numero)\n",
    "except ZeroDivisionError:\n",
    "    print(\"hubo un error de division por cero\")\n",
    "except ValueError:\n",
    "    print(\"hubo un error de valor. Poné un numero! \")\n",
    "finally:\n",
    "    print('bloque final')"
   ]
  },
  {
   "cell_type": "markdown",
   "metadata": {},
   "source": [
    "El bloque `try` / `except` sirve para esto. En el `except` se ponen el tipo de excepción (o una tupla de tipos de expeciones) que ese bloque capturará. Puede haber multiples bloques `except` y, opcionalemente, un bloque `finally` que se ejecuta SIEMPRE. \n",
    "\n",
    "Esto se usan mucho!  Es mejor pedir perdón (capturar potenciales errores) que pedir permiso (verificar tipo de dato). (Esperamos comportamientos y no tipos)\n",
    "    \n",
    "   \n"
   ]
  },
  {
   "cell_type": "markdown",
   "metadata": {},
   "source": [
    "## Lectura y escritura de archivos\n",
    "\n",
    "Siempre necesitamos leer y escribir archivos. Es la forma básica de interactuar con el resto del sistema, meter y sacar datos para la \"computación\". Como en Python todo es un objeto, lo que tenemos es un \"objeto manejador de archivos\" . La forma más básica de obtener uno es con la función `open()` que se le dice la ruta al archivo y el modo:\n",
    "\n",
    "\n",
    "       'r': lectura (default)\n",
    "       'w': sobreescritura\n",
    "       'a': agregar contenido al final\n",
    "       'r+': lectura/escritura\n",
    "       \n",
    "En Windows, agregando '`b`' al final del modo, lo abre en modo binario\n"
   ]
  },
  {
   "cell_type": "code",
   "execution_count": 73,
   "metadata": {
    "collapsed": false
   },
   "outputs": [
    {
     "name": "stdout",
     "output_type": "stream",
     "text": [
      "<_io.TextIOWrapper name='README.rst' mode='r' encoding='UTF-8'>\n"
     ]
    }
   ],
   "source": [
    "readme = open('README.rst')\n",
    "print(readme)"
   ]
  },
  {
   "cell_type": "code",
   "execution_count": 74,
   "metadata": {
    "collapsed": false
   },
   "outputs": [
    {
     "name": "stdout",
     "output_type": "stream",
     "text": [
      "Tutorial de Python para ciencias e ingenierías\n",
      "==============================================\n",
      "\n",
      "Un curso de Python orientado a estudiantes de ing\n"
     ]
    }
   ],
   "source": [
    "print(readme.read()[0:144])"
   ]
  },
  {
   "cell_type": "markdown",
   "metadata": {},
   "source": [
    "Atenti: el objeto manejador lleva internamente la **posición del cursor**. Por ejemplo, si invocan multiples veces el metodo `read()`, leerán porciones consecutivas del archivo. \n",
    "\n",
    "Métodos útiles: `read()`, `readlines()`, `write()`, `writelines()`\n",
    "\n",
    "A veces simplemente queremos hacer algo \"linea por linea\". En vez de usar `readlines()` y cargar todo en memoria (que puede ser grande), podemos iterar directamente sobre el archivo. "
   ]
  },
  {
   "cell_type": "code",
   "execution_count": 75,
   "metadata": {
    "collapsed": false
   },
   "outputs": [
    {
     "name": "stdout",
     "output_type": "stream",
     "text": [
      "Tutorial de Python para ciencias e ingenierías\n",
      "\n",
      "==============================================\n",
      "\n",
      "\n",
      "\n",
      "Un curso de Python orientado a estudiantes de ingenieria, ingenieros\n",
      "\n"
     ]
    }
   ],
   "source": [
    "readme = open('README.rst')\n",
    "for i, linea in enumerate(readme):\n",
    "    if i < 4:\n",
    "        print(linea)\n",
    "    else:\n",
    "        break"
   ]
  },
  {
   "cell_type": "code",
   "execution_count": 79,
   "metadata": {
    "collapsed": false
   },
   "outputs": [
    {
     "name": "stdout",
     "output_type": "stream",
     "text": [
      "Tutorial de Python para ciencias e ingenierías\n",
      "==============================================\n",
      "\n",
      "Un curso de Python orientado a estudiantes de ingenieria, ingenieros\n",
      "\n"
     ]
    }
   ],
   "source": [
    "readme2 = open('README.rst', 'r')\n",
    "print(\"\".join(readme2.readlines()[0:4]))\n"
   ]
  },
  {
   "cell_type": "markdown",
   "metadata": {},
   "source": [
    "Hasta que no se invoca al método `close()` el archivo está manejado en memoria por Python (y puede causar conflictos si queremos abrir el archivo desde otro programa). Como los objetos `file` saben usar un bloque `with` (manejador de contexto), podemos usarlo para que se cierre automáticamente. "
   ]
  },
  {
   "cell_type": "code",
   "execution_count": 19,
   "metadata": {
    "collapsed": false
   },
   "outputs": [
    {
     "name": "stdout",
     "output_type": "stream",
     "text": [
      "['==============================================\\n', '\\n', 'Un curso de Python orientado a estudiantes de ingenieria, ingenieros\\n', 'e investigadores.\\n']\n"
     ]
    }
   ],
   "source": [
    "with open('README.rst', 'r') as readme:\n",
    "    lineas = readme.readlines()[1:5] #mete las líneas en una lista\n",
    "print(lineas)\n"
   ]
  },
  {
   "cell_type": "markdown",
   "metadata": {},
   "source": [
    "#### Ejericio:\n",
    "\n",
    "Escriba una función que, dada la ruta de un archivo de texto, escriba otro con de igual nombre con prefijo `\"upper_\"` cuyo contenido es el del original convertido a mayúsculas"
   ]
  },
  {
   "cell_type": "code",
   "execution_count": 80,
   "metadata": {
    "collapsed": true
   },
   "outputs": [],
   "source": [
    "def convertidor(archivo):\n",
    "    with open(archivo, 'r') as entrada:\n",
    "        salida = entrada.read().upper()\n",
    "    with open('upper_' + archivo, 'w') as archivo_salida:\n",
    "        archivo_salida.write(salida)"
   ]
  },
  {
   "cell_type": "code",
   "execution_count": 81,
   "metadata": {
    "collapsed": true
   },
   "outputs": [],
   "source": []
  },
  {
   "cell_type": "markdown",
   "metadata": {},
   "source": [
    "## Clases y objetos ¿qué lo qué?\n",
    "\n",
    "No vamos a entrar en detalles sobre qué es la famosísima \"programación orientada a objetos\". Simplemente es una buena manera de estructurar código para repetirse menos y \"encapsular\" datos y comportamientos relacionados. Por ejemplo, cuando muchas funciones que reciben el mismo conjunto de parámetros, es un buen candidado a reescribirlo como una clase. "
   ]
  },
  {
   "cell_type": "code",
   "execution_count": 88,
   "metadata": {
    "collapsed": false
   },
   "outputs": [],
   "source": [
    "class Rectangulo(object):\n",
    "    def __init__(self, base, altura):\n",
    "        self.base = base\n",
    "        self.altura = altura\n",
    "    \n",
    "    def area(self):\n",
    "        return self.base * self.altura\n",
    "    \n",
    "    def perimetro(self):\n",
    "        return (self.base + self.altura) * 2\n",
    "\n",
    "# ya tengo la clase Rectangulo. \n",
    "# Ahora puedo definir uno en particular\n",
    "# un objeto tipo \"Rectangulo\". \n",
    "# Automáticamente se llama a la \"función\" inicializadoa __init__\n",
    "\n",
    "mi_rectangulo = Rectangulo(2, 4)\n",
    "mi_rectangulo2 = Rectangulo(4, 10)"
   ]
  },
  {
   "cell_type": "code",
   "execution_count": 26,
   "metadata": {
    "collapsed": false
   },
   "outputs": [
    {
     "data": {
      "text/plain": [
       "14"
      ]
     },
     "execution_count": 26,
     "metadata": {},
     "output_type": "execute_result"
    }
   ],
   "source": [
    "mi"
   ]
  },
  {
   "cell_type": "code",
   "execution_count": 89,
   "metadata": {
    "collapsed": false
   },
   "outputs": [
    {
     "data": {
      "text/plain": [
       "28"
      ]
     },
     "execution_count": 89,
     "metadata": {},
     "output_type": "execute_result"
    }
   ],
   "source": [
    "mi_rectangulo2.perimetro()"
   ]
  },
  {
   "cell_type": "markdown",
   "metadata": {},
   "source": [
    "Siempre es bueno definir el método `__str__` (`__unicode__` en python 2)"
   ]
  },
  {
   "cell_type": "code",
   "execution_count": 90,
   "metadata": {
    "collapsed": false
   },
   "outputs": [
    {
     "name": "stdout",
     "output_type": "stream",
     "text": [
      "<__main__.Rectangulo object at 0x7f3aadf0b828>\n"
     ]
    },
    {
     "data": {
      "text/plain": [
       "<__main__.Rectangulo at 0x7f3aadf0b828>"
      ]
     },
     "execution_count": 90,
     "metadata": {},
     "output_type": "execute_result"
    }
   ],
   "source": [
    "print(mi_rectangulo)\n",
    "mi_rectangulo"
   ]
  },
  {
   "cell_type": "code",
   "execution_count": 91,
   "metadata": {
    "collapsed": false
   },
   "outputs": [],
   "source": [
    "class Rectangulo(object):\n",
    "    def __init__(self, base, altura):\n",
    "        self.base = base\n",
    "        self.altura = altura\n",
    "    \n",
    "    def area(self):\n",
    "        return self.base * self.altura\n",
    "    \n",
    "    def perimetro(self):\n",
    "        return (self.base + self.altura) * 2\n",
    "    \n",
    "    def __str__(self):\n",
    "        return u\"%s de %s x %s\" % (type(self).__name__, self.base, self.altura)"
   ]
  },
  {
   "cell_type": "code",
   "execution_count": 92,
   "metadata": {
    "collapsed": false
   },
   "outputs": [
    {
     "name": "stdout",
     "output_type": "stream",
     "text": [
      "Rectangulo de 3 x 4\n"
     ]
    }
   ],
   "source": [
    "print(Rectangulo(3, 4))"
   ]
  },
  {
   "cell_type": "markdown",
   "metadata": {},
   "source": [
    "#### Herencia\n",
    "\n",
    "Un cuadrado es un tipo especial de rectángulo, donde base == altura. En vez de escribir una clase casi igual, hagamos una \"herencia\""
   ]
  },
  {
   "cell_type": "code",
   "execution_count": 93,
   "metadata": {
    "collapsed": false
   },
   "outputs": [],
   "source": [
    "class Cuadrado(Rectangulo): # cuadrado es una subclase de rectángulo.\n",
    "    def __init__(self, lado):\n",
    "        # igualito a papá rectángulo\n",
    "        super(Cuadrado, self).__init__(lado, lado) # create como si fueses un rectángulo, de base lado y altura lado"
   ]
  },
  {
   "cell_type": "code",
   "execution_count": 102,
   "metadata": {
    "collapsed": false
   },
   "outputs": [
    {
     "data": {
      "text/plain": [
       "6.25"
      ]
     },
     "execution_count": 102,
     "metadata": {},
     "output_type": "execute_result"
    }
   ],
   "source": [
    "cuadrado = Cuadrado(2.5)\n",
    "cuadrado.area()"
   ]
  },
  {
   "cell_type": "markdown",
   "metadata": {},
   "source": [
    "En python no sólo podemos reusar código \"verticalmente\" (herencia simple). Podemos incorporar \"comportamientos\" de multiples clases padre (herencia múltiple). Esto es lo que se conoce como el patrón \"Mixin\". \n",
    "\n"
   ]
  },
  {
   "cell_type": "code",
   "execution_count": 110,
   "metadata": {
    "collapsed": false
   },
   "outputs": [
    {
     "name": "stdout",
     "output_type": "stream",
     "text": [
      "Soy un CuadradoVolador de 4 x 4 y estoy volando!\n"
     ]
    },
    {
     "data": {
      "text/plain": [
       "16"
      ]
     },
     "execution_count": 110,
     "metadata": {},
     "output_type": "execute_result"
    }
   ],
   "source": [
    "class OVNI(object):\n",
    "    \n",
    "    def volar(self):\n",
    "        print(\"Soy un %s y estoy volando!\" % self)\n",
    "        return 42\n",
    "\n",
    "class CuadradoVolador(Cuadrado, OVNI):\n",
    "    pass\n",
    "\n",
    "mi_cuadrado_volador = CuadradoVolador(4)\n",
    "mi_cuadrado_volador.volar()\n",
    "mi_cuadrado_volador.perimetro()"
   ]
  },
  {
   "cell_type": "markdown",
   "metadata": {},
   "source": [
    "Pero podemos tener un tipo especial CuadradoVolador que \"vuele\" de otra manera. Simplemente heredamos y reescribimos (o extendemos usando la función `super()`"
   ]
  },
  {
   "cell_type": "code",
   "execution_count": 111,
   "metadata": {
    "collapsed": false
   },
   "outputs": [
    {
     "name": "stdout",
     "output_type": "stream",
     "text": [
      "Soy un CuadradoVoladorSupersonico de 2 x 2 y estoy volando!\n",
      "y estoy volando supersónicamente a 42 metros!\n"
     ]
    }
   ],
   "source": [
    "class CuadradoVoladorSupersonico(CuadradoVolador):\n",
    "    \n",
    "    def volar(self): # esto se llama \"sobrecargar método\"\n",
    "        valor = super(CuadradoVoladorSupersonico, self).volar()\n",
    "        print(\"y estoy volando supersónicamente a %i metros!\" % valor )\n",
    "\n",
    "\n",
    "supersonico = CuadradoVoladorSupersonico(2)\n",
    "supersonico.volar()"
   ]
  },
  {
   "cell_type": "code",
   "execution_count": null,
   "metadata": {
    "collapsed": false
   },
   "outputs": [],
   "source": []
  }
 ],
 "metadata": {
  "kernelspec": {
   "display_name": "Python 3",
   "language": "python",
   "name": "python3"
  },
  "language_info": {
   "codemirror_mode": {
    "name": "ipython",
    "version": 3
   },
   "file_extension": ".py",
   "mimetype": "text/x-python",
   "name": "python",
   "nbconvert_exporter": "python",
   "pygments_lexer": "ipython3",
   "version": "3.4.2"
  }
 },
 "nbformat": 4,
 "nbformat_minor": 0
}
