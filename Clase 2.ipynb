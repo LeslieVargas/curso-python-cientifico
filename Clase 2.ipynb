{
 "cells": [
  {
   "cell_type": "markdown",
   "metadata": {},
   "source": [
    "# Introducción a Python para ciencias e ingenierías (notebook 2)\n",
    "\n",
    "\n",
    "Ing. Martín Gaitán\n",
    "\n",
    "Twitter: `@tin_nqn_`\n",
    "\n",
    "\n",
    "** Registrá tu asistencia a esta clase **\n",
    "\n",
    "### http://goo.gl/forms/olbkNwX700\n",
    "\n",
    "\n",
    "\n",
    "**Links útiles**\n",
    "\n",
    "Repositorio del curso:\n",
    "\n",
    "### http://bit.ly/cursopy\n",
    "\n",
    "Python \"temporal\" online: \n",
    "\n",
    "### http://try.jupyter.org\n",
    "\n",
    "- Descarga de [Python \"Anaconda\"](http://continuum.io/downloads#py34)\n",
    "- Resumen de [sintaxis markdown](https://github.com/jupyter/strata-sv-2015-tutorial/blob/master/resources/Working%20With%20Markdown%20Cells.ipynb)\n"
   ]
  },
  {
   "cell_type": "markdown",
   "metadata": {},
   "source": [
    "## Funciones\n",
    "\n",
    "\n",
    "Hasta ahora hemos definido código en una celda: declaramos parámetros en variables, luego hacemos alguna operación e imprimimos y/o devolvemos un resultado. \n",
    "\n",
    "Para generalizar esto podemos declarar **funciones**, de manera de que no sea necesario redefinir variables en el código para calcular/realizar nuestra operación con diferentes parámetros. En Python las funciones se definen con `def`"
   ]
  },
  {
   "cell_type": "code",
   "execution_count": 1,
   "metadata": {
    "collapsed": false
   },
   "outputs": [],
   "source": [
    "def cuadrado(numero):\n",
    "    \"\"\"Dado un escalar, devuelve su potencia cuadrada\"\"\"\n",
    "    \n",
    "    return numero**2"
   ]
  },
  {
   "cell_type": "code",
   "execution_count": 4,
   "metadata": {
    "collapsed": false
   },
   "outputs": [
    {
     "data": {
      "text/plain": [
       "9"
      ]
     },
     "execution_count": 4,
     "metadata": {},
     "output_type": "execute_result"
    }
   ],
   "source": [
    "cuadrado(3)"
   ]
  },
  {
   "cell_type": "code",
   "execution_count": 5,
   "metadata": {
    "collapsed": false
   },
   "outputs": [
    {
     "data": {
      "text/plain": [
       "4e+20"
      ]
     },
     "execution_count": 5,
     "metadata": {},
     "output_type": "execute_result"
    }
   ],
   "source": [
    "cuadrado(2e10)"
   ]
  },
  {
   "cell_type": "code",
   "execution_count": 6,
   "metadata": {
    "collapsed": false
   },
   "outputs": [
    {
     "data": {
      "text/plain": [
       "(24-10j)"
      ]
     },
     "execution_count": 6,
     "metadata": {},
     "output_type": "execute_result"
    }
   ],
   "source": [
    "cuadrado(5-1j)"
   ]
  },
  {
   "cell_type": "markdown",
   "metadata": {},
   "source": [
    "Notar que no **exigimos un tipo de dato** en la signatura. Python es dinámico: se esperan **comportamientos** en vez de tipos. Un tipo de datos puede implementar distintos comportamientos y *\"funcionar\"* \n",
    "\n",
    "Si un número, cualquiera sea su tipo, puede elevarse al cuadrado, ¿por qué deberíamos hacer una función equivalente para enteros, otra para flotantes de simple precisión y otra para complejos como se hace en otros lenguajes?\n",
    "\n",
    "Esto es lo que se conoce como **[Duck typing](https://es.wikipedia.org/wiki/Duck_typing)**, que es el estilo de orientación a objetos que utiliza Python. \n",
    "\n",
    "   *\"Cuando veo un ave que camina como un pato, nada como un pato y suena como un pato, a esa ave yo la llamo un pato.\"*\n",
    "\n"
   ]
  },
  {
   "cell_type": "code",
   "execution_count": 9,
   "metadata": {
    "collapsed": false
   },
   "outputs": [
    {
     "ename": "TypeError",
     "evalue": "unsupported operand type(s) for ** or pow(): 'str' and 'int'",
     "output_type": "error",
     "traceback": [
      "\u001b[1;31m---------------------------------------------------------------------------\u001b[0m\n\u001b[1;31mTypeError\u001b[0m                                 Traceback (most recent call last)",
      "\u001b[1;32m<ipython-input-9-96c34a475a00>\u001b[0m in \u001b[0;36m<module>\u001b[1;34m()\u001b[0m\n\u001b[1;32m----> 1\u001b[1;33m \u001b[0mcuadrado\u001b[0m\u001b[1;33m(\u001b[0m\u001b[1;34m\"hola mundo\"\u001b[0m\u001b[1;33m)\u001b[0m\u001b[1;33m\u001b[0m\u001b[0m\n\u001b[0m",
      "\u001b[1;32m<ipython-input-3-1e7510d5ed27>\u001b[0m in \u001b[0;36mcuadrado\u001b[1;34m(numero)\u001b[0m\n\u001b[0;32m      2\u001b[0m     \u001b[1;34m\"\"\"Dado un escalar, devuelve su potencia cuadrada\"\"\"\u001b[0m\u001b[1;33m\u001b[0m\u001b[0m\n\u001b[0;32m      3\u001b[0m \u001b[1;33m\u001b[0m\u001b[0m\n\u001b[1;32m----> 4\u001b[1;33m     \u001b[1;32mreturn\u001b[0m \u001b[0mnumero\u001b[0m\u001b[1;33m**\u001b[0m\u001b[1;36m2\u001b[0m\u001b[1;33m\u001b[0m\u001b[0m\n\u001b[0m",
      "\u001b[1;31mTypeError\u001b[0m: unsupported operand type(s) for ** or pow(): 'str' and 'int'"
     ]
    }
   ],
   "source": [
    "cuadrado(\"hola mundo\")"
   ]
  },
  {
   "cell_type": "markdown",
   "metadata": {},
   "source": [
    "Obviamente, si el objeto (el tipo del objeto) que pasamos no soporta el comportamiento que esperamos (en este caso no se puede \"elevar al cuadrado\" una cadena) fallará. \n",
    "\n",
    "Pero es mejor que nos avise del error, ¿no? ¿Por qué querríamos elevar una cadena al cuadrado? ¿qué significado tendría?\n",
    "\n",
    "\n",
    "![](http://img.desmotivaciones.es/201109/CliffRobertsonSpiderman1.jpg)\n",
    "\n",
    "\n",
    "\n",
    "\n",
    "#### Parámetros y más parámetros\n",
    "\n",
    "La definción de funciones es muy flexible. No exige ni siquiera pasar parámetros o devolver resultados\n"
   ]
  },
  {
   "cell_type": "code",
   "execution_count": 45,
   "metadata": {
    "collapsed": false
   },
   "outputs": [
    {
     "name": "stdout",
     "output_type": "stream",
     "text": [
      "¡Hola curso de extension!\n"
     ]
    }
   ],
   "source": [
    "# definimos una funcion que no recibe ni devuelve parámetros\n",
    "def hola():\n",
    "    \"\"\"una función que saluda\"\"\"\n",
    "    \n",
    "    print(\"¡Hola curso de extension!\")\n",
    "\n",
    "hola()   # llamamos a esa función"
   ]
  },
  {
   "cell_type": "markdown",
   "metadata": {},
   "source": [
    "Si la función no tiene un `return` y termina lo que devuelve es `None`."
   ]
  },
  {
   "cell_type": "code",
   "execution_count": 46,
   "metadata": {
    "collapsed": false
   },
   "outputs": [
    {
     "name": "stdout",
     "output_type": "stream",
     "text": [
      "¡Hola curso de extension!\n",
      "None\n"
     ]
    }
   ],
   "source": [
    "saludo = hola()\n",
    "print(saludo)"
   ]
  },
  {
   "cell_type": "markdown",
   "metadata": {
    "collapsed": true
   },
   "source": [
    "### docstrings\n",
    "\n",
    "Módulos, funciones, métodos y clases pueden tener una \"cadena de documentación\", que se define como un string \n",
    "en la primera linea del cuerpo. Python automáticamente asigna esa cadena al atributo `__doc__` del objeto en cuestión.\n",
    "\n",
    "Los `docstrings` son opcionales pero muy recomendados, porque a diferencia de los comentarios, son los que se muestran en la ayuda interactiva y tambien pueden post-procesarse para generar documentación de referencia automática\n",
    "\n"
   ]
  },
  {
   "cell_type": "code",
   "execution_count": 48,
   "metadata": {
    "collapsed": false
   },
   "outputs": [
    {
     "data": {
      "text/plain": [
       "'una función que saluda'"
      ]
     },
     "execution_count": 48,
     "metadata": {},
     "output_type": "execute_result"
    }
   ],
   "source": [
    "hola.__doc__"
   ]
  },
  {
   "cell_type": "markdown",
   "metadata": {},
   "source": [
    "`__doc__` es un atributo que se puede escribir, por lo tanto podríamos asignarle un texto construído dinámicamente"
   ]
  },
  {
   "cell_type": "markdown",
   "metadata": {},
   "source": [
    "#### Múltiples puntos de salida\n",
    "\n",
    "También puede haber múltiples `return` en una función. El primero en ejecutarse determinará el valor que la función devuelve"
   ]
  },
  {
   "cell_type": "code",
   "execution_count": 38,
   "metadata": {
    "collapsed": false
   },
   "outputs": [
    {
     "data": {
      "text/plain": [
       "'Buenas tardes, señores'"
      ]
     },
     "execution_count": 38,
     "metadata": {},
     "output_type": "execute_result"
    }
   ],
   "source": [
    "def saludo(coloquial):\n",
    "    if coloquial:\n",
    "        return \"Hola chochamus!\"\n",
    "    else:\n",
    "        return \"Buenas tardes, señores\"\n",
    "    \n",
    "    # tambien podria ser una linea con la estructura ternaria\n",
    "    # return \"Hola chochamus!\" if coloquial else  \"Buenas tardes, señores\"\n",
    "    \n",
    "\n",
    "hola(False)"
   ]
  },
  {
   "cell_type": "markdown",
   "metadata": {},
   "source": [
    "### Parámetros opcionales\n",
    "\n",
    "Se pueden definir parámetros opcionales, que **toman un valor *default* ** cuando no se los explicíta"
   ]
  },
  {
   "cell_type": "markdown",
   "metadata": {},
   "source": [
    "La función `saluda` recibe un parámetro requerido `nombre` (es requerido porque no tiene valor por omisión)  y dos parámetros opcionales (`saludo` y `sufijo`). \n",
    "\n",
    "- Si sólo paso 1 parámetro será `nombre` y los valores default se usarán para los otros parámetros \n",
    "- Si paso 2 se usaran para `nombre` y `saludo` mientras que `sufijo` usará el default\n",
    "- Si paso todos los parámetros no se usaran los valores por omisión.\n"
   ]
  },
  {
   "cell_type": "code",
   "execution_count": 15,
   "metadata": {
    "collapsed": false
   },
   "outputs": [
    {
     "name": "stdout",
     "output_type": "stream",
     "text": [
      "Hola Lionel, ¿qué tal?\n",
      "¿cómo va? Martín, ¿qué tal?\n",
      "Che José, cómo decís peladito?\n"
     ]
    }
   ],
   "source": [
    "def saludar(nombre, saludo=\"Hola\", sufijo=\"¿qué tal?\"):\n",
    "    \"\"\"Dado un nombre y, opcionalmente, un saludo y/o sufijo, devuelve \n",
    "    una cadena saludo + nombre + sufijo\"\"\"\n",
    "    \n",
    "    return \"{} {}, {}\".format(saludo, nombre, sufijo)  \n",
    "\n",
    "print(saludar(\"Lionel\"))\n",
    "print(saludar(\"Martín\", \"¿cómo va?\"))\n",
    "print(saludar(\"José\", \"Che\", \"cómo decís peladito?\"))"
   ]
  },
  {
   "cell_type": "markdown",
   "metadata": {},
   "source": [
    "Pero ¿qué pasa si quiero usar el default para `saludo` pero no para `sufijo`? \n",
    "\n",
    "Podemos pasar los **parámetros por nombre**"
   ]
  },
  {
   "cell_type": "code",
   "execution_count": 25,
   "metadata": {
    "collapsed": false
   },
   "outputs": [
    {
     "data": {
      "text/plain": [
       "'Hola Lionel, que golazo hiciste'"
      ]
     },
     "execution_count": 25,
     "metadata": {},
     "output_type": "execute_result"
    }
   ],
   "source": [
    "saludar('Lionel', sufijo=\"que golazo hiciste\")    # saludo no se explicitó, se usa el default (\"Hola\")"
   ]
  },
  {
   "cell_type": "markdown",
   "metadata": {},
   "source": [
    "Entre los parámetros por nombre no importa el órden, pero si mezclamos las dos formas, los **parámetros por posición, deben ir antes** de los parámetros por nombre. "
   ]
  },
  {
   "cell_type": "markdown",
   "metadata": {},
   "source": [
    "#### Ejercicios\n",
    "\n",
    "1. Definir una función para encontrar las raíces en el plano real en la ecuación de segundo grado  ($x_{1,2} = \\frac{-b \\pm \\sqrt {b^2-4ac}}{2a}$). El parámetro `a` es obligatorio, y `b` y `c` son opcionales con default 0. Devuelve una tupla con ambas raices. Luego mejore la implemtación para encontrar también las raices en el plano complejo cuando sea necesario. \n",
    "\n",
    "2. Definir una función `marquesina` que, dado un objeto, la devuelve como un texto decorado en una caja. El, ancho, alto del relleno y el caracter de decoración son parámetros opcionales. Por ejemplo, dada `\"Hola\"`, devuelve\n",
    "\n",
    "```\n",
    "     *****************\n",
    "     *      Hola     *\n",
    "     *****************\n",
    "```\n",
    "   \n",
    "3. Defina una función que recibe un texto y devuelve la"
   ]
  },
  {
   "cell_type": "code",
   "execution_count": null,
   "metadata": {
    "collapsed": true
   },
   "outputs": [],
   "source": [
    "# una posible implementación de la función marquesina\n",
    "%load https://gist.githubusercontent.com/mgaitan/6319640/raw/8183dc5b214397f0ff2d38a25ebdd128a1a3ca0f/gistfile1.txt"
   ]
  },
  {
   "cell_type": "markdown",
   "metadata": {},
   "source": [
    "#### Parámetros arbitrarios: `*args` y `**kwargs`\n",
    "\n",
    "Hasta acá todo bonito. Pero ¿qué tal si quiero definir una función que acepte una cantidad arbitraria de parámetros? Acá vienen `*args` y `**kwargs`. Por ejemplo la función `zip` recibe una cantidad arbitraria de iteradores y devuelve tuplas con los i-elementos de cada una"
   ]
  },
  {
   "cell_type": "code",
   "execution_count": 36,
   "metadata": {
    "collapsed": false
   },
   "outputs": [
    {
     "data": {
      "text/plain": [
       "[(1, 'a', 'alfa'), (2, 'b', 'beta'), (3, 'c', 'gama')]"
      ]
     },
     "execution_count": 36,
     "metadata": {},
     "output_type": "execute_result"
    }
   ],
   "source": [
    "list(zip((1, 2, 3), ('a', 'b', 'c'), ('alfa', 'beta', 'gama')))"
   ]
  },
  {
   "cell_type": "markdown",
   "metadata": {},
   "source": [
    "¿Como se define una función como zip para recibir cuantos argumentos quiera?"
   ]
  },
  {
   "cell_type": "code",
   "execution_count": 34,
   "metadata": {
    "collapsed": false
   },
   "outputs": [],
   "source": [
    "def prod(*args):\n",
    "    \"\"\"\n",
    "    calcula la productoria de todos los argumentos dados\n",
    "    \"\"\"\n",
    "    \n",
    "    # print(args)           # args es una tupla de los argumentos posicionales dados. \n",
    "    producto = 1\n",
    "    for num in args:        \n",
    "        producto *= num     # igual a producto = producto * num\n",
    "    return producto"
   ]
  },
  {
   "cell_type": "code",
   "execution_count": 32,
   "metadata": {
    "collapsed": false
   },
   "outputs": [
    {
     "data": {
      "text/plain": [
       "24"
      ]
     },
     "execution_count": 32,
     "metadata": {},
     "output_type": "execute_result"
    }
   ],
   "source": [
    "'prod(3, 4, 2)"
   ]
  },
  {
   "cell_type": "code",
   "execution_count": 33,
   "metadata": {
    "collapsed": false
   },
   "outputs": [
    {
     "data": {
      "text/plain": [
       "-223.87199999999999"
      ]
     },
     "execution_count": 33,
     "metadata": {},
     "output_type": "execute_result"
    }
   ],
   "source": [
    "prod(10, 20, -4, 1.2, .2332)"
   ]
  },
  {
   "cell_type": "markdown",
   "metadata": {},
   "source": [
    "Por otro lado, tenemos como ejemplo el constructor `dict` que acepta una argumentos arbitrarios por clave para crear un diccionario"
   ]
  },
  {
   "cell_type": "code",
   "execution_count": 58,
   "metadata": {
    "collapsed": false
   },
   "outputs": [
    {
     "data": {
      "text/plain": [
       "{'Carlitos': 10, 'Gaitán': 'Jugador Nº 12'}"
      ]
     },
     "execution_count": 58,
     "metadata": {},
     "output_type": "execute_result"
    }
   ],
   "source": [
    "dict(Carlitos=10, Gaitán='Jugador Nº 12')"
   ]
  },
  {
   "cell_type": "markdown",
   "metadata": {},
   "source": [
    "¿Cómo definir una función que permita esa flexibilidad? Eso se hace con `**kwarg`"
   ]
  },
  {
   "cell_type": "code",
   "execution_count": 68,
   "metadata": {
    "collapsed": false
   },
   "outputs": [],
   "source": [
    "def itemizar(**kwargs):\n",
    "    for clave, valor in kwargs.items():\n",
    "        print('* {0} ({1})'.format(clave, valor))"
   ]
  },
  {
   "cell_type": "code",
   "execution_count": 69,
   "metadata": {
    "collapsed": false
   },
   "outputs": [
    {
     "name": "stdout",
     "output_type": "stream",
     "text": [
      "* tornillos (10)\n",
      "* lija (2)\n"
     ]
    }
   ],
   "source": [
    "itemizar(tornillos=10, lija=2)"
   ]
  },
  {
   "cell_type": "markdown",
   "metadata": {},
   "source": [
    "En resúmen, con `*args` se indica *\"mapear todos los argumentos posicionales no explícitos a una tupla llamada `args`\"*. Y con `**kwargs` se indica \"mapear todos los argumentos de palabra clave no explícitos a un diccionario llamado `kwargs`\"."
   ]
  },
  {
   "cell_type": "code",
   "execution_count": 55,
   "metadata": {
    "collapsed": false
   },
   "outputs": [
    {
     "name": "stdout",
     "output_type": "stream",
     "text": [
      "a1= 4\n",
      "args= (34,)\n",
      "kwargs= {}\n"
     ]
    }
   ],
   "source": [
    "def f(a, *args, **kwargs):\n",
    "    print('a1=', a1)\n",
    "    print('args=', args)\n",
    "    print('kwargs=', kwargs)\n"
   ]
  },
  {
   "cell_type": "code",
   "execution_count": null,
   "metadata": {
    "collapsed": true
   },
   "outputs": [],
   "source": [
    "f(4)   # solo definido el parámetro común a"
   ]
  },
  {
   "cell_type": "code",
   "execution_count": 56,
   "metadata": {
    "collapsed": false
   },
   "outputs": [
    {
     "name": "stdout",
     "output_type": "stream",
     "text": [
      "a1= a1\n",
      "args= (1, 2)\n",
      "kwargs= {}\n"
     ]
    }
   ],
   "source": [
    "f('a1', 1, 2)    # 'a1' y dos argumentos posicionales arbitrarios"
   ]
  },
  {
   "cell_type": "code",
   "execution_count": 57,
   "metadata": {
    "collapsed": false
   },
   "outputs": [
    {
     "name": "stdout",
     "output_type": "stream",
     "text": [
      "a1= 2\n",
      "args= (1, 2)\n",
      "kwargs= {'color': 'azul', 'detallado': True}\n"
     ]
    }
   ],
   "source": [
    "f('2', 1, 2, color='azul', detallado=True)   # "
   ]
  },
  {
   "cell_type": "markdown",
   "metadata": {},
   "source": [
    "\n",
    "\n",
    "** NOTA **: No es necesario los nombres \"args\" y \"kwargs\", podemos llamarlas diferente! los simbolos que indican cantidades arbitrarias de parametros son `*` y `**`. Además es posible poner parametros \"comunes\" antes de los parametros arbritarios.\n",
    "\n",
    "\n",
    "\n"
   ]
  },
  {
   "cell_type": "markdown",
   "metadata": {},
   "source": [
    "\n",
    "#### La inversa: Desempacar secuencias o diccionarios directamente como argumentos\n",
    "\n",
    "Si ya tengo los parámetros que quiero pasar a una función, los \"desempaco\". \n"
   ]
  },
  {
   "cell_type": "code",
   "execution_count": 78,
   "metadata": {
    "collapsed": false
   },
   "outputs": [
    {
     "data": {
      "text/plain": [
       "'Che José, sos vivo?'"
      ]
     },
     "execution_count": 78,
     "metadata": {},
     "output_type": "execute_result"
    }
   ],
   "source": [
    "otra_data = ('Che', 'sos vivo?')\n",
    "\n",
    "saludar('José', *otra_data)   # el primer elemento desempacado, va al primer arg posicional esperado... \n"
   ]
  },
  {
   "cell_type": "code",
   "execution_count": 80,
   "metadata": {
    "collapsed": false
   },
   "outputs": [
    {
     "data": {
      "text/plain": [
       "'Ey Cristian, qué onda?'"
      ]
     },
     "execution_count": 80,
     "metadata": {},
     "output_type": "execute_result"
    }
   ],
   "source": [
    "mi_data = {'nombre': 'Cristian', 'saludo': 'Ey', 'sufijo': 'qué onda?'}\n",
    "\n",
    "saludar(**mi_data)"
   ]
  },
  {
   "cell_type": "markdown",
   "metadata": {},
   "source": [
    "Obviamente, si pasamos más parámetros de los esperados por la función (y no permite parámetros arbritrarios), dará un error"
   ]
  },
  {
   "cell_type": "code",
   "execution_count": 84,
   "metadata": {
    "collapsed": false
   },
   "outputs": [
    {
     "ename": "TypeError",
     "evalue": "saludar() got an unexpected keyword argument 'color'",
     "output_type": "error",
     "traceback": [
      "\u001b[1;31m---------------------------------------------------------------------------\u001b[0m",
      "\u001b[1;31mTypeError\u001b[0m                                 Traceback (most recent call last)",
      "\u001b[1;32m<ipython-input-84-f652fb7f4a1f>\u001b[0m in \u001b[0;36m<module>\u001b[1;34m()\u001b[0m\n\u001b[0;32m      1\u001b[0m \u001b[0mmi_data\u001b[0m \u001b[1;33m=\u001b[0m \u001b[1;33m{\u001b[0m\u001b[1;34m'nombre'\u001b[0m\u001b[1;33m:\u001b[0m \u001b[1;34m'Cristian'\u001b[0m\u001b[1;33m,\u001b[0m \u001b[1;34m'saludo'\u001b[0m\u001b[1;33m:\u001b[0m \u001b[1;34m'Ey'\u001b[0m\u001b[1;33m,\u001b[0m \u001b[1;34m'sufijo'\u001b[0m\u001b[1;33m:\u001b[0m \u001b[1;34m'qué onda'\u001b[0m\u001b[1;33m,\u001b[0m \u001b[1;34m'color'\u001b[0m\u001b[1;33m:\u001b[0m \u001b[1;34m'roja'\u001b[0m\u001b[1;33m}\u001b[0m\u001b[1;33m\u001b[0m\u001b[0m\n\u001b[1;32m----> 2\u001b[1;33m \u001b[0msaludar\u001b[0m\u001b[1;33m(\u001b[0m\u001b[1;33m**\u001b[0m\u001b[0mmi_data\u001b[0m\u001b[1;33m)\u001b[0m\u001b[1;33m\u001b[0m\u001b[0m\n\u001b[0m",
      "\u001b[1;31mTypeError\u001b[0m: saludar() got an unexpected keyword argument 'color'"
     ]
    }
   ],
   "source": [
    "mi_data = {'nombre': 'Cristian', 'saludo': 'Ey', 'sufijo': 'qué onda', 'color': 'roja'}\n",
    "saludar(**mi_data)"
   ]
  },
  {
   "cell_type": "markdown",
   "metadata": {},
   "source": [
    "### Espacios de nombre y paso por asignación\n",
    "\n",
    "Una función define un **espacio de nombre** (namespace), es decir, un contexto donde un nombre de variable refiere a un objeto univoco dentro de ese espacio. Si un nombre no existe en el espacio de nombre local, se busca en el espacio global (módulo o sesión)\n"
   ]
  },
  {
   "cell_type": "code",
   "execution_count": 99,
   "metadata": {
    "collapsed": false
   },
   "outputs": [
    {
     "data": {
      "text/plain": [
       "3.14"
      ]
     },
     "execution_count": 99,
     "metadata": {},
     "output_type": "execute_result"
    }
   ],
   "source": [
    "pi = 3.14\n",
    "\n",
    "def area(r):\n",
    "    return pi * r * r       # pi no está en en el espacio local, se usa el definido fuera de la función\n",
    "\n",
    "area(1)"
   ]
  },
  {
   "cell_type": "code",
   "execution_count": 100,
   "metadata": {
    "collapsed": false
   },
   "outputs": [
    {
     "name": "stdout",
     "output_type": "stream",
     "text": [
      "3.1415\n",
      "3.14\n"
     ]
    }
   ],
   "source": [
    "pi = 3.14\n",
    "\n",
    "def area2(r):\n",
    "    pi = 3.1415            # este nuevo objeto sobreescribe para el espacio de nombre local el valor de pi\n",
    "    return pi * r * r      # en este caso, se usa el pi pasado a la función\n",
    "\n",
    "print(area2(1))\n",
    "print(pi)                      # pero afuera sigue valiendo el del espacio global"
   ]
  },
  {
   "cell_type": "markdown",
   "metadata": {},
   "source": [
    "tip: dentro de cualquier namespace, la función `locals()` devuelve el diccionario de nombres definidos"
   ]
  },
  {
   "cell_type": "code",
   "execution_count": 104,
   "metadata": {
    "collapsed": false
   },
   "outputs": [
    {
     "name": "stdout",
     "output_type": "stream",
     "text": [
      "{'BLAH': 'bleh', 'b': 'algo', 'a': 2}\n"
     ]
    }
   ],
   "source": [
    "def namespaces(a, b):\n",
    "    BLAH = 'bleh'\n",
    "    print(locals())    \n",
    "\n",
    "namespaces(2, b='algo')"
   ]
  },
  {
   "cell_type": "markdown",
   "metadata": {},
   "source": [
    "En python se dice que los argumentos se pasan \"por asignación\", es decir, se asigna un nombre en el espacio de nombres local a un objeto existente, independientemente de si ya tiene un nombre en el espacio global.  Pero si ese objeto es mutable, la función podría modificar el objeto\n"
   ]
  },
  {
   "cell_type": "code",
   "execution_count": 110,
   "metadata": {
    "collapsed": false
   },
   "outputs": [
    {
     "name": "stdout",
     "output_type": "stream",
     "text": [
      "[10, 'b']\n"
     ]
    }
   ],
   "source": [
    "def f2(l):\n",
    "    l[0] = 10   \n",
    "    return l\n",
    "\n",
    "lista = ['a', 'b']\n",
    "print(f2(lista))"
   ]
  },
  {
   "cell_type": "code",
   "execution_count": 111,
   "metadata": {
    "collapsed": false
   },
   "outputs": [
    {
     "data": {
      "text/plain": [
       "[10, 'b']"
      ]
     },
     "execution_count": 111,
     "metadata": {},
     "output_type": "execute_result"
    }
   ],
   "source": [
    "# pero se modificó el objeto fuera de la funcion\n",
    "lista"
   ]
  },
  {
   "cell_type": "markdown",
   "metadata": {},
   "source": [
    "En general, siempre es mejor que la funciones devuelvan objetos nuevos"
   ]
  },
  {
   "cell_type": "code",
   "execution_count": 113,
   "metadata": {
    "collapsed": false
   },
   "outputs": [
    {
     "name": "stdout",
     "output_type": "stream",
     "text": [
      "[10, 'b']\n"
     ]
    },
    {
     "data": {
      "text/plain": [
       "['a', 'b']"
      ]
     },
     "execution_count": 113,
     "metadata": {},
     "output_type": "execute_result"
    }
   ],
   "source": [
    "def f2(l):\n",
    "    return [10] + l[1:]\n",
    "\n",
    "lista = ['a', 'b']\n",
    "print(f2(lista))\n",
    "lista"
   ]
  },
  {
   "cell_type": "markdown",
   "metadata": {},
   "source": [
    "### Ejercicios \n",
    "\n",
    "1. Dada las función `prod` y `marquesina` definidas con anterioridad, redefina `prod` agregando un parámetro opcional `enmamarcar` (`False` por defecto) que si es verdadero devuelve el resultado de la productoria en una marqeusina. Cualquier otro parámetro se pasa directamente a la función marquesina. \n",
    "\n",
    "2. Una función puede retornar cualquier objeto y en Python todo es un objeto. Defina una [función de orden superior](https://es.wikipedia.org/wiki/Funci%C3%B3n_de_orden_superior) (función que devuelve funciones) llamada `lineal` que dados los coeficientes `a` y `b` devuelve $f(x) = ax + b$. \n",
    "\n",
    "3. Mejorar la función anterior, generando un docstring dinámico para cada función devuelta indicando la función lineal específica que resuelve"
   ]
  },
  {
   "cell_type": "markdown",
   "metadata": {},
   "source": [
    "## Generadores\n",
    "\n",
    "Los generadores son similares a las funciones, pero permiten generar **una serie de resultados**, devolviendo un valor por cada llamada. Se definen casi igual que las funciones, pero en vez de `return` se utiliza `yield` que funciona como **una pausa** (que devuelve un valor) en el generador. \n"
   ]
  },
  {
   "cell_type": "code",
   "execution_count": 128,
   "metadata": {
    "collapsed": true
   },
   "outputs": [],
   "source": [
    "def a():\n",
    "    yield 1\n",
    "    yield 2\n",
    "    yield 10"
   ]
  },
  {
   "cell_type": "code",
   "execution_count": 130,
   "metadata": {
    "collapsed": false
   },
   "outputs": [
    {
     "data": {
      "text/plain": [
       "[1, 2, 10]"
      ]
     },
     "execution_count": 130,
     "metadata": {},
     "output_type": "execute_result"
    }
   ],
   "source": [
    "list(a())"
   ]
  },
  {
   "cell_type": "code",
   "execution_count": 131,
   "metadata": {
    "collapsed": false
   },
   "outputs": [
    {
     "ename": "KeyboardInterrupt",
     "evalue": "",
     "output_type": "error",
     "traceback": [
      "\u001b[1;31m---------------------------------------------------------------------------\u001b[0m",
      "\u001b[1;31mKeyboardInterrupt\u001b[0m                         Traceback (most recent call last)",
      "\u001b[1;32m<ipython-input-131-8833f41d4bb5>\u001b[0m in \u001b[0;36m<module>\u001b[1;34m()\u001b[0m\n\u001b[0;32m      7\u001b[0m         \u001b[0ma\u001b[0m\u001b[1;33m,\u001b[0m \u001b[0mb\u001b[0m \u001b[1;33m=\u001b[0m \u001b[0mb\u001b[0m\u001b[1;33m,\u001b[0m \u001b[0ma\u001b[0m \u001b[1;33m+\u001b[0m \u001b[0mb\u001b[0m\u001b[1;33m\u001b[0m\u001b[0m\n\u001b[0;32m      8\u001b[0m \u001b[1;33m\u001b[0m\u001b[0m\n\u001b[1;32m----> 9\u001b[1;33m \u001b[0mlist\u001b[0m\u001b[1;33m(\u001b[0m\u001b[0mfibonacci\u001b[0m\u001b[1;33m(\u001b[0m\u001b[1;33m)\u001b[0m\u001b[1;33m)\u001b[0m\u001b[1;33m\u001b[0m\u001b[0m\n\u001b[0m",
      "\u001b[1;32m<ipython-input-131-8833f41d4bb5>\u001b[0m in \u001b[0;36mfibonacci\u001b[1;34m()\u001b[0m\n\u001b[0;32m      5\u001b[0m     \u001b[1;32mwhile\u001b[0m \u001b[1;32mTrue\u001b[0m\u001b[1;33m:\u001b[0m\u001b[1;33m\u001b[0m\u001b[0m\n\u001b[0;32m      6\u001b[0m         \u001b[1;32myield\u001b[0m \u001b[0ma\u001b[0m\u001b[1;33m\u001b[0m\u001b[0m\n\u001b[1;32m----> 7\u001b[1;33m         \u001b[0ma\u001b[0m\u001b[1;33m,\u001b[0m \u001b[0mb\u001b[0m \u001b[1;33m=\u001b[0m \u001b[0mb\u001b[0m\u001b[1;33m,\u001b[0m \u001b[0ma\u001b[0m \u001b[1;33m+\u001b[0m \u001b[0mb\u001b[0m\u001b[1;33m\u001b[0m\u001b[0m\n\u001b[0m\u001b[0;32m      8\u001b[0m \u001b[1;33m\u001b[0m\u001b[0m\n\u001b[0;32m      9\u001b[0m \u001b[0mlist\u001b[0m\u001b[1;33m(\u001b[0m\u001b[0mfibonacci\u001b[0m\u001b[1;33m(\u001b[0m\u001b[1;33m)\u001b[0m\u001b[1;33m)\u001b[0m\u001b[1;33m\u001b[0m\u001b[0m\n",
      "\u001b[1;31mKeyboardInterrupt\u001b[0m: "
     ]
    }
   ],
   "source": [
    "def fibonacci():\n",
    "    \"\"\"Generador de numeros de fibonacci\"\"\"\n",
    "    yield 0\n",
    "    a, b = 0, 1\n",
    "    while True:\n",
    "        yield a\n",
    "        a, b = b, a + b\n",
    "\n",
    "list(fibonacci())"
   ]
  },
  {
   "cell_type": "code",
   "execution_count": 122,
   "metadata": {
    "collapsed": false
   },
   "outputs": [
    {
     "data": {
      "text/plain": [
       "[<generator object fibonacci at 0x7f43b564b318>,\n",
       " <generator object fibonacci at 0x7f43b564b168>,\n",
       " <generator object fibonacci at 0x7f43b564b6c0>,\n",
       " <generator object fibonacci at 0x7f43b564ba68>,\n",
       " <generator object fibonacci at 0x7f43b564bc18>,\n",
       " <generator object fibonacci at 0x7f43b564b708>,\n",
       " <generator object fibonacci at 0x7f43b564bb40>,\n",
       " <generator object fibonacci at 0x7f43b564b4c8>,\n",
       " <generator object fibonacci at 0x7f43b564ba20>,\n",
       " <generator object fibonacci at 0x7f43b564b5a0>]"
      ]
     },
     "execution_count": 122,
     "metadata": {},
     "output_type": "execute_result"
    }
   ],
   "source": [
    "def fibonacci():\n",
    "    \"\"\"Fibonacci numbers generator\"\"\"\n",
    "    a, b = 0, 1\n",
    "    while True:\n",
    "        yield a\n",
    "        a, b = b, a + b"
   ]
  },
  {
   "cell_type": "markdown",
   "metadata": {},
   "source": [
    "## Manejo de errores\n",
    "\n",
    "Ya vimos que a veces suceden errores: Por ejemplo, cuando apuntamos a un elemento mayor al tamaño de una secuencia, con una clave que no existe, cuando dividimos por cero, etc. \n",
    "\n",
    "No hay problema interactivamente, porque podemos corregir y reintentar (lo que es genial), pero muchas veces queremos o necesitamos que el flujo del programa siga. Por ejemplo:\n",
    "\n",
    "\n",
    "http://docs.python.org.ar/tutorial/3/errors.html\n"
   ]
  },
  {
   "cell_type": "code",
   "execution_count": 69,
   "metadata": {
    "collapsed": false,
    "scrolled": true
   },
   "outputs": [
    {
     "name": "stdout",
     "output_type": "stream",
     "text": [
      "ingrese un numero0\n",
      "hubo un error de division por cero\n",
      "bloque final\n"
     ]
    }
   ],
   "source": [
    "\n",
    "try:\n",
    "    numero = float(input('ingrese un numero'))\n",
    "    print(10/numero)\n",
    "except ZeroDivisionError:\n",
    "    print(\"hubo un error de division por cero\")\n",
    "except ValueError:\n",
    "    print(\"hubo un error de valor. Poné un numero! \")\n",
    "finally:\n",
    "    print('bloque final')"
   ]
  },
  {
   "cell_type": "markdown",
   "metadata": {},
   "source": [
    "El bloque `try` / `except` sirve para esto. En el `except` se ponen el tipo de excepción (o una tupla de tipos de expeciones) que ese bloque capturará. Puede haber multiples bloques `except` y, opcionalemente, un bloque `finally` que se ejecuta SIEMPRE. \n",
    "\n",
    "Esto se usan mucho!  Es mejor pedir perdón (capturar potenciales errores) que pedir permiso (verificar tipo de dato). (Esperamos comportamientos y no tipos)\n",
    "    \n",
    "   \n"
   ]
  },
  {
   "cell_type": "markdown",
   "metadata": {},
   "source": [
    "## Lectura y escritura de archivos\n",
    "\n",
    "Siempre necesitamos leer y escribir archivos. Es la forma básica de interactuar con el resto del sistema, meter y sacar datos para la \"computación\". Como en Python todo es un objeto, lo que tenemos es un \"objeto manejador de archivos\" . La forma más básica de obtener uno es con la función `open()` que se le dice la ruta al archivo y el modo:\n",
    "\n",
    "\n",
    "       'r': lectura (default)\n",
    "       'w': sobreescritura\n",
    "       'a': agregar contenido al final\n",
    "       'r+': lectura/escritura\n",
    "       \n",
    "En Windows, agregando '`b`' al final del modo, lo abre en modo binario\n"
   ]
  },
  {
   "cell_type": "code",
   "execution_count": 73,
   "metadata": {
    "collapsed": false
   },
   "outputs": [
    {
     "name": "stdout",
     "output_type": "stream",
     "text": [
      "<_io.TextIOWrapper name='README.rst' mode='r' encoding='UTF-8'>\n"
     ]
    }
   ],
   "source": [
    "readme = open('README.rst')\n",
    "print(readme)"
   ]
  },
  {
   "cell_type": "code",
   "execution_count": 74,
   "metadata": {
    "collapsed": false
   },
   "outputs": [
    {
     "name": "stdout",
     "output_type": "stream",
     "text": [
      "Tutorial de Python para ciencias e ingenierías\n",
      "==============================================\n",
      "\n",
      "Un curso de Python orientado a estudiantes de ing\n"
     ]
    }
   ],
   "source": [
    "print(readme.read()[0:144])"
   ]
  },
  {
   "cell_type": "markdown",
   "metadata": {},
   "source": [
    "Atenti: el objeto manejador lleva internamente la **posición del cursor**. Por ejemplo, si invocan multiples veces el metodo `read()`, leerán porciones consecutivas del archivo. \n",
    "\n",
    "Métodos útiles: `read()`, `readlines()`, `write()`, `writelines()`\n",
    "\n",
    "A veces simplemente queremos hacer algo \"linea por linea\". En vez de usar `readlines()` y cargar todo en memoria (que puede ser grande), podemos iterar directamente sobre el archivo. "
   ]
  },
  {
   "cell_type": "code",
   "execution_count": 75,
   "metadata": {
    "collapsed": false
   },
   "outputs": [
    {
     "name": "stdout",
     "output_type": "stream",
     "text": [
      "Tutorial de Python para ciencias e ingenierías\n",
      "\n",
      "==============================================\n",
      "\n",
      "\n",
      "\n",
      "Un curso de Python orientado a estudiantes de ingenieria, ingenieros\n",
      "\n"
     ]
    }
   ],
   "source": [
    "readme = open('README.rst')\n",
    "for i, linea in enumerate(readme):\n",
    "    if i < 4:\n",
    "        print(linea)\n",
    "    else:\n",
    "        break"
   ]
  },
  {
   "cell_type": "code",
   "execution_count": 79,
   "metadata": {
    "collapsed": false
   },
   "outputs": [
    {
     "name": "stdout",
     "output_type": "stream",
     "text": [
      "Tutorial de Python para ciencias e ingenierías\n",
      "==============================================\n",
      "\n",
      "Un curso de Python orientado a estudiantes de ingenieria, ingenieros\n",
      "\n"
     ]
    }
   ],
   "source": [
    "readme2 = open('README.rst', 'r')\n",
    "print(\"\".join(readme2.readlines()[0:4]))\n"
   ]
  },
  {
   "cell_type": "markdown",
   "metadata": {},
   "source": [
    "Hasta que no se invoca al método `close()` el archivo está manejado en memoria por Python (y puede causar conflictos si queremos abrir el archivo desde otro programa). Como los objetos `file` saben usar un bloque `with` (manejador de contexto), podemos usarlo para que se cierre automáticamente. "
   ]
  },
  {
   "cell_type": "code",
   "execution_count": 19,
   "metadata": {
    "collapsed": false
   },
   "outputs": [
    {
     "name": "stdout",
     "output_type": "stream",
     "text": [
      "['==============================================\\n', '\\n', 'Un curso de Python orientado a estudiantes de ingenieria, ingenieros\\n', 'e investigadores.\\n']\n"
     ]
    }
   ],
   "source": [
    "with open('README.rst', 'r') as readme:\n",
    "    lineas = readme.readlines()[1:5] #mete las líneas en una lista\n",
    "print(lineas)\n"
   ]
  },
  {
   "cell_type": "markdown",
   "metadata": {},
   "source": [
    "#### Ejericio:\n",
    "\n",
    "Escriba una función que, dada la ruta de un archivo de texto, escriba otro con de igual nombre con prefijo `\"upper_\"` cuyo contenido es el del original convertido a mayúsculas"
   ]
  },
  {
   "cell_type": "code",
   "execution_count": 80,
   "metadata": {
    "collapsed": true
   },
   "outputs": [],
   "source": [
    "def convertidor(archivo):\n",
    "    with open(archivo, 'r') as entrada:\n",
    "        salida = entrada.read().upper()\n",
    "    with open('upper_' + archivo, 'w') as archivo_salida:\n",
    "        archivo_salida.write(salida)"
   ]
  },
  {
   "cell_type": "code",
   "execution_count": 81,
   "metadata": {
    "collapsed": true
   },
   "outputs": [],
   "source": []
  },
  {
   "cell_type": "markdown",
   "metadata": {},
   "source": [
    "## Clases y objetos ¿qué lo qué?\n",
    "\n",
    "No vamos a entrar en detalles sobre qué es la famosísima \"programación orientada a objetos\". Simplemente es una buena manera de estructurar código para repetirse menos y \"encapsular\" datos y comportamientos relacionados. Por ejemplo, cuando muchas funciones que reciben el mismo conjunto de parámetros, es un buen candidado a reescribirlo como una clase. "
   ]
  },
  {
   "cell_type": "code",
   "execution_count": 88,
   "metadata": {
    "collapsed": false
   },
   "outputs": [],
   "source": [
    "class Rectangulo(object):\n",
    "    def __init__(self, base, altura):\n",
    "        self.base = base\n",
    "        self.altura = altura\n",
    "    \n",
    "    def area(self):\n",
    "        return self.base * self.altura\n",
    "    \n",
    "    def perimetro(self):\n",
    "        return (self.base + self.altura) * 2\n",
    "\n",
    "# ya tengo la clase Rectangulo. \n",
    "# Ahora puedo definir uno en particular\n",
    "# un objeto tipo \"Rectangulo\". \n",
    "# Automáticamente se llama a la \"función\" inicializadoa __init__\n",
    "\n",
    "mi_rectangulo = Rectangulo(2, 4)\n",
    "mi_rectangulo2 = Rectangulo(4, 10)"
   ]
  },
  {
   "cell_type": "code",
   "execution_count": 26,
   "metadata": {
    "collapsed": false
   },
   "outputs": [
    {
     "data": {
      "text/plain": [
       "14"
      ]
     },
     "execution_count": 26,
     "metadata": {},
     "output_type": "execute_result"
    }
   ],
   "source": [
    "mi"
   ]
  },
  {
   "cell_type": "code",
   "execution_count": 89,
   "metadata": {
    "collapsed": false
   },
   "outputs": [
    {
     "data": {
      "text/plain": [
       "28"
      ]
     },
     "execution_count": 89,
     "metadata": {},
     "output_type": "execute_result"
    }
   ],
   "source": [
    "mi_rectangulo2.perimetro()"
   ]
  },
  {
   "cell_type": "markdown",
   "metadata": {},
   "source": [
    "Siempre es bueno definir el método `__str__` (`__unicode__` en python 2)"
   ]
  },
  {
   "cell_type": "code",
   "execution_count": 90,
   "metadata": {
    "collapsed": false
   },
   "outputs": [
    {
     "name": "stdout",
     "output_type": "stream",
     "text": [
      "<__main__.Rectangulo object at 0x7f3aadf0b828>\n"
     ]
    },
    {
     "data": {
      "text/plain": [
       "<__main__.Rectangulo at 0x7f3aadf0b828>"
      ]
     },
     "execution_count": 90,
     "metadata": {},
     "output_type": "execute_result"
    }
   ],
   "source": [
    "print(mi_rectangulo)\n",
    "mi_rectangulo"
   ]
  },
  {
   "cell_type": "code",
   "execution_count": 91,
   "metadata": {
    "collapsed": false
   },
   "outputs": [],
   "source": [
    "class Rectangulo(object):\n",
    "    def __init__(self, base, altura):\n",
    "        self.base = base\n",
    "        self.altura = altura\n",
    "    \n",
    "    def area(self):\n",
    "        return self.base * self.altura\n",
    "    \n",
    "    def perimetro(self):\n",
    "        return (self.base + self.altura) * 2\n",
    "    \n",
    "    def __str__(self):\n",
    "        return u\"%s de %s x %s\" % (type(self).__name__, self.base, self.altura)"
   ]
  },
  {
   "cell_type": "code",
   "execution_count": 92,
   "metadata": {
    "collapsed": false
   },
   "outputs": [
    {
     "name": "stdout",
     "output_type": "stream",
     "text": [
      "Rectangulo de 3 x 4\n"
     ]
    }
   ],
   "source": [
    "print(Rectangulo(3, 4))"
   ]
  },
  {
   "cell_type": "markdown",
   "metadata": {},
   "source": [
    "#### Herencia\n",
    "\n",
    "Un cuadrado es un tipo especial de rectángulo, donde base == altura. En vez de escribir una clase casi igual, hagamos una \"herencia\""
   ]
  },
  {
   "cell_type": "code",
   "execution_count": 93,
   "metadata": {
    "collapsed": false
   },
   "outputs": [],
   "source": [
    "class Cuadrado(Rectangulo): # cuadrado es una subclase de rectángulo.\n",
    "    def __init__(self, lado):\n",
    "        # igualito a papá rectángulo\n",
    "        super(Cuadrado, self).__init__(lado, lado) # create como si fueses un rectángulo, de base lado y altura lado"
   ]
  },
  {
   "cell_type": "code",
   "execution_count": 102,
   "metadata": {
    "collapsed": false
   },
   "outputs": [
    {
     "data": {
      "text/plain": [
       "6.25"
      ]
     },
     "execution_count": 102,
     "metadata": {},
     "output_type": "execute_result"
    }
   ],
   "source": [
    "cuadrado = Cuadrado(2.5)\n",
    "cuadrado.area()"
   ]
  },
  {
   "cell_type": "markdown",
   "metadata": {},
   "source": [
    "En python no sólo podemos reusar código \"verticalmente\" (herencia simple). Podemos incorporar \"comportamientos\" de multiples clases padre (herencia múltiple). Esto es lo que se conoce como el patrón \"Mixin\". \n",
    "\n"
   ]
  },
  {
   "cell_type": "code",
   "execution_count": 110,
   "metadata": {
    "collapsed": false
   },
   "outputs": [
    {
     "name": "stdout",
     "output_type": "stream",
     "text": [
      "Soy un CuadradoVolador de 4 x 4 y estoy volando!\n"
     ]
    },
    {
     "data": {
      "text/plain": [
       "16"
      ]
     },
     "execution_count": 110,
     "metadata": {},
     "output_type": "execute_result"
    }
   ],
   "source": [
    "class OVNI(object):\n",
    "    \n",
    "    def volar(self):\n",
    "        print(\"Soy un %s y estoy volando!\" % self)\n",
    "        return 42\n",
    "\n",
    "class CuadradoVolador(Cuadrado, OVNI):\n",
    "    pass\n",
    "\n",
    "mi_cuadrado_volador = CuadradoVolador(4)\n",
    "mi_cuadrado_volador.volar()\n",
    "mi_cuadrado_volador.perimetro()"
   ]
  },
  {
   "cell_type": "markdown",
   "metadata": {},
   "source": [
    "Pero podemos tener un tipo especial CuadradoVolador que \"vuele\" de otra manera. Simplemente heredamos y reescribimos (o extendemos usando la función `super()`"
   ]
  },
  {
   "cell_type": "code",
   "execution_count": 111,
   "metadata": {
    "collapsed": false
   },
   "outputs": [
    {
     "name": "stdout",
     "output_type": "stream",
     "text": [
      "Soy un CuadradoVoladorSupersonico de 2 x 2 y estoy volando!\n",
      "y estoy volando supersónicamente a 42 metros!\n"
     ]
    }
   ],
   "source": [
    "class CuadradoVoladorSupersonico(CuadradoVolador):\n",
    "    \n",
    "    def volar(self): # esto se llama \"sobrecargar método\"\n",
    "        valor = super(CuadradoVoladorSupersonico, self).volar()\n",
    "        print(\"y estoy volando supersónicamente a %i metros!\" % valor )\n",
    "\n",
    "\n",
    "supersonico = CuadradoVoladorSupersonico(2)\n",
    "supersonico.volar()"
   ]
  },
  {
   "cell_type": "code",
   "execution_count": null,
   "metadata": {
    "collapsed": false
   },
   "outputs": [],
   "source": []
  }
 ],
 "metadata": {
  "kernelspec": {
   "display_name": "Python 3",
   "language": "python",
   "name": "python3"
  },
  "language_info": {
   "codemirror_mode": {
    "name": "ipython",
    "version": 3
   },
   "file_extension": ".py",
   "mimetype": "text/x-python",
   "name": "python",
   "nbconvert_exporter": "python",
   "pygments_lexer": "ipython3",
   "version": "3.4.0"
  }
 },
 "nbformat": 4,
 "nbformat_minor": 0
}
